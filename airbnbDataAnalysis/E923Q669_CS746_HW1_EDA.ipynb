{
 "cells": [
  {
   "cell_type": "markdown",
   "id": "b1f0279e-f8af-4079-af42-ac6bad50bfb8",
   "metadata": {},
   "source": [
    "## INSTRUCTIONS - IMPORTANT:\n",
    "\n",
    "Every student is expected to submit their own, original solutions for this assignment. While collaborative discussions among classmates are encouraged for better understanding, it is crucial that the work you submit is your own. Copying or replicating someone else's solutions is a breach of academic integrity and will not be tolerated. The use of **AI tools** is also **prohibited** for this assignment."
   ]
  },
  {
   "cell_type": "markdown",
   "id": "1596d825",
   "metadata": {},
   "source": [
    "The dataset used in this assignment is derived from Inside Airbnb, available [here](http://data.insideairbnb.com/the-netherlands/north-holland/amsterdam/2023-06-05/visualisations/listings.csv). It is licensed under a [Creative Commons Attribution 4.0 International License](https://creativecommons.org/licenses/by/4.0/).\n",
    "\n",
    "**Please note that this dataset has been modified and adapted for the scope of this academic assignment. If you are interested in the original data or further Airbnb datasets, we encourage you to visit Inside Airbnb's website: [insideairbnb.com](http://insideairbnb.com).**\n"
   ]
  },
  {
   "cell_type": "markdown",
   "id": "8b607200-74f5-436a-95e1-b3d9d8f0518f",
   "metadata": {},
   "source": [
    "<h3> This assignment is divided into two main components: </h3>\n",
    "\n",
    "1. **Data Manipulation**: Focused on cleaning and preparing the dataset.\n",
    "2. **Exploratory Data Analysis (EDA)**: Concentrated on analyzing and interpreting the data."
   ]
  },
  {
   "cell_type": "markdown",
   "id": "f2900ce9",
   "metadata": {},
   "source": [
    "# PART-1 (Data Cleaning and Manipulation)\n",
    "\n",
    "We will begin by importing the required modules and reading the data file."
   ]
  },
  {
   "cell_type": "code",
   "execution_count": 1,
   "id": "82a7ff87-b67e-4670-83b6-5725b6abea96",
   "metadata": {
    "tags": []
   },
   "outputs": [],
   "source": [
    "import numpy as np\n",
    "from sklearn.datasets import load_iris\n",
    "from sklearn import preprocessing\n",
    "import pandas as pd\n",
    "import seaborn as sns\n",
    "from scipy import stats\n",
    "import matplotlib.pyplot as plt\n",
    "%matplotlib inline"
   ]
  },
  {
   "cell_type": "code",
   "execution_count": 2,
   "id": "3e33b6df-3ad0-418e-8088-958ddd75adb3",
   "metadata": {
    "tags": []
   },
   "outputs": [],
   "source": [
    "df = pd.read_csv(\"airbnb_final.csv\")"
   ]
  },
  {
   "cell_type": "code",
   "execution_count": 3,
   "id": "ab68d38f-2401-44b3-b8a8-fefb50045393",
   "metadata": {
    "tags": []
   },
   "outputs": [
    {
     "data": {
      "text/html": [
       "<div>\n",
       "<style scoped>\n",
       "    .dataframe tbody tr th:only-of-type {\n",
       "        vertical-align: middle;\n",
       "    }\n",
       "\n",
       "    .dataframe tbody tr th {\n",
       "        vertical-align: top;\n",
       "    }\n",
       "\n",
       "    .dataframe thead th {\n",
       "        text-align: right;\n",
       "    }\n",
       "</style>\n",
       "<table border=\"1\" class=\"dataframe\">\n",
       "  <thead>\n",
       "    <tr style=\"text-align: right;\">\n",
       "      <th></th>\n",
       "      <th>host_id</th>\n",
       "      <th>neighbourhood</th>\n",
       "      <th>latitude</th>\n",
       "      <th>longitude</th>\n",
       "      <th>room_type</th>\n",
       "      <th>price in $</th>\n",
       "      <th>minimum_nights</th>\n",
       "      <th>availability_365</th>\n",
       "      <th>Apartment_type</th>\n",
       "      <th>City</th>\n",
       "      <th>Rating</th>\n",
       "      <th>No_of_bed_rooms</th>\n",
       "      <th>No_of_beds</th>\n",
       "      <th>No_of_bathrooms</th>\n",
       "      <th>Bathroom_type</th>\n",
       "    </tr>\n",
       "  </thead>\n",
       "  <tbody>\n",
       "    <tr>\n",
       "      <th>0</th>\n",
       "      <td>3159.0</td>\n",
       "      <td>Oostelijk Havengebied - Indische Buurt</td>\n",
       "      <td>52.36435</td>\n",
       "      <td>4.94358</td>\n",
       "      <td>Private room</td>\n",
       "      <td>69.0</td>\n",
       "      <td>3.0</td>\n",
       "      <td>7.0</td>\n",
       "      <td>Condo</td>\n",
       "      <td>Amsterdam</td>\n",
       "      <td>4.89</td>\n",
       "      <td>1.0</td>\n",
       "      <td>1.0</td>\n",
       "      <td>1.5</td>\n",
       "      <td>shared</td>\n",
       "    </tr>\n",
       "    <tr>\n",
       "      <th>1</th>\n",
       "      <td>59484.0</td>\n",
       "      <td>Centrum-Oost</td>\n",
       "      <td>52.36407</td>\n",
       "      <td>4.89393</td>\n",
       "      <td>Private room</td>\n",
       "      <td>106.0</td>\n",
       "      <td>1.0</td>\n",
       "      <td>0.0</td>\n",
       "      <td>Townhouse</td>\n",
       "      <td>Amsterdam</td>\n",
       "      <td>4.44</td>\n",
       "      <td>1.0</td>\n",
       "      <td>1.0</td>\n",
       "      <td>NaN</td>\n",
       "      <td>private</td>\n",
       "    </tr>\n",
       "    <tr>\n",
       "      <th>2</th>\n",
       "      <td>1100324.0</td>\n",
       "      <td>De Pijp - Rivierenbuurt</td>\n",
       "      <td>52.35150</td>\n",
       "      <td>4.89656</td>\n",
       "      <td>Entire home/apt</td>\n",
       "      <td>270.0</td>\n",
       "      <td>4.0</td>\n",
       "      <td>2.0</td>\n",
       "      <td>Rental unit</td>\n",
       "      <td>Amsterdam</td>\n",
       "      <td>4.86</td>\n",
       "      <td>3.0</td>\n",
       "      <td>3.0</td>\n",
       "      <td>1.5</td>\n",
       "      <td>private</td>\n",
       "    </tr>\n",
       "    <tr>\n",
       "      <th>3</th>\n",
       "      <td>748161.0</td>\n",
       "      <td>Oud-Oost</td>\n",
       "      <td>52.36420</td>\n",
       "      <td>4.92829</td>\n",
       "      <td>Entire home/apt</td>\n",
       "      <td>200.0</td>\n",
       "      <td>3.0</td>\n",
       "      <td>0.0</td>\n",
       "      <td>Rental unit</td>\n",
       "      <td>Amsterdam</td>\n",
       "      <td>4.76</td>\n",
       "      <td>1.0</td>\n",
       "      <td>1.0</td>\n",
       "      <td>1.5</td>\n",
       "      <td>private</td>\n",
       "    </tr>\n",
       "    <tr>\n",
       "      <th>4</th>\n",
       "      <td>97647.0</td>\n",
       "      <td>Centrum-West</td>\n",
       "      <td>52.38761</td>\n",
       "      <td>4.89188</td>\n",
       "      <td>Private room</td>\n",
       "      <td>137.0</td>\n",
       "      <td>3.0</td>\n",
       "      <td>0.0</td>\n",
       "      <td>Houseboat</td>\n",
       "      <td>Amsterdam</td>\n",
       "      <td>4.94</td>\n",
       "      <td>1.0</td>\n",
       "      <td>1.0</td>\n",
       "      <td>1.5</td>\n",
       "      <td>private</td>\n",
       "    </tr>\n",
       "  </tbody>\n",
       "</table>\n",
       "</div>"
      ],
      "text/plain": [
       "     host_id                           neighbourhood  latitude  longitude  \\\n",
       "0     3159.0  Oostelijk Havengebied - Indische Buurt  52.36435    4.94358   \n",
       "1    59484.0                            Centrum-Oost  52.36407    4.89393   \n",
       "2  1100324.0                 De Pijp - Rivierenbuurt  52.35150    4.89656   \n",
       "3   748161.0                                Oud-Oost  52.36420    4.92829   \n",
       "4    97647.0                            Centrum-West  52.38761    4.89188   \n",
       "\n",
       "         room_type  price in $  minimum_nights  availability_365  \\\n",
       "0     Private room        69.0             3.0               7.0   \n",
       "1     Private room       106.0             1.0               0.0   \n",
       "2  Entire home/apt       270.0             4.0               2.0   \n",
       "3  Entire home/apt       200.0             3.0               0.0   \n",
       "4     Private room       137.0             3.0               0.0   \n",
       "\n",
       "  Apartment_type       City  Rating  No_of_bed_rooms  No_of_beds  \\\n",
       "0          Condo  Amsterdam    4.89              1.0         1.0   \n",
       "1      Townhouse  Amsterdam    4.44              1.0         1.0   \n",
       "2    Rental unit  Amsterdam    4.86              3.0         3.0   \n",
       "3    Rental unit  Amsterdam    4.76              1.0         1.0   \n",
       "4      Houseboat  Amsterdam    4.94              1.0         1.0   \n",
       "\n",
       "   No_of_bathrooms Bathroom_type  \n",
       "0              1.5        shared  \n",
       "1              NaN       private  \n",
       "2              1.5       private  \n",
       "3              1.5       private  \n",
       "4              1.5       private  "
      ]
     },
     "execution_count": 3,
     "metadata": {},
     "output_type": "execute_result"
    }
   ],
   "source": [
    "df.head()"
   ]
  },
  {
   "cell_type": "markdown",
   "id": "c065dce8",
   "metadata": {},
   "source": [
    "### 1.1. **What is the shape of the dataset?**"
   ]
  },
  {
   "cell_type": "code",
   "execution_count": 4,
   "id": "24dcb753-4172-43d8-b484-081f9ebbbaa2",
   "metadata": {
    "tags": []
   },
   "outputs": [
    {
     "data": {
      "text/plain": [
       "(7608, 15)"
      ]
     },
     "execution_count": 4,
     "metadata": {},
     "output_type": "execute_result"
    }
   ],
   "source": [
    "#Code goes here\n",
    "df.shape"
   ]
  },
  {
   "cell_type": "markdown",
   "id": "53955378",
   "metadata": {},
   "source": [
    "### 1.2 **Identify the data types of each column. Are there any columns that need type conversion?**"
   ]
  },
  {
   "cell_type": "code",
   "execution_count": 5,
   "id": "26c488ac-4992-4e8f-b3bb-e31ce5373c20",
   "metadata": {
    "tags": []
   },
   "outputs": [
    {
     "name": "stdout",
     "output_type": "stream",
     "text": [
      "<class 'pandas.core.frame.DataFrame'>\n",
      "RangeIndex: 7608 entries, 0 to 7607\n",
      "Data columns (total 15 columns):\n",
      " #   Column            Non-Null Count  Dtype  \n",
      "---  ------            --------------  -----  \n",
      " 0   host_id           7602 non-null   float64\n",
      " 1   neighbourhood     7608 non-null   object \n",
      " 2   latitude          7604 non-null   float64\n",
      " 3   longitude         7602 non-null   float64\n",
      " 4   room_type         7608 non-null   object \n",
      " 5   price in $        7598 non-null   float64\n",
      " 6   minimum_nights    7599 non-null   float64\n",
      " 7   availability_365  7607 non-null   float64\n",
      " 8   Apartment_type    7607 non-null   object \n",
      " 9   City              7607 non-null   object \n",
      " 10  Rating            6030 non-null   float64\n",
      " 11  No_of_bed_rooms   7324 non-null   float64\n",
      " 12  No_of_beds        7591 non-null   float64\n",
      " 13  No_of_bathrooms   6804 non-null   float64\n",
      " 14  Bathroom_type     7607 non-null   object \n",
      "dtypes: float64(10), object(5)\n",
      "memory usage: 891.7+ KB\n"
     ]
    }
   ],
   "source": [
    "# 1.2.1 Code to identify data types goes here.\n",
    "df.info()"
   ]
  },
  {
   "cell_type": "raw",
   "id": "32fcd176-c3ba-4b11-b599-1443f4bfde7f",
   "metadata": {
    "vscode": {
     "languageId": "raw"
    }
   },
   "source": [
    "1.2.2 List the columns that need their type changed.\n",
    "- host_id\n",
    "- minimum_nights\n",
    "- availability_365\n",
    "- No_of_bed_rooms\n",
    "- No_of_beds\n",
    "- No_of_bathrooms "
   ]
  },
  {
   "cell_type": "code",
   "execution_count": 6,
   "id": "5fd686a9-b4f8-49af-8b1c-0423374cdbbc",
   "metadata": {
    "tags": []
   },
   "outputs": [
    {
     "name": "stdout",
     "output_type": "stream",
     "text": [
      "<class 'pandas.core.frame.DataFrame'>\n",
      "RangeIndex: 7608 entries, 0 to 7607\n",
      "Data columns (total 15 columns):\n",
      " #   Column            Non-Null Count  Dtype  \n",
      "---  ------            --------------  -----  \n",
      " 0   host_id           7608 non-null   int64  \n",
      " 1   neighbourhood     7608 non-null   object \n",
      " 2   latitude          7604 non-null   float64\n",
      " 3   longitude         7602 non-null   float64\n",
      " 4   room_type         7608 non-null   object \n",
      " 5   price in $        7598 non-null   float64\n",
      " 6   minimum_nights    7599 non-null   float64\n",
      " 7   availability_365  7607 non-null   float64\n",
      " 8   Apartment_type    7607 non-null   object \n",
      " 9   City              7607 non-null   object \n",
      " 10  Rating            6030 non-null   float64\n",
      " 11  No_of_bed_rooms   7324 non-null   float64\n",
      " 12  No_of_beds        7591 non-null   float64\n",
      " 13  No_of_bathrooms   6804 non-null   float64\n",
      " 14  Bathroom_type     7607 non-null   object \n",
      "dtypes: float64(9), int64(1), object(5)\n",
      "memory usage: 891.7+ KB\n"
     ]
    }
   ],
   "source": [
    "# 1.2.3 change the host_id column to an integer\n",
    "df[\"host_id\"] = df[\"host_id\"].fillna(0).astype(int)\n",
    "df.info()"
   ]
  },
  {
   "cell_type": "markdown",
   "id": "7684276b",
   "metadata": {},
   "source": [
    "### 1.3. **Are there any duplicate rows in the dataset? If yes, how would you handle them?**"
   ]
  },
  {
   "cell_type": "code",
   "execution_count": 7,
   "id": "c1988573-15f6-47b3-acf9-2e57ac5decaf",
   "metadata": {
    "tags": []
   },
   "outputs": [
    {
     "name": "stdout",
     "output_type": "stream",
     "text": [
      "False    7608\n",
      "Name: count, dtype: int64\n"
     ]
    },
    {
     "data": {
      "text/plain": [
       "0       False\n",
       "1       False\n",
       "2       False\n",
       "3       False\n",
       "4       False\n",
       "        ...  \n",
       "7603    False\n",
       "7604    False\n",
       "7605    False\n",
       "7606    False\n",
       "7607    False\n",
       "Length: 7608, dtype: bool"
      ]
     },
     "execution_count": 7,
     "metadata": {},
     "output_type": "execute_result"
    }
   ],
   "source": [
    "# 1.3.1 check for duplicate values\n",
    "\n",
    "print(df.duplicated().value_counts())\n",
    "df.duplicated()\n",
    "\n"
   ]
  },
  {
   "cell_type": "raw",
   "id": "f345e347",
   "metadata": {
    "vscode": {
     "languageId": "raw"
    }
   },
   "source": [
    "1.3.2 How would you handle duplicate rows?\n",
    "There are no duplicate records present in the dataset. If there existed the duplicate records then I would drop all duplicate redundant data."
   ]
  },
  {
   "cell_type": "markdown",
   "id": "82b7d3f0",
   "metadata": {},
   "source": [
    "### 1.4. **Check for missing values, How would you handle the missing values in the dataset?**"
   ]
  },
  {
   "cell_type": "code",
   "execution_count": 8,
   "id": "40a3d1d9-1d7d-48ed-a30f-70875176eed1",
   "metadata": {
    "tags": []
   },
   "outputs": [
    {
     "data": {
      "text/plain": [
       "host_id                0\n",
       "neighbourhood          0\n",
       "latitude               4\n",
       "longitude              6\n",
       "room_type              0\n",
       "price in $            10\n",
       "minimum_nights         9\n",
       "availability_365       1\n",
       "Apartment_type         1\n",
       "City                   1\n",
       "Rating              1578\n",
       "No_of_bed_rooms      284\n",
       "No_of_beds            17\n",
       "No_of_bathrooms      804\n",
       "Bathroom_type          1\n",
       "dtype: int64"
      ]
     },
     "execution_count": 8,
     "metadata": {},
     "output_type": "execute_result"
    }
   ],
   "source": [
    "# 1.4.1 check for missing values\n",
    "df.isnull().sum()"
   ]
  },
  {
   "cell_type": "raw",
   "id": "b5e13ce7",
   "metadata": {
    "vscode": {
     "languageId": "raw"
    }
   },
   "source": [
    "1.4.2 List some ways you might handle columns with missing values.\n",
    "- Replace missing values by mean\n",
    "- Replace missing values by median \n",
    "- Drop the records containing missing values (If missing values are in too small number)\n",
    "- If column contains large number of missing values then we may drop the columns containing missing values. "
   ]
  },
  {
   "cell_type": "code",
   "execution_count": 9,
   "id": "1daaf9d4-38d3-4876-b32c-41729b16c03b",
   "metadata": {
    "tags": []
   },
   "outputs": [],
   "source": [
    "# 1.4.3 Populate missing values in the 'price in $' column with the mean.\n",
    "df[\"price in $\"]= df[\"price in $\"].fillna(df[\"price in $\"].dropna().mean())\n",
    "\n"
   ]
  },
  {
   "cell_type": "code",
   "execution_count": 10,
   "id": "be21ec60-ba4e-4404-816d-de71c4b9ddd8",
   "metadata": {
    "tags": []
   },
   "outputs": [
    {
     "data": {
      "text/plain": [
       "host_id                0\n",
       "neighbourhood          0\n",
       "latitude               4\n",
       "longitude              6\n",
       "room_type              0\n",
       "price in $             0\n",
       "minimum_nights         9\n",
       "availability_365       1\n",
       "Apartment_type         1\n",
       "City                   1\n",
       "Rating              1578\n",
       "No_of_bed_rooms      284\n",
       "No_of_beds            17\n",
       "No_of_bathrooms      804\n",
       "Bathroom_type          1\n",
       "dtype: int64"
      ]
     },
     "execution_count": 10,
     "metadata": {},
     "output_type": "execute_result"
    }
   ],
   "source": [
    "# 1.4.4 Verify that there are no more missing values in the 'price in $' column\n",
    "df.isnull().sum()"
   ]
  },
  {
   "cell_type": "code",
   "execution_count": 11,
   "id": "3bce490b",
   "metadata": {},
   "outputs": [
    {
     "data": {
      "text/plain": [
       "array(['Amsterdam', nan], dtype=object)"
      ]
     },
     "execution_count": 11,
     "metadata": {},
     "output_type": "execute_result"
    }
   ],
   "source": [
    "df[\"City\"].unique()"
   ]
  },
  {
   "cell_type": "markdown",
   "id": "c67a4bb0",
   "metadata": {},
   "source": [
    "Before replacing the null value in \"City\" column, We need to check the unique data \"City\" column contains. As \"City\" column only contains \"Amsterdam\" string, We will replace one missing record in \"City\" column with \"Amsterdam\" string."
   ]
  },
  {
   "cell_type": "code",
   "execution_count": 12,
   "id": "f1eca599",
   "metadata": {},
   "outputs": [],
   "source": [
    "# 1.4.5 Populate all missing values in the City column with \"Amsterdam\"\n",
    "df[\"City\"] = df[\"City\"].fillna(value=\"Amsterdam\")"
   ]
  },
  {
   "cell_type": "code",
   "execution_count": 13,
   "id": "f31b257c",
   "metadata": {},
   "outputs": [
    {
     "data": {
      "text/plain": [
       "0"
      ]
     },
     "execution_count": 13,
     "metadata": {},
     "output_type": "execute_result"
    }
   ],
   "source": [
    "# 1.4.6 Verify that there are no more missing values in the 'City' column\n",
    "df[\"City\"].isnull().sum()"
   ]
  },
  {
   "cell_type": "code",
   "execution_count": 14,
   "id": "ab8e99e2-77ae-49b3-aa38-e0730af0fae5",
   "metadata": {
    "tags": []
   },
   "outputs": [
    {
     "data": {
      "text/html": [
       "<div>\n",
       "<style scoped>\n",
       "    .dataframe tbody tr th:only-of-type {\n",
       "        vertical-align: middle;\n",
       "    }\n",
       "\n",
       "    .dataframe tbody tr th {\n",
       "        vertical-align: top;\n",
       "    }\n",
       "\n",
       "    .dataframe thead th {\n",
       "        text-align: right;\n",
       "    }\n",
       "</style>\n",
       "<table border=\"1\" class=\"dataframe\">\n",
       "  <thead>\n",
       "    <tr style=\"text-align: right;\">\n",
       "      <th></th>\n",
       "      <th>host_id</th>\n",
       "      <th>neighbourhood</th>\n",
       "      <th>latitude</th>\n",
       "      <th>longitude</th>\n",
       "      <th>room_type</th>\n",
       "      <th>price in $</th>\n",
       "      <th>minimum_nights</th>\n",
       "      <th>availability_365</th>\n",
       "      <th>Apartment_type</th>\n",
       "      <th>City</th>\n",
       "      <th>Rating</th>\n",
       "      <th>No_of_bed_rooms</th>\n",
       "      <th>No_of_beds</th>\n",
       "      <th>No_of_bathrooms</th>\n",
       "      <th>Bathroom_type</th>\n",
       "    </tr>\n",
       "  </thead>\n",
       "  <tbody>\n",
       "    <tr>\n",
       "      <th>0</th>\n",
       "      <td>3159</td>\n",
       "      <td>Oostelijk Havengebied - Indische Buurt</td>\n",
       "      <td>52.36435</td>\n",
       "      <td>4.94358</td>\n",
       "      <td>Private room</td>\n",
       "      <td>69.0</td>\n",
       "      <td>3.0</td>\n",
       "      <td>7.0</td>\n",
       "      <td>Condo</td>\n",
       "      <td>Amsterdam</td>\n",
       "      <td>4.89</td>\n",
       "      <td>1.0</td>\n",
       "      <td>1.0</td>\n",
       "      <td>1.5</td>\n",
       "      <td>shared</td>\n",
       "    </tr>\n",
       "    <tr>\n",
       "      <th>2</th>\n",
       "      <td>1100324</td>\n",
       "      <td>De Pijp - Rivierenbuurt</td>\n",
       "      <td>52.35150</td>\n",
       "      <td>4.89656</td>\n",
       "      <td>Entire home/apt</td>\n",
       "      <td>270.0</td>\n",
       "      <td>4.0</td>\n",
       "      <td>2.0</td>\n",
       "      <td>Rental unit</td>\n",
       "      <td>Amsterdam</td>\n",
       "      <td>4.86</td>\n",
       "      <td>3.0</td>\n",
       "      <td>3.0</td>\n",
       "      <td>1.5</td>\n",
       "      <td>private</td>\n",
       "    </tr>\n",
       "    <tr>\n",
       "      <th>3</th>\n",
       "      <td>748161</td>\n",
       "      <td>Oud-Oost</td>\n",
       "      <td>52.36420</td>\n",
       "      <td>4.92829</td>\n",
       "      <td>Entire home/apt</td>\n",
       "      <td>200.0</td>\n",
       "      <td>3.0</td>\n",
       "      <td>0.0</td>\n",
       "      <td>Rental unit</td>\n",
       "      <td>Amsterdam</td>\n",
       "      <td>4.76</td>\n",
       "      <td>1.0</td>\n",
       "      <td>1.0</td>\n",
       "      <td>1.5</td>\n",
       "      <td>private</td>\n",
       "    </tr>\n",
       "    <tr>\n",
       "      <th>4</th>\n",
       "      <td>97647</td>\n",
       "      <td>Centrum-West</td>\n",
       "      <td>52.38761</td>\n",
       "      <td>4.89188</td>\n",
       "      <td>Private room</td>\n",
       "      <td>137.0</td>\n",
       "      <td>3.0</td>\n",
       "      <td>0.0</td>\n",
       "      <td>Houseboat</td>\n",
       "      <td>Amsterdam</td>\n",
       "      <td>4.94</td>\n",
       "      <td>1.0</td>\n",
       "      <td>1.0</td>\n",
       "      <td>1.5</td>\n",
       "      <td>private</td>\n",
       "    </tr>\n",
       "    <tr>\n",
       "      <th>5</th>\n",
       "      <td>776296</td>\n",
       "      <td>De Baarsjes - Oud-West</td>\n",
       "      <td>52.36270</td>\n",
       "      <td>4.85693</td>\n",
       "      <td>Entire home/apt</td>\n",
       "      <td>170.0</td>\n",
       "      <td>3.0</td>\n",
       "      <td>157.0</td>\n",
       "      <td>Rental unit</td>\n",
       "      <td>Amsterdam</td>\n",
       "      <td>4.77</td>\n",
       "      <td>1.0</td>\n",
       "      <td>1.0</td>\n",
       "      <td>1.0</td>\n",
       "      <td>private</td>\n",
       "    </tr>\n",
       "  </tbody>\n",
       "</table>\n",
       "</div>"
      ],
      "text/plain": [
       "   host_id                           neighbourhood  latitude  longitude  \\\n",
       "0     3159  Oostelijk Havengebied - Indische Buurt  52.36435    4.94358   \n",
       "2  1100324                 De Pijp - Rivierenbuurt  52.35150    4.89656   \n",
       "3   748161                                Oud-Oost  52.36420    4.92829   \n",
       "4    97647                            Centrum-West  52.38761    4.89188   \n",
       "5   776296                  De Baarsjes - Oud-West  52.36270    4.85693   \n",
       "\n",
       "         room_type  price in $  minimum_nights  availability_365  \\\n",
       "0     Private room        69.0             3.0               7.0   \n",
       "2  Entire home/apt       270.0             4.0               2.0   \n",
       "3  Entire home/apt       200.0             3.0               0.0   \n",
       "4     Private room       137.0             3.0               0.0   \n",
       "5  Entire home/apt       170.0             3.0             157.0   \n",
       "\n",
       "  Apartment_type       City  Rating  No_of_bed_rooms  No_of_beds  \\\n",
       "0          Condo  Amsterdam    4.89              1.0         1.0   \n",
       "2    Rental unit  Amsterdam    4.86              3.0         3.0   \n",
       "3    Rental unit  Amsterdam    4.76              1.0         1.0   \n",
       "4      Houseboat  Amsterdam    4.94              1.0         1.0   \n",
       "5    Rental unit  Amsterdam    4.77              1.0         1.0   \n",
       "\n",
       "   No_of_bathrooms Bathroom_type  \n",
       "0              1.5        shared  \n",
       "2              1.5       private  \n",
       "3              1.5       private  \n",
       "4              1.5       private  \n",
       "5              1.0       private  "
      ]
     },
     "execution_count": 14,
     "metadata": {},
     "output_type": "execute_result"
    }
   ],
   "source": [
    "# 1.4.7 Drop all remaining rows with missing data. Store the result in a new dataframe called df2.\n",
    "df2 = df.dropna()\n",
    "df2.head()"
   ]
  },
  {
   "cell_type": "markdown",
   "id": "58d55fe0",
   "metadata": {
    "tags": []
   },
   "source": [
    "### 1.5. Compare the shapes of the original (df) and new (df2) dataframes, and verify there are no missing values in df2."
   ]
  },
  {
   "cell_type": "code",
   "execution_count": 15,
   "id": "b6479b85-b098-417a-ab7a-86e49b323b57",
   "metadata": {
    "tags": []
   },
   "outputs": [
    {
     "name": "stdout",
     "output_type": "stream",
     "text": [
      "Shape of original dataframe df:  (7608, 15)\n",
      "Shape of new dataframe after dropping records with missing values df2:  (5108, 15)\n"
     ]
    }
   ],
   "source": [
    "# 1.5.1 code to show shapes of old and new dataframes\n",
    "print(\"Shape of original dataframe df: \", df.shape)\n",
    "print(\"Shape of new dataframe after dropping records with missing values df2: \", df2.shape)"
   ]
  },
  {
   "cell_type": "markdown",
   "id": "333ff92b",
   "metadata": {},
   "source": [
    "- After comparision, we found that 7608 - 5104 = 2504 records were dropped from original dataframe. "
   ]
  },
  {
   "cell_type": "code",
   "execution_count": 16,
   "id": "9af2c0f5-a3b1-46b0-a132-f97b9d4651fb",
   "metadata": {
    "tags": []
   },
   "outputs": [
    {
     "data": {
      "text/plain": [
       "host_id             0\n",
       "neighbourhood       0\n",
       "latitude            0\n",
       "longitude           0\n",
       "room_type           0\n",
       "price in $          0\n",
       "minimum_nights      0\n",
       "availability_365    0\n",
       "Apartment_type      0\n",
       "City                0\n",
       "Rating              0\n",
       "No_of_bed_rooms     0\n",
       "No_of_beds          0\n",
       "No_of_bathrooms     0\n",
       "Bathroom_type       0\n",
       "dtype: int64"
      ]
     },
     "execution_count": 16,
     "metadata": {},
     "output_type": "execute_result"
    }
   ],
   "source": [
    "# 1.5.2 Code to verify no missing values\n",
    "df2.isnull().sum()"
   ]
  },
  {
   "cell_type": "markdown",
   "id": "f7b7b0d2",
   "metadata": {},
   "source": [
    "- We can see in the result above, no field contains missing value.  "
   ]
  },
  {
   "cell_type": "markdown",
   "id": "ce912f4d",
   "metadata": {},
   "source": [
    "### 1.6. **Drop the 'latitude' and 'longitude' columns. How does it affect the shape of the dataset?**"
   ]
  },
  {
   "cell_type": "markdown",
   "id": "a0cb971d",
   "metadata": {},
   "source": [
    "Note: from here forward, work with the df2 DataFrame."
   ]
  },
  {
   "cell_type": "code",
   "execution_count": 17,
   "id": "91c69265-3568-4a97-9e90-15677c70b23e",
   "metadata": {
    "tags": []
   },
   "outputs": [],
   "source": [
    "# 1.6.1 Code goes here\n",
    "df2 = df2.drop(columns=[\"latitude\", \"longitude\"])"
   ]
  },
  {
   "cell_type": "code",
   "execution_count": 18,
   "id": "09ea894c",
   "metadata": {},
   "outputs": [
    {
     "data": {
      "text/plain": [
       "(5108, 13)"
      ]
     },
     "execution_count": 18,
     "metadata": {},
     "output_type": "execute_result"
    }
   ],
   "source": [
    "# 1.6.2 Show new shape\n",
    "df2.shape"
   ]
  },
  {
   "cell_type": "markdown",
   "id": "c6154822",
   "metadata": {},
   "source": [
    "- After dropping latitude and longitude, we see that shape changed from (5104, 15) to (5104, 13)."
   ]
  },
  {
   "cell_type": "markdown",
   "id": "f4b2b687",
   "metadata": {},
   "source": [
    "### 1.7. **List the  unique values in Apartment_type and Bathroom_type**"
   ]
  },
  {
   "cell_type": "code",
   "execution_count": 19,
   "id": "af8da01e-d2c6-4b25-a047-4610f6e32fcf",
   "metadata": {
    "tags": []
   },
   "outputs": [
    {
     "name": "stdout",
     "output_type": "stream",
     "text": [
      "Unique values present in 'Apartment_type' column are listed below: \n",
      " ['Condo' 'Rental unit' 'Houseboat' 'Boutique hotel' 'Guest suite' 'Home'\n",
      " 'Loft' 'Boat' 'Bed and breakfast' 'Townhouse' 'Chalet' 'Guesthouse'\n",
      " 'Farm stay' 'Serviced apartment' 'Barn' 'Hotel' 'Cabin' 'Villa'\n",
      " 'Place to stay' 'Tiny home' 'Cottage' 'Nature lodge' 'Tower' 'Hostel'\n",
      " 'Aparthotel' 'Camper/RV' 'Earthen home' 'casa particular' 'Vacation home'\n",
      " 'Tent']\n"
     ]
    }
   ],
   "source": [
    "# 1.7.1 Find and list the unique apartment tpyes.\n",
    "print(\"Unique values present in 'Apartment_type' column are listed below: \\n\", df2[\"Apartment_type\"].unique())\n"
   ]
  },
  {
   "cell_type": "code",
   "execution_count": 20,
   "id": "1372613e-f794-4aee-a2da-9dad0b79396d",
   "metadata": {
    "tags": []
   },
   "outputs": [
    {
     "name": "stdout",
     "output_type": "stream",
     "text": [
      "Unique values present in 'Bathroom_type' column are listed below: \n",
      " ['shared' 'private']\n"
     ]
    },
    {
     "data": {
      "text/plain": [
       "['shared', 'private']"
      ]
     },
     "execution_count": 20,
     "metadata": {},
     "output_type": "execute_result"
    }
   ],
   "source": [
    "# 1.7.2 Find and list the unique bathroom types.\n",
    "print(\"Unique values present in 'Bathroom_type' column are listed below: \\n\", df2[\"Bathroom_type\"].unique())\n",
    "\n",
    "df2[\"Bathroom_type\"].unique().tolist()"
   ]
  },
  {
   "cell_type": "markdown",
   "id": "40d69a7d",
   "metadata": {},
   "source": [
    "### 1.8. **Replace the bathroom types (shared and private) with integers (0 and 1).**"
   ]
  },
  {
   "cell_type": "code",
   "execution_count": 21,
   "id": "1a99c43d-8dc7-4186-accf-cd2c3fa62e0f",
   "metadata": {
    "tags": []
   },
   "outputs": [],
   "source": [
    "# 1.8.1 Replace the strings with integers\n",
    "df2[\"Bathroom_type\"] = df2[\"Bathroom_type\"].map(arg= {\"shared\": 0, \"private\": 1})"
   ]
  },
  {
   "cell_type": "code",
   "execution_count": 22,
   "id": "64d6f42b-190e-4c81-82a9-2334322a1a8d",
   "metadata": {
    "scrolled": true,
    "tags": []
   },
   "outputs": [
    {
     "data": {
      "text/plain": [
       "array([0, 1])"
      ]
     },
     "execution_count": 22,
     "metadata": {},
     "output_type": "execute_result"
    }
   ],
   "source": [
    "# 1.8.2 Verify the changes\n",
    "df2[\"Bathroom_type\"].unique()"
   ]
  },
  {
   "cell_type": "markdown",
   "id": "f70eef0d-0c39-4a80-bbb9-801fb35b4538",
   "metadata": {},
   "source": [
    "# Part - 2 (Exploratory Data Analysis)"
   ]
  },
  {
   "cell_type": "markdown",
   "id": "a5711bab",
   "metadata": {},
   "source": [
    "Exploratory Data Analysis refers to the critical process of performing initial investigations on data so as to discover patterns, to spot anomalies,to test hypothesis and to check assumptions with the help of summary statistics and graphical representations. "
   ]
  },
  {
   "cell_type": "markdown",
   "id": "01220f3e",
   "metadata": {},
   "source": [
    "### 2.1. **Describe the data.**"
   ]
  },
  {
   "cell_type": "code",
   "execution_count": 23,
   "id": "7f8d7c7a-4296-4a57-a75d-1e2cfa99fc45",
   "metadata": {
    "tags": []
   },
   "outputs": [
    {
     "data": {
      "text/html": [
       "<div>\n",
       "<style scoped>\n",
       "    .dataframe tbody tr th:only-of-type {\n",
       "        vertical-align: middle;\n",
       "    }\n",
       "\n",
       "    .dataframe tbody tr th {\n",
       "        vertical-align: top;\n",
       "    }\n",
       "\n",
       "    .dataframe thead th {\n",
       "        text-align: right;\n",
       "    }\n",
       "</style>\n",
       "<table border=\"1\" class=\"dataframe\">\n",
       "  <thead>\n",
       "    <tr style=\"text-align: right;\">\n",
       "      <th></th>\n",
       "      <th>host_id</th>\n",
       "      <th>price in $</th>\n",
       "      <th>minimum_nights</th>\n",
       "      <th>availability_365</th>\n",
       "      <th>Rating</th>\n",
       "      <th>No_of_bed_rooms</th>\n",
       "      <th>No_of_beds</th>\n",
       "      <th>No_of_bathrooms</th>\n",
       "      <th>Bathroom_type</th>\n",
       "    </tr>\n",
       "  </thead>\n",
       "  <tbody>\n",
       "    <tr>\n",
       "      <th>count</th>\n",
       "      <td>5.108000e+03</td>\n",
       "      <td>5108.000000</td>\n",
       "      <td>5108.000000</td>\n",
       "      <td>5108.000000</td>\n",
       "      <td>5108.000000</td>\n",
       "      <td>5108.000000</td>\n",
       "      <td>5108.000000</td>\n",
       "      <td>5108.000000</td>\n",
       "      <td>5108.000000</td>\n",
       "    </tr>\n",
       "    <tr>\n",
       "      <th>mean</th>\n",
       "      <td>8.957354e+07</td>\n",
       "      <td>250.071427</td>\n",
       "      <td>5.344949</td>\n",
       "      <td>68.873727</td>\n",
       "      <td>4.828872</td>\n",
       "      <td>1.615114</td>\n",
       "      <td>1.615114</td>\n",
       "      <td>1.316856</td>\n",
       "      <td>0.904268</td>\n",
       "    </tr>\n",
       "    <tr>\n",
       "      <th>std</th>\n",
       "      <td>1.283283e+08</td>\n",
       "      <td>239.576562</td>\n",
       "      <td>40.127865</td>\n",
       "      <td>100.861524</td>\n",
       "      <td>0.214108</td>\n",
       "      <td>0.891545</td>\n",
       "      <td>0.891545</td>\n",
       "      <td>0.467762</td>\n",
       "      <td>0.294252</td>\n",
       "    </tr>\n",
       "    <tr>\n",
       "      <th>min</th>\n",
       "      <td>0.000000e+00</td>\n",
       "      <td>18.000000</td>\n",
       "      <td>1.000000</td>\n",
       "      <td>0.000000</td>\n",
       "      <td>1.670000</td>\n",
       "      <td>1.000000</td>\n",
       "      <td>1.000000</td>\n",
       "      <td>0.000000</td>\n",
       "      <td>0.000000</td>\n",
       "    </tr>\n",
       "    <tr>\n",
       "      <th>25%</th>\n",
       "      <td>8.946164e+06</td>\n",
       "      <td>149.000000</td>\n",
       "      <td>2.000000</td>\n",
       "      <td>0.000000</td>\n",
       "      <td>4.750000</td>\n",
       "      <td>1.000000</td>\n",
       "      <td>1.000000</td>\n",
       "      <td>1.000000</td>\n",
       "      <td>1.000000</td>\n",
       "    </tr>\n",
       "    <tr>\n",
       "      <th>50%</th>\n",
       "      <td>2.942286e+07</td>\n",
       "      <td>205.500000</td>\n",
       "      <td>3.000000</td>\n",
       "      <td>12.000000</td>\n",
       "      <td>4.890000</td>\n",
       "      <td>1.000000</td>\n",
       "      <td>1.000000</td>\n",
       "      <td>1.000000</td>\n",
       "      <td>1.000000</td>\n",
       "    </tr>\n",
       "    <tr>\n",
       "      <th>75%</th>\n",
       "      <td>1.051994e+08</td>\n",
       "      <td>300.000000</td>\n",
       "      <td>4.000000</td>\n",
       "      <td>114.000000</td>\n",
       "      <td>5.000000</td>\n",
       "      <td>2.000000</td>\n",
       "      <td>2.000000</td>\n",
       "      <td>1.500000</td>\n",
       "      <td>1.000000</td>\n",
       "    </tr>\n",
       "    <tr>\n",
       "      <th>max</th>\n",
       "      <td>5.126757e+08</td>\n",
       "      <td>10000.000000</td>\n",
       "      <td>1001.000000</td>\n",
       "      <td>365.000000</td>\n",
       "      <td>5.000000</td>\n",
       "      <td>10.000000</td>\n",
       "      <td>10.000000</td>\n",
       "      <td>5.500000</td>\n",
       "      <td>1.000000</td>\n",
       "    </tr>\n",
       "  </tbody>\n",
       "</table>\n",
       "</div>"
      ],
      "text/plain": [
       "            host_id    price in $  minimum_nights  availability_365  \\\n",
       "count  5.108000e+03   5108.000000     5108.000000       5108.000000   \n",
       "mean   8.957354e+07    250.071427        5.344949         68.873727   \n",
       "std    1.283283e+08    239.576562       40.127865        100.861524   \n",
       "min    0.000000e+00     18.000000        1.000000          0.000000   \n",
       "25%    8.946164e+06    149.000000        2.000000          0.000000   \n",
       "50%    2.942286e+07    205.500000        3.000000         12.000000   \n",
       "75%    1.051994e+08    300.000000        4.000000        114.000000   \n",
       "max    5.126757e+08  10000.000000     1001.000000        365.000000   \n",
       "\n",
       "            Rating  No_of_bed_rooms   No_of_beds  No_of_bathrooms  \\\n",
       "count  5108.000000      5108.000000  5108.000000      5108.000000   \n",
       "mean      4.828872         1.615114     1.615114         1.316856   \n",
       "std       0.214108         0.891545     0.891545         0.467762   \n",
       "min       1.670000         1.000000     1.000000         0.000000   \n",
       "25%       4.750000         1.000000     1.000000         1.000000   \n",
       "50%       4.890000         1.000000     1.000000         1.000000   \n",
       "75%       5.000000         2.000000     2.000000         1.500000   \n",
       "max       5.000000        10.000000    10.000000         5.500000   \n",
       "\n",
       "       Bathroom_type  \n",
       "count    5108.000000  \n",
       "mean        0.904268  \n",
       "std         0.294252  \n",
       "min         0.000000  \n",
       "25%         1.000000  \n",
       "50%         1.000000  \n",
       "75%         1.000000  \n",
       "max         1.000000  "
      ]
     },
     "execution_count": 23,
     "metadata": {},
     "output_type": "execute_result"
    }
   ],
   "source": [
    "# Describe data here.\n",
    "df2.describe()"
   ]
  },
  {
   "cell_type": "markdown",
   "id": "59440e43",
   "metadata": {},
   "source": [
    "### 2.2. **Identify significant correlations.**"
   ]
  },
  {
   "cell_type": "code",
   "execution_count": 24,
   "id": "ae404370-d29f-461a-8d0b-2da26bc852e1",
   "metadata": {
    "tags": []
   },
   "outputs": [
    {
     "data": {
      "text/html": [
       "<div>\n",
       "<style scoped>\n",
       "    .dataframe tbody tr th:only-of-type {\n",
       "        vertical-align: middle;\n",
       "    }\n",
       "\n",
       "    .dataframe tbody tr th {\n",
       "        vertical-align: top;\n",
       "    }\n",
       "\n",
       "    .dataframe thead th {\n",
       "        text-align: right;\n",
       "    }\n",
       "</style>\n",
       "<table border=\"1\" class=\"dataframe\">\n",
       "  <thead>\n",
       "    <tr style=\"text-align: right;\">\n",
       "      <th></th>\n",
       "      <th>host_id</th>\n",
       "      <th>price in $</th>\n",
       "      <th>minimum_nights</th>\n",
       "      <th>availability_365</th>\n",
       "      <th>Rating</th>\n",
       "      <th>No_of_bed_rooms</th>\n",
       "      <th>No_of_beds</th>\n",
       "      <th>No_of_bathrooms</th>\n",
       "      <th>Bathroom_type</th>\n",
       "    </tr>\n",
       "  </thead>\n",
       "  <tbody>\n",
       "    <tr>\n",
       "      <th>host_id</th>\n",
       "      <td>1.000000</td>\n",
       "      <td>0.042410</td>\n",
       "      <td>-0.009971</td>\n",
       "      <td>0.165185</td>\n",
       "      <td>-0.164723</td>\n",
       "      <td>-0.071205</td>\n",
       "      <td>-0.071205</td>\n",
       "      <td>-0.046735</td>\n",
       "      <td>-0.066510</td>\n",
       "    </tr>\n",
       "    <tr>\n",
       "      <th>price in $</th>\n",
       "      <td>0.042410</td>\n",
       "      <td>1.000000</td>\n",
       "      <td>-0.003072</td>\n",
       "      <td>0.171706</td>\n",
       "      <td>0.045040</td>\n",
       "      <td>0.292805</td>\n",
       "      <td>0.292805</td>\n",
       "      <td>0.266971</td>\n",
       "      <td>0.171660</td>\n",
       "    </tr>\n",
       "    <tr>\n",
       "      <th>minimum_nights</th>\n",
       "      <td>-0.009971</td>\n",
       "      <td>-0.003072</td>\n",
       "      <td>1.000000</td>\n",
       "      <td>0.011592</td>\n",
       "      <td>0.011779</td>\n",
       "      <td>0.005830</td>\n",
       "      <td>0.005830</td>\n",
       "      <td>-0.004859</td>\n",
       "      <td>0.002631</td>\n",
       "    </tr>\n",
       "    <tr>\n",
       "      <th>availability_365</th>\n",
       "      <td>0.165185</td>\n",
       "      <td>0.171706</td>\n",
       "      <td>0.011592</td>\n",
       "      <td>1.000000</td>\n",
       "      <td>-0.167042</td>\n",
       "      <td>-0.065623</td>\n",
       "      <td>-0.065623</td>\n",
       "      <td>-0.028057</td>\n",
       "      <td>-0.178860</td>\n",
       "    </tr>\n",
       "    <tr>\n",
       "      <th>Rating</th>\n",
       "      <td>-0.164723</td>\n",
       "      <td>0.045040</td>\n",
       "      <td>0.011779</td>\n",
       "      <td>-0.167042</td>\n",
       "      <td>1.000000</td>\n",
       "      <td>0.035783</td>\n",
       "      <td>0.035783</td>\n",
       "      <td>0.072711</td>\n",
       "      <td>0.174168</td>\n",
       "    </tr>\n",
       "    <tr>\n",
       "      <th>No_of_bed_rooms</th>\n",
       "      <td>-0.071205</td>\n",
       "      <td>0.292805</td>\n",
       "      <td>0.005830</td>\n",
       "      <td>-0.065623</td>\n",
       "      <td>0.035783</td>\n",
       "      <td>1.000000</td>\n",
       "      <td>1.000000</td>\n",
       "      <td>0.475608</td>\n",
       "      <td>0.188682</td>\n",
       "    </tr>\n",
       "    <tr>\n",
       "      <th>No_of_beds</th>\n",
       "      <td>-0.071205</td>\n",
       "      <td>0.292805</td>\n",
       "      <td>0.005830</td>\n",
       "      <td>-0.065623</td>\n",
       "      <td>0.035783</td>\n",
       "      <td>1.000000</td>\n",
       "      <td>1.000000</td>\n",
       "      <td>0.475608</td>\n",
       "      <td>0.188682</td>\n",
       "    </tr>\n",
       "    <tr>\n",
       "      <th>No_of_bathrooms</th>\n",
       "      <td>-0.046735</td>\n",
       "      <td>0.266971</td>\n",
       "      <td>-0.004859</td>\n",
       "      <td>-0.028057</td>\n",
       "      <td>0.072711</td>\n",
       "      <td>0.475608</td>\n",
       "      <td>0.475608</td>\n",
       "      <td>1.000000</td>\n",
       "      <td>0.102347</td>\n",
       "    </tr>\n",
       "    <tr>\n",
       "      <th>Bathroom_type</th>\n",
       "      <td>-0.066510</td>\n",
       "      <td>0.171660</td>\n",
       "      <td>0.002631</td>\n",
       "      <td>-0.178860</td>\n",
       "      <td>0.174168</td>\n",
       "      <td>0.188682</td>\n",
       "      <td>0.188682</td>\n",
       "      <td>0.102347</td>\n",
       "      <td>1.000000</td>\n",
       "    </tr>\n",
       "  </tbody>\n",
       "</table>\n",
       "</div>"
      ],
      "text/plain": [
       "                   host_id  price in $  minimum_nights  availability_365  \\\n",
       "host_id           1.000000    0.042410       -0.009971          0.165185   \n",
       "price in $        0.042410    1.000000       -0.003072          0.171706   \n",
       "minimum_nights   -0.009971   -0.003072        1.000000          0.011592   \n",
       "availability_365  0.165185    0.171706        0.011592          1.000000   \n",
       "Rating           -0.164723    0.045040        0.011779         -0.167042   \n",
       "No_of_bed_rooms  -0.071205    0.292805        0.005830         -0.065623   \n",
       "No_of_beds       -0.071205    0.292805        0.005830         -0.065623   \n",
       "No_of_bathrooms  -0.046735    0.266971       -0.004859         -0.028057   \n",
       "Bathroom_type    -0.066510    0.171660        0.002631         -0.178860   \n",
       "\n",
       "                    Rating  No_of_bed_rooms  No_of_beds  No_of_bathrooms  \\\n",
       "host_id          -0.164723        -0.071205   -0.071205        -0.046735   \n",
       "price in $        0.045040         0.292805    0.292805         0.266971   \n",
       "minimum_nights    0.011779         0.005830    0.005830        -0.004859   \n",
       "availability_365 -0.167042        -0.065623   -0.065623        -0.028057   \n",
       "Rating            1.000000         0.035783    0.035783         0.072711   \n",
       "No_of_bed_rooms   0.035783         1.000000    1.000000         0.475608   \n",
       "No_of_beds        0.035783         1.000000    1.000000         0.475608   \n",
       "No_of_bathrooms   0.072711         0.475608    0.475608         1.000000   \n",
       "Bathroom_type     0.174168         0.188682    0.188682         0.102347   \n",
       "\n",
       "                  Bathroom_type  \n",
       "host_id               -0.066510  \n",
       "price in $             0.171660  \n",
       "minimum_nights         0.002631  \n",
       "availability_365      -0.178860  \n",
       "Rating                 0.174168  \n",
       "No_of_bed_rooms        0.188682  \n",
       "No_of_beds             0.188682  \n",
       "No_of_bathrooms        0.102347  \n",
       "Bathroom_type          1.000000  "
      ]
     },
     "execution_count": 24,
     "metadata": {},
     "output_type": "execute_result"
    }
   ],
   "source": [
    "# 2.2.1 Build the correlation matrix\n",
    "df2.corr(\"pearson\", numeric_only= True)"
   ]
  },
  {
   "cell_type": "code",
   "execution_count": 25,
   "id": "bab48646-0771-4fe3-9535-862ec0df9552",
   "metadata": {
    "tags": []
   },
   "outputs": [
    {
     "data": {
      "image/png": "[encoded data removed]",
      "text/plain": [
       "<Figure size 900x900 with 2 Axes>"
      ]
     },
     "metadata": {},
     "output_type": "display_data"
    }
   ],
   "source": [
    "# 2.2.2 Display the correlation matrix as a heatmap\n",
    "fig, ax = plt.subplots(figsize=(9, 9))\n",
    "sns.heatmap(df2.corr(\"pearson\", numeric_only= True), annot= True)\n",
    "plt.show()"
   ]
  },
  {
   "cell_type": "markdown",
   "id": "7a5d8fa4",
   "metadata": {},
   "source": [
    "### 2.3. **Check if is there any multicollinearity.**"
   ]
  },
  {
   "cell_type": "code",
   "execution_count": 26,
   "id": "02e7a7e3",
   "metadata": {},
   "outputs": [],
   "source": [
    "#Import the statsmodels tools needed to perform VIF.\n",
    "from statsmodels.stats.outliers_influence import variance_inflation_factor\n",
    "import statsmodels.api as sm"
   ]
  },
  {
   "cell_type": "code",
   "execution_count": 27,
   "id": "55e1a55b-cb83-4aa7-88fb-30dccc1cd4a5",
   "metadata": {
    "tags": []
   },
   "outputs": [
    {
     "data": {
      "text/html": [
       "<div>\n",
       "<style scoped>\n",
       "    .dataframe tbody tr th:only-of-type {\n",
       "        vertical-align: middle;\n",
       "    }\n",
       "\n",
       "    .dataframe tbody tr th {\n",
       "        vertical-align: top;\n",
       "    }\n",
       "\n",
       "    .dataframe thead th {\n",
       "        text-align: right;\n",
       "    }\n",
       "</style>\n",
       "<table border=\"1\" class=\"dataframe\">\n",
       "  <thead>\n",
       "    <tr style=\"text-align: right;\">\n",
       "      <th></th>\n",
       "      <th>price in $</th>\n",
       "      <th>minimum_nights</th>\n",
       "      <th>availability_365</th>\n",
       "      <th>Rating</th>\n",
       "      <th>No_of_bed_rooms</th>\n",
       "      <th>No_of_beds</th>\n",
       "      <th>No_of_bathrooms</th>\n",
       "      <th>Bathroom_type</th>\n",
       "    </tr>\n",
       "  </thead>\n",
       "  <tbody>\n",
       "    <tr>\n",
       "      <th>0</th>\n",
       "      <td>69.0</td>\n",
       "      <td>3.0</td>\n",
       "      <td>7.0</td>\n",
       "      <td>4.89</td>\n",
       "      <td>1.0</td>\n",
       "      <td>1.0</td>\n",
       "      <td>1.5</td>\n",
       "      <td>0</td>\n",
       "    </tr>\n",
       "    <tr>\n",
       "      <th>2</th>\n",
       "      <td>270.0</td>\n",
       "      <td>4.0</td>\n",
       "      <td>2.0</td>\n",
       "      <td>4.86</td>\n",
       "      <td>3.0</td>\n",
       "      <td>3.0</td>\n",
       "      <td>1.5</td>\n",
       "      <td>1</td>\n",
       "    </tr>\n",
       "    <tr>\n",
       "      <th>3</th>\n",
       "      <td>200.0</td>\n",
       "      <td>3.0</td>\n",
       "      <td>0.0</td>\n",
       "      <td>4.76</td>\n",
       "      <td>1.0</td>\n",
       "      <td>1.0</td>\n",
       "      <td>1.5</td>\n",
       "      <td>1</td>\n",
       "    </tr>\n",
       "    <tr>\n",
       "      <th>4</th>\n",
       "      <td>137.0</td>\n",
       "      <td>3.0</td>\n",
       "      <td>0.0</td>\n",
       "      <td>4.94</td>\n",
       "      <td>1.0</td>\n",
       "      <td>1.0</td>\n",
       "      <td>1.5</td>\n",
       "      <td>1</td>\n",
       "    </tr>\n",
       "    <tr>\n",
       "      <th>5</th>\n",
       "      <td>170.0</td>\n",
       "      <td>3.0</td>\n",
       "      <td>157.0</td>\n",
       "      <td>4.77</td>\n",
       "      <td>1.0</td>\n",
       "      <td>1.0</td>\n",
       "      <td>1.0</td>\n",
       "      <td>1</td>\n",
       "    </tr>\n",
       "  </tbody>\n",
       "</table>\n",
       "</div>"
      ],
      "text/plain": [
       "   price in $  minimum_nights  availability_365  Rating  No_of_bed_rooms  \\\n",
       "0        69.0             3.0               7.0    4.89              1.0   \n",
       "2       270.0             4.0               2.0    4.86              3.0   \n",
       "3       200.0             3.0               0.0    4.76              1.0   \n",
       "4       137.0             3.0               0.0    4.94              1.0   \n",
       "5       170.0             3.0             157.0    4.77              1.0   \n",
       "\n",
       "   No_of_beds  No_of_bathrooms  Bathroom_type  \n",
       "0         1.0              1.5              0  \n",
       "2         3.0              1.5              1  \n",
       "3         1.0              1.5              1  \n",
       "4         1.0              1.5              1  \n",
       "5         1.0              1.0              1  "
      ]
     },
     "execution_count": 27,
     "metadata": {},
     "output_type": "execute_result"
    }
   ],
   "source": [
    "# 2.3.1 Select all numerical columns *except* host_id.\n",
    "numericDf = df2.select_dtypes('number').drop(columns=\"host_id\")\n",
    "numericDf.head()\n"
   ]
  },
  {
   "cell_type": "code",
   "execution_count": 28,
   "id": "d7a0f77d",
   "metadata": {},
   "outputs": [
    {
     "data": {
      "text/plain": [
       "price in $          0\n",
       "minimum_nights      0\n",
       "availability_365    0\n",
       "Rating              0\n",
       "No_of_bed_rooms     0\n",
       "No_of_beds          0\n",
       "No_of_bathrooms     0\n",
       "Bathroom_type       0\n",
       "dtype: int64"
      ]
     },
     "execution_count": 28,
     "metadata": {},
     "output_type": "execute_result"
    }
   ],
   "source": [
    "# 2.3.2 Make sure there are no missing (NaN) values \n",
    "numericDf.isnull().sum()"
   ]
  },
  {
   "cell_type": "markdown",
   "id": "34269a52",
   "metadata": {},
   "source": [
    "- We can see on the above result that there is no missing values in our data. "
   ]
  },
  {
   "cell_type": "code",
   "execution_count": 29,
   "id": "568b0b76",
   "metadata": {},
   "outputs": [
    {
     "data": {
      "text/html": [
       "<div>\n",
       "<style scoped>\n",
       "    .dataframe tbody tr th:only-of-type {\n",
       "        vertical-align: middle;\n",
       "    }\n",
       "\n",
       "    .dataframe tbody tr th {\n",
       "        vertical-align: top;\n",
       "    }\n",
       "\n",
       "    .dataframe thead th {\n",
       "        text-align: right;\n",
       "    }\n",
       "</style>\n",
       "<table border=\"1\" class=\"dataframe\">\n",
       "  <thead>\n",
       "    <tr style=\"text-align: right;\">\n",
       "      <th></th>\n",
       "      <th>const</th>\n",
       "      <th>price in $</th>\n",
       "      <th>minimum_nights</th>\n",
       "      <th>availability_365</th>\n",
       "      <th>Rating</th>\n",
       "      <th>No_of_bed_rooms</th>\n",
       "      <th>No_of_beds</th>\n",
       "      <th>No_of_bathrooms</th>\n",
       "      <th>Bathroom_type</th>\n",
       "    </tr>\n",
       "  </thead>\n",
       "  <tbody>\n",
       "    <tr>\n",
       "      <th>0</th>\n",
       "      <td>1.0</td>\n",
       "      <td>69.0</td>\n",
       "      <td>3.0</td>\n",
       "      <td>7.0</td>\n",
       "      <td>4.89</td>\n",
       "      <td>1.0</td>\n",
       "      <td>1.0</td>\n",
       "      <td>1.5</td>\n",
       "      <td>0</td>\n",
       "    </tr>\n",
       "    <tr>\n",
       "      <th>2</th>\n",
       "      <td>1.0</td>\n",
       "      <td>270.0</td>\n",
       "      <td>4.0</td>\n",
       "      <td>2.0</td>\n",
       "      <td>4.86</td>\n",
       "      <td>3.0</td>\n",
       "      <td>3.0</td>\n",
       "      <td>1.5</td>\n",
       "      <td>1</td>\n",
       "    </tr>\n",
       "    <tr>\n",
       "      <th>3</th>\n",
       "      <td>1.0</td>\n",
       "      <td>200.0</td>\n",
       "      <td>3.0</td>\n",
       "      <td>0.0</td>\n",
       "      <td>4.76</td>\n",
       "      <td>1.0</td>\n",
       "      <td>1.0</td>\n",
       "      <td>1.5</td>\n",
       "      <td>1</td>\n",
       "    </tr>\n",
       "    <tr>\n",
       "      <th>4</th>\n",
       "      <td>1.0</td>\n",
       "      <td>137.0</td>\n",
       "      <td>3.0</td>\n",
       "      <td>0.0</td>\n",
       "      <td>4.94</td>\n",
       "      <td>1.0</td>\n",
       "      <td>1.0</td>\n",
       "      <td>1.5</td>\n",
       "      <td>1</td>\n",
       "    </tr>\n",
       "    <tr>\n",
       "      <th>5</th>\n",
       "      <td>1.0</td>\n",
       "      <td>170.0</td>\n",
       "      <td>3.0</td>\n",
       "      <td>157.0</td>\n",
       "      <td>4.77</td>\n",
       "      <td>1.0</td>\n",
       "      <td>1.0</td>\n",
       "      <td>1.0</td>\n",
       "      <td>1</td>\n",
       "    </tr>\n",
       "  </tbody>\n",
       "</table>\n",
       "</div>"
      ],
      "text/plain": [
       "   const  price in $  minimum_nights  availability_365  Rating  \\\n",
       "0    1.0        69.0             3.0               7.0    4.89   \n",
       "2    1.0       270.0             4.0               2.0    4.86   \n",
       "3    1.0       200.0             3.0               0.0    4.76   \n",
       "4    1.0       137.0             3.0               0.0    4.94   \n",
       "5    1.0       170.0             3.0             157.0    4.77   \n",
       "\n",
       "   No_of_bed_rooms  No_of_beds  No_of_bathrooms  Bathroom_type  \n",
       "0              1.0         1.0              1.5              0  \n",
       "2              3.0         3.0              1.5              1  \n",
       "3              1.0         1.0              1.5              1  \n",
       "4              1.0         1.0              1.5              1  \n",
       "5              1.0         1.0              1.0              1  "
      ]
     },
     "execution_count": 29,
     "metadata": {},
     "output_type": "execute_result"
    }
   ],
   "source": [
    "# 2.3.3 Add a constant column for the VIF calculation\n",
    "dfWithConst = sm.add_constant(numericDf)\n",
    "dfWithConst.head()\n"
   ]
  },
  {
   "cell_type": "markdown",
   "id": "07badcf4",
   "metadata": {},
   "source": [
    "#### Below code is the calculation of VIF without using statsmodel package. This is done for the understanding of VIF. How it is implemented."
   ]
  },
  {
   "cell_type": "code",
   "execution_count": 30,
   "id": "fcab9989",
   "metadata": {},
   "outputs": [],
   "source": [
    "\n",
    "# names = dfWithConst.columns\n",
    "# for i in range(0, dfWithConst.shape[1]):\n",
    "#     y = dfWithConst.iloc[:, i]\n",
    "#     x = dfWithConst.drop(dfWithConst.columns[i], axis=1)\n",
    "#     model = sm.OLS(y, x)\n",
    "#     results = model.fit()\n",
    "#     rsq = results.rsquared\n",
    "#     vif = (1 / (1 - rsq), 2)\n",
    "#     print(\n",
    "#         \"R Square value of {} column is {} keeping all other columns as features\".format(\n",
    "#             names[i], (round(rsq, 2))\n",
    "#         )\n",
    "#     )\n",
    "#     print(\n",
    "#         \"Variance Inflation Factor of {} column is {} \\n\".format(\n",
    "#             names[i], vif)\n",
    "#         )"
   ]
  },
  {
   "cell_type": "code",
   "execution_count": 31,
   "id": "c43aa6c5",
   "metadata": {},
   "outputs": [
    {
     "name": "stderr",
     "output_type": "stream",
     "text": [
      "/home/buddha-thapa-magar/anaconda3/lib/python3.12/site-packages/statsmodels/stats/outliers_influence.py:197: RuntimeWarning: divide by zero encountered in scalar divide\n",
      "  vif = 1. / (1. - r_squared_i)\n"
     ]
    },
    {
     "data": {
      "text/html": [
       "<div>\n",
       "<style scoped>\n",
       "    .dataframe tbody tr th:only-of-type {\n",
       "        vertical-align: middle;\n",
       "    }\n",
       "\n",
       "    .dataframe tbody tr th {\n",
       "        vertical-align: top;\n",
       "    }\n",
       "\n",
       "    .dataframe thead th {\n",
       "        text-align: right;\n",
       "    }\n",
       "</style>\n",
       "<table border=\"1\" class=\"dataframe\">\n",
       "  <thead>\n",
       "    <tr style=\"text-align: right;\">\n",
       "      <th></th>\n",
       "      <th>Feature</th>\n",
       "      <th>VIF</th>\n",
       "    </tr>\n",
       "  </thead>\n",
       "  <tbody>\n",
       "    <tr>\n",
       "      <th>0</th>\n",
       "      <td>const</td>\n",
       "      <td>534.320122</td>\n",
       "    </tr>\n",
       "    <tr>\n",
       "      <th>1</th>\n",
       "      <td>price in $</td>\n",
       "      <td>1.201058</td>\n",
       "    </tr>\n",
       "    <tr>\n",
       "      <th>2</th>\n",
       "      <td>minimum_nights</td>\n",
       "      <td>1.000520</td>\n",
       "    </tr>\n",
       "    <tr>\n",
       "      <th>3</th>\n",
       "      <td>availability_365</td>\n",
       "      <td>1.114930</td>\n",
       "    </tr>\n",
       "    <tr>\n",
       "      <th>4</th>\n",
       "      <td>Rating</td>\n",
       "      <td>1.058086</td>\n",
       "    </tr>\n",
       "    <tr>\n",
       "      <th>5</th>\n",
       "      <td>No_of_bed_rooms</td>\n",
       "      <td>inf</td>\n",
       "    </tr>\n",
       "    <tr>\n",
       "      <th>6</th>\n",
       "      <td>No_of_beds</td>\n",
       "      <td>inf</td>\n",
       "    </tr>\n",
       "    <tr>\n",
       "      <th>7</th>\n",
       "      <td>No_of_bathrooms</td>\n",
       "      <td>1.328305</td>\n",
       "    </tr>\n",
       "    <tr>\n",
       "      <th>8</th>\n",
       "      <td>Bathroom_type</td>\n",
       "      <td>1.118485</td>\n",
       "    </tr>\n",
       "  </tbody>\n",
       "</table>\n",
       "</div>"
      ],
      "text/plain": [
       "            Feature         VIF\n",
       "0             const  534.320122\n",
       "1        price in $    1.201058\n",
       "2    minimum_nights    1.000520\n",
       "3  availability_365    1.114930\n",
       "4            Rating    1.058086\n",
       "5   No_of_bed_rooms         inf\n",
       "6        No_of_beds         inf\n",
       "7   No_of_bathrooms    1.328305\n",
       "8     Bathroom_type    1.118485"
      ]
     },
     "execution_count": 31,
     "metadata": {},
     "output_type": "execute_result"
    }
   ],
   "source": [
    "# 2.3.4 Calculate the VIF for each of the columns and display the information.(Make E.C.?)\n",
    "names = dfWithConst.columns\n",
    "vifCalculated = pd.DataFrame(data= {\"Feature\": names})\n",
    "vifCalculated[\"VIF\"] = [variance_inflation_factor(dfWithConst.values, i) for i in range(dfWithConst.shape[1])]\n",
    "vifCalculated"
   ]
  },
  {
   "cell_type": "markdown",
   "id": "2a3f9455",
   "metadata": {},
   "source": [
    "### 2.4. **Spot outliers in the dataset.**\n",
    "(we will not remove outliers for this homework)."
   ]
  },
  {
   "cell_type": "code",
   "execution_count": 32,
   "id": "f5aab45d-e608-4155-916a-a4ea68affcc4",
   "metadata": {
    "tags": []
   },
   "outputs": [
    {
     "data": {
      "text/plain": [
       "<Axes: xlabel='price in $'>"
      ]
     },
     "execution_count": 32,
     "metadata": {},
     "output_type": "execute_result"
    },
    {
     "data": {
      "image/png": "[encoded data removed]",
      "text/plain": [
       "<Figure size 640x480 with 1 Axes>"
      ]
     },
     "metadata": {},
     "output_type": "display_data"
    }
   ],
   "source": [
    "# 2.4.1. Show boxplot of price in $ \n",
    "sns.boxplot(data= df2, x = \"price in $\")"
   ]
  },
  {
   "cell_type": "code",
   "execution_count": 33,
   "id": "72df07aa-dfbd-41a9-95ce-671f66daed27",
   "metadata": {
    "tags": []
   },
   "outputs": [
    {
     "data": {
      "text/plain": [
       "10000.0"
      ]
     },
     "execution_count": 33,
     "metadata": {},
     "output_type": "execute_result"
    }
   ],
   "source": [
    "# 2.4.2 Show the maximum price in $\n",
    "df2[\"price in $\"].max()"
   ]
  },
  {
   "cell_type": "markdown",
   "id": "b1922d03",
   "metadata": {},
   "source": [
    "- 10000 is the maximum price for the airbnb."
   ]
  },
  {
   "cell_type": "code",
   "execution_count": 34,
   "id": "ab4b4c7d-0cc6-4e79-9ea0-f51124e1b509",
   "metadata": {
    "tags": []
   },
   "outputs": [
    {
     "name": "stdout",
     "output_type": "stream",
     "text": [
      "1001.0\n"
     ]
    },
    {
     "data": {
      "image/png": "[encoded data removed]",
      "text/plain": [
       "<Figure size 640x480 with 1 Axes>"
      ]
     },
     "metadata": {},
     "output_type": "display_data"
    }
   ],
   "source": [
    "# 2.4.3 Show a boxplot for minimum_nights\n",
    "print(df[\"minimum_nights\"].max())\n",
    "sns.boxplot(data= df2, x= \"minimum_nights\")\n",
    "plt.show()"
   ]
  },
  {
   "cell_type": "code",
   "execution_count": 35,
   "id": "5dd14340-b802-46fd-8098-66e43c345753",
   "metadata": {
    "tags": []
   },
   "outputs": [
    {
     "data": {
      "image/png": "[encoded data removed]",
      "text/plain": [
       "<Figure size 640x480 with 1 Axes>"
      ]
     },
     "metadata": {},
     "output_type": "display_data"
    }
   ],
   "source": [
    "# 2.4.4 Show a boxplot for Rating\n",
    "sns.boxplot(data= df2, x= \"Rating\")\n",
    "plt.show()"
   ]
  },
  {
   "cell_type": "code",
   "execution_count": 36,
   "id": "aaa4e4a7-d9a7-42ab-aa4b-f8d167ce3d85",
   "metadata": {
    "tags": []
   },
   "outputs": [
    {
     "data": {
      "text/plain": [
       "(4876, 13)"
      ]
     },
     "execution_count": 36,
     "metadata": {},
     "output_type": "execute_result"
    }
   ],
   "source": [
    "# 2.4.5 Define a function to drop outliers beyond a specific multiplier of the IQR.\n",
    "def FindOutlierRecordsBasedOnColumn(dataFrame: pd.DataFrame, columnToCalculateOutlier):\n",
    "    if(not pd.api.types.is_numeric_dtype(dataFrame[columnToCalculateOutlier])):\n",
    "        raise ValueError(\"Column must contains numeric values only.\")\n",
    "    quartile1 = dataFrame[columnToCalculateOutlier].quantile(0.25)\n",
    "    quartile3 = dataFrame[columnToCalculateOutlier].quantile(0.75)\n",
    "    interQuartileRange = quartile3 - quartile1\n",
    "    lowerLimit = quartile1 - 1.5* interQuartileRange\n",
    "    upperLimit = quartile3 +1.5*interQuartileRange\n",
    "    return dataFrame[(dataFrame[columnToCalculateOutlier] <= lowerLimit) | (dataFrame[columnToCalculateOutlier] >= upperLimit)].index\n",
    "    \n",
    "    \n",
    "def dropOutlierBasedOnColumn(dataFrame: pd.DataFrame, columnToCalculateOutlier):\n",
    "    return dataFrame.loc[df2.index.difference(FindOutlierRecordsBasedOnColumn(df2, \"price in $\"))]\n",
    "\n",
    "#Testing\n",
    "dropOutlierBasedOnColumn(df2, \"price in $\").shape"
   ]
  },
  {
   "cell_type": "code",
   "execution_count": 37,
   "id": "3707791b-771a-4c4d-b355-3d2778883d7c",
   "metadata": {
    "tags": []
   },
   "outputs": [
    {
     "name": "stdout",
     "output_type": "stream",
     "text": [
      "Outliers values in 'price in $' column: \n",
      " [675.0, 1036.0, 1239.0, 800.0, 614.0, 950.0, 970.0, 636.0, 1129.0, 650.0, 550.0, 650.0, 730.0, 600.0, 10000.0, 670.0, 1100.0, 879.0, 575.0, 1150.0, 857.0, 636.0, 550.0, 607.0, 629.0, 675.0, 571.0, 900.0, 542.0, 529.0, 550.0, 733.0, 578.0, 695.0, 800.0, 539.0, 552.0, 599.0, 601.0, 535.0, 1160.0, 747.0, 563.0, 700.0, 599.0, 579.0, 900.0, 1024.0, 1790.0, 600.0, 529.0, 550.0, 600.0, 600.0, 562.0, 1000.0, 800.0, 812.0, 2575.0, 733.0, 557.0, 747.0, 543.0, 936.0, 643.0, 550.0, 595.0, 650.0, 540.0, 557.0, 1250.0, 900.0, 613.0, 650.0, 1150.0, 950.0, 568.0, 600.0, 895.0, 857.0, 550.0, 570.0, 576.0, 578.0, 1600.0, 600.0, 749.0, 550.0, 535.0, 750.0, 536.0, 656.0, 750.0, 670.0, 536.0, 607.0, 750.0, 1150.0, 850.0, 600.0, 700.0, 695.0, 942.0, 567.0, 536.0, 591.0, 600.0, 714.0, 7900.0, 1246.0, 700.0, 626.0, 1457.0, 581.0, 550.0, 573.0, 1222.0, 1457.0, 564.0, 664.0, 679.0, 889.0, 1000.0, 530.0, 625.0, 850.0, 1500.0, 599.0, 628.0, 650.0, 535.0, 591.0, 700.0, 600.0, 1399.0, 550.0, 620.0, 549.0, 595.0, 1643.0, 557.0, 595.0, 680.0, 593.0, 700.0, 549.0, 800.0, 807.0, 559.0, 750.0, 800.0, 786.0, 850.0, 775.0, 821.0, 843.0, 2000.0, 550.0, 550.0, 600.0, 550.0, 650.0, 600.0, 600.0, 600.0, 586.0, 550.0, 800.0, 586.0, 1029.0, 793.0, 850.0, 1536.0, 600.0, 950.0, 845.0, 725.0, 613.0, 750.0, 599.0, 650.0, 799.0, 603.0, 557.0, 582.0, 575.0, 568.0, 699.0, 725.0, 750.0, 829.0, 1021.0, 1278.0, 630.0, 650.0, 590.0, 2500.0, 595.0, 550.0, 646.0, 535.0, 888.0, 1049.0, 650.0, 559.0, 680.0, 600.0, 855.0, 650.0, 550.0, 950.0, 750.0, 571.0, 700.0, 714.0, 559.0, 714.0, 1250.0, 600.0, 689.0, 750.0, 547.0, 649.0, 600.0, 550.0, 2083.0, 1000.0, 749.0, 750.0, 693.0, 539.0, 550.0]\n",
      "\n",
      "Outliers values in 'minimum_nights' column: \n",
      " [14.0, 9.0, 30.0, 28.0, 8.0, 7.0, 7.0, 7.0, 30.0, 7.0, 93.0, 28.0, 28.0, 30.0, 14.0, 7.0, 7.0, 30.0, 28.0, 8.0, 7.0, 28.0, 10.0, 15.0, 30.0, 14.0, 7.0, 7.0, 7.0, 7.0, 7.0, 7.0, 7.0, 7.0, 10.0, 7.0, 300.0, 8.0, 7.0, 100.0, 14.0, 30.0, 7.0, 10.0, 7.0, 7.0, 14.0, 7.0, 7.0, 7.0, 14.0, 7.0, 11.0, 8.0, 10.0, 14.0, 7.0, 25.0, 10.0, 12.0, 14.0, 7.0, 7.0, 7.0, 8.0, 28.0, 10.0, 7.0, 21.0, 14.0, 7.0, 180.0, 7.0, 7.0, 180.0, 12.0, 14.0, 800.0, 13.0, 7.0, 10.0, 26.0, 7.0, 45.0, 8.0, 9.0, 7.0, 14.0, 10.0, 7.0, 10.0, 7.0, 28.0, 7.0, 8.0, 12.0, 30.0, 7.0, 7.0, 10.0, 15.0, 14.0, 9.0, 28.0, 7.0, 7.0, 25.0, 7.0, 28.0, 7.0, 7.0, 90.0, 14.0, 7.0, 10.0, 28.0, 7.0, 10.0, 7.0, 7.0, 7.0, 14.0, 28.0, 20.0, 7.0, 14.0, 7.0, 52.0, 7.0, 28.0, 12.0, 15.0, 1000.0, 7.0, 7.0, 28.0, 30.0, 7.0, 14.0, 1001.0, 7.0, 7.0, 9.0, 21.0, 20.0, 444.0, 7.0, 7.0, 22.0, 7.0, 7.0, 7.0, 10.0, 300.0, 1000.0, 7.0, 12.0, 9.0, 7.0, 7.0, 7.0, 21.0, 7.0, 7.0, 7.0, 7.0, 12.0, 21.0, 7.0, 14.0, 30.0, 20.0, 14.0, 7.0, 14.0, 7.0, 7.0, 7.0, 7.0, 7.0, 7.0, 7.0, 8.0, 10.0, 7.0, 7.0, 7.0, 7.0, 7.0, 7.0, 7.0, 7.0, 7.0, 7.0, 7.0, 7.0, 21.0, 7.0, 10.0, 7.0, 7.0, 7.0, 28.0, 11.0, 28.0, 8.0, 7.0, 7.0, 9.0, 28.0, 7.0, 20.0, 7.0, 7.0, 7.0, 7.0, 7.0, 7.0, 7.0, 20.0, 13.0, 7.0, 14.0, 10.0, 15.0, 1000.0, 20.0, 10.0, 14.0, 7.0, 1000.0, 7.0, 7.0, 7.0, 20.0, 7.0, 7.0, 30.0, 20.0, 7.0, 999.0, 7.0, 7.0, 30.0, 7.0, 10.0, 10.0, 20.0, 84.0, 7.0, 7.0, 7.0, 7.0, 14.0, 7.0, 7.0, 7.0, 7.0, 109.0, 7.0, 7.0, 8.0, 7.0, 28.0, 7.0, 7.0, 7.0, 7.0, 26.0, 7.0, 7.0, 7.0, 7.0, 7.0, 7.0, 7.0, 7.0, 7.0, 7.0, 7.0, 7.0, 7.0, 16.0, 7.0, 7.0, 15.0, 7.0, 10.0, 7.0, 7.0, 7.0, 7.0, 7.0, 7.0, 14.0, 7.0, 7.0, 10.0, 7.0, 21.0, 7.0, 183.0, 7.0, 7.0, 14.0, 9.0, 7.0, 30.0, 7.0, 15.0, 300.0, 7.0, 7.0, 8.0, 7.0, 8.0, 7.0, 7.0, 7.0, 7.0, 28.0, 28.0, 20.0, 7.0, 20.0, 7.0, 12.0, 28.0, 7.0, 7.0, 10.0, 7.0, 7.0, 28.0, 7.0, 7.0, 7.0, 7.0, 7.0, 7.0, 7.0, 7.0, 7.0, 90.0, 7.0, 7.0, 7.0, 7.0, 1000.0, 7.0, 7.0, 12.0, 7.0, 7.0, 14.0, 7.0, 7.0, 7.0, 7.0, 25.0, 7.0, 15.0, 7.0, 7.0, 7.0, 28.0, 7.0, 7.0, 7.0, 7.0, 7.0, 30.0, 7.0, 7.0, 7.0, 10.0, 9.0, 7.0, 7.0, 30.0]\n",
      "\n",
      "Outliers values in 'Rating' column: \n",
      " [4.3, 4.27, 4.36, 4.33, 4.19, 4.22, 4.37, 4.34, 4.3, 4.33, 4.33, 4.3, 4.14, 4.0, 3.91, 4.33, 4.33, 4.22, 4.27, 4.11, 4.15, 4.31, 4.35, 4.32, 4.29, 4.34, 4.35, 4.31, 4.36, 4.17, 4.32, 4.25, 4.25, 4.27, 4.36, 4.35, 4.14, 4.2, 4.27, 4.36, 4.0, 4.36, 4.3, 4.09, 4.2, 4.25, 4.23, 3.43, 4.14, 4.33, 4.28, 4.3, 4.31, 4.0, 4.33, 4.33, 4.33, 4.27, 4.24, 4.35, 4.0, 4.35, 4.13, 4.3, 4.32, 4.0, 4.31, 4.0, 4.36, 4.2, 4.2, 4.25, 4.33, 4.33, 4.23, 4.0, 3.41, 4.0, 4.25, 4.17, 4.23, 4.3, 4.26, 4.17, 4.35, 4.36, 4.24, 3.57, 4.0, 3.75, 4.24, 4.33, 4.29, 4.36, 4.3, 4.09, 4.15, 3.63, 1.67, 3.94, 4.0, 4.25, 4.23, 4.33, 4.33, 4.17, 3.96, 4.0, 3.4, 4.33, 4.13, 4.03, 3.58, 3.89, 3.33, 4.05, 4.0, 4.33, 4.0, 4.17, 3.8, 3.89, 4.35, 4.08, 4.3, 4.0, 4.0, 3.67, 4.31, 4.09, 4.29, 3.56, 4.36, 4.33, 3.93, 4.0, 4.33, 4.2, 4.3, 4.17, 3.8, 3.58, 4.2, 4.3, 4.25, 4.0, 3.83, 3.33, 4.18, 3.75, 4.2, 4.33, 4.2, 4.25, 4.2, 4.0, 4.05, 4.2, 3.57, 4.33, 4.33, 4.33, 4.2, 4.33, 4.33, 4.33, 3.33, 4.0, 4.33, 4.33, 4.19, 3.67, 4.12, 4.33, 4.0, 2.67, 4.29, 3.97, 4.33, 4.2, 4.33, 4.25, 4.0, 3.67, 4.0, 4.25, 4.21, 4.33, 4.14, 4.0, 4.25, 4.0, 4.0, 4.25, 4.33, 4.25, 3.33, 4.0, 4.33, 4.0, 4.33, 4.33, 4.0, 4.35, 4.18, 4.33, 4.33, 4.33, 3.67]\n"
     ]
    }
   ],
   "source": [
    "# 2.4.6 Find outliers for 'price in $', 'minimum_nights', and 'Rating' using the standard multiplier (1.5)\n",
    "\n",
    "print(\"Outliers values in 'price in $' column: \\n\", df2[\"price in $\"].loc[FindOutlierRecordsBasedOnColumn(df2, \"price in $\")].tolist())\n",
    "print(\"\\nOutliers values in 'minimum_nights' column: \\n\", df2[\"minimum_nights\"].loc[FindOutlierRecordsBasedOnColumn(df2, \"minimum_nights\")].tolist())\n",
    "print(\"\\nOutliers values in 'Rating' column: \\n\", df2[\"Rating\"].loc[FindOutlierRecordsBasedOnColumn(df2, \"Rating\")].tolist())"
   ]
  },
  {
   "cell_type": "code",
   "execution_count": 38,
   "id": "12eea4f0-c061-434c-b27e-3d7897a89d22",
   "metadata": {
    "tags": []
   },
   "outputs": [],
   "source": [
    "# 2.4.7 Display the count of outliers in each selected column\n"
   ]
  },
  {
   "cell_type": "code",
   "execution_count": 39,
   "id": "8bd6997d-bbb5-4361-a4a2-9f983fe47685",
   "metadata": {
    "tags": []
   },
   "outputs": [],
   "source": [
    "# 2.4.8 Find outliers for the same column using a multiplier of 3.\n"
   ]
  },
  {
   "cell_type": "code",
   "execution_count": 40,
   "id": "f1988f3c",
   "metadata": {},
   "outputs": [],
   "source": [
    "# 2.4.9 Display the new count of outliers in each selected column\n"
   ]
  },
  {
   "cell_type": "raw",
   "id": "6bb49add",
   "metadata": {},
   "source": [
    "2.4.10 What do you think should be done with the outliers for each of the columns?\n",
    "(You are not required to actually remove them for this Homework).\n",
    "\n",
    "price in $:\n",
    "\n",
    "minimum_nights:\n",
    "\n",
    "Rating:\n"
   ]
  },
  {
   "cell_type": "markdown",
   "id": "a8144c46-0c57-411e-a3c7-d15b4fee4f7a",
   "metadata": {},
   "source": [
    "### 2.5. **Compute the Average Price for Each Type of Listing.**"
   ]
  },
  {
   "cell_type": "code",
   "execution_count": 41,
   "id": "a7cced60-c5ad-4567-99aa-251076ccc1ba",
   "metadata": {
    "tags": []
   },
   "outputs": [],
   "source": [
    "# 2.5.1 Group the data by 'room_type' and calculate the average price for each type\n"
   ]
  },
  {
   "cell_type": "code",
   "execution_count": 42,
   "id": "03510d93-19f3-48ec-9f1f-d84e0148fb79",
   "metadata": {
    "tags": []
   },
   "outputs": [],
   "source": [
    "# 2.5.2 Plot and display the average price for each room type\n"
   ]
  },
  {
   "cell_type": "markdown",
   "id": "27dc4a6d",
   "metadata": {},
   "source": [
    "### 2.6. **How Many Listings Are There for Each Unique 'Apartment Type'?**"
   ]
  },
  {
   "cell_type": "code",
   "execution_count": 43,
   "id": "52a47b7a-0f56-4d02-98a5-82eb5ec643b6",
   "metadata": {
    "tags": []
   },
   "outputs": [],
   "source": [
    "# 2.6.1 Count the frequency of each unique 'Apartment_type'\n"
   ]
  },
  {
   "cell_type": "code",
   "execution_count": 44,
   "id": "aa3171de-3e64-424b-8e3f-d0d58fee3ebe",
   "metadata": {
    "tags": []
   },
   "outputs": [],
   "source": [
    "# 2.6.2 Plot the frequency distribution of 'Apartment_type'\n"
   ]
  },
  {
   "cell_type": "code",
   "execution_count": 45,
   "id": "4b4521c8",
   "metadata": {
    "tags": []
   },
   "outputs": [],
   "source": [
    "# 2.6.3. Find, Plot, and Display the top 10 most common apartment types\n"
   ]
  },
  {
   "cell_type": "code",
   "execution_count": 46,
   "id": "4d8d7fd8-c71e-4dd2-9126-26966aed8e98",
   "metadata": {},
   "outputs": [],
   "source": [
    "# 2.6.4 Find, Plot, and Display the bottom 5 least common apartment types"
   ]
  },
  {
   "cell_type": "markdown",
   "id": "e5400d3c",
   "metadata": {},
   "source": [
    "### 2.7. **Identify the Top 5 Neighbourhoods with the Highest Average Listing Prices.**"
   ]
  },
  {
   "cell_type": "code",
   "execution_count": 47,
   "id": "0c573356-e266-4550-8cb7-895afacd1efc",
   "metadata": {
    "tags": []
   },
   "outputs": [],
   "source": [
    "# 2.7.1 Find the top 5 most expensive neighbourhoods based on average price\n"
   ]
  },
  {
   "cell_type": "code",
   "execution_count": 48,
   "id": "606edc4e",
   "metadata": {},
   "outputs": [],
   "source": [
    "# 2.7.2. Plot and display the top 5 most expensive neighbourhoods\n"
   ]
  }
 ],
 "metadata": {
  "kernelspec": {
   "display_name": "Python 3 (ipykernel)",
   "language": "python",
   "name": "python3"
  },
  "language_info": {
   "codemirror_mode": {
    "name": "ipython",
    "version": 3
   },
   "file_extension": ".py",
   "mimetype": "text/x-python",
   "name": "python",
   "nbconvert_exporter": "python",
   "pygments_lexer": "ipython3",
   "version": "3.12.4"
  }
 },
 "nbformat": 4,
 "nbformat_minor": 5
}
