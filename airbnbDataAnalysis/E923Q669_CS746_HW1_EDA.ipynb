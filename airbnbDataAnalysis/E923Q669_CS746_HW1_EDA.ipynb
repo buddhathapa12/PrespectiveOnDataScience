{
 "cells": [
  {
   "cell_type": "markdown",
   "id": "b1f0279e-f8af-4079-af42-ac6bad50bfb8",
   "metadata": {},
   "source": [
    "## INSTRUCTIONS - IMPORTANT:\n",
    "\n",
    "Every student is expected to submit their own, original solutions for this assignment. While collaborative discussions among classmates are encouraged for better understanding, it is crucial that the work you submit is your own. Copying or replicating someone else's solutions is a breach of academic integrity and will not be tolerated. The use of **AI tools** is also **prohibited** for this assignment."
   ]
  },
  {
   "cell_type": "markdown",
   "id": "1596d825",
   "metadata": {},
   "source": [
    "The dataset used in this assignment is derived from Inside Airbnb, available [here](http://data.insideairbnb.com/the-netherlands/north-holland/amsterdam/2023-06-05/visualisations/listings.csv). It is licensed under a [Creative Commons Attribution 4.0 International License](https://creativecommons.org/licenses/by/4.0/).\n",
    "\n",
    "**Please note that this dataset has been modified and adapted for the scope of this academic assignment. If you are interested in the original data or further Airbnb datasets, we encourage you to visit Inside Airbnb's website: [insideairbnb.com](http://insideairbnb.com).**\n"
   ]
  },
  {
   "cell_type": "markdown",
   "id": "8b607200-74f5-436a-95e1-b3d9d8f0518f",
   "metadata": {},
   "source": [
    "<h3> This assignment is divided into two main components: </h3>\n",
    "\n",
    "1. **Data Manipulation**: Focused on cleaning and preparing the dataset.\n",
    "2. **Exploratory Data Analysis (EDA)**: Concentrated on analyzing and interpreting the data."
   ]
  },
  {
   "cell_type": "markdown",
   "id": "f2900ce9",
   "metadata": {},
   "source": [
    "# PART-1 (Data Cleaning and Manipulation)\n",
    "\n",
    "We will begin by importing the required modules and reading the data file."
   ]
  },
  {
   "cell_type": "code",
   "execution_count": 1,
   "id": "82a7ff87-b67e-4670-83b6-5725b6abea96",
   "metadata": {
    "tags": []
   },
   "outputs": [],
   "source": [
    "import numpy as np\n",
    "from sklearn.datasets import load_iris\n",
    "from sklearn import preprocessing\n",
    "import pandas as pd\n",
    "import seaborn as sns\n",
    "from scipy import stats\n",
    "import matplotlib.pyplot as plt\n",
    "%matplotlib inline"
   ]
  },
  {
   "cell_type": "code",
   "execution_count": 2,
   "id": "3e33b6df-3ad0-418e-8088-958ddd75adb3",
   "metadata": {
    "tags": []
   },
   "outputs": [],
   "source": [
    "df = pd.read_csv(\"airbnb_final.csv\")"
   ]
  },
  {
   "cell_type": "code",
   "execution_count": 3,
   "id": "ab68d38f-2401-44b3-b8a8-fefb50045393",
   "metadata": {
    "tags": []
   },
   "outputs": [
    {
     "data": {
      "text/html": [
       "<div>\n",
       "<style scoped>\n",
       "    .dataframe tbody tr th:only-of-type {\n",
       "        vertical-align: middle;\n",
       "    }\n",
       "\n",
       "    .dataframe tbody tr th {\n",
       "        vertical-align: top;\n",
       "    }\n",
       "\n",
       "    .dataframe thead th {\n",
       "        text-align: right;\n",
       "    }\n",
       "</style>\n",
       "<table border=\"1\" class=\"dataframe\">\n",
       "  <thead>\n",
       "    <tr style=\"text-align: right;\">\n",
       "      <th></th>\n",
       "      <th>host_id</th>\n",
       "      <th>neighbourhood</th>\n",
       "      <th>latitude</th>\n",
       "      <th>longitude</th>\n",
       "      <th>room_type</th>\n",
       "      <th>price in $</th>\n",
       "      <th>minimum_nights</th>\n",
       "      <th>availability_365</th>\n",
       "      <th>Apartment_type</th>\n",
       "      <th>City</th>\n",
       "      <th>Rating</th>\n",
       "      <th>No_of_bed_rooms</th>\n",
       "      <th>No_of_beds</th>\n",
       "      <th>No_of_bathrooms</th>\n",
       "      <th>Bathroom_type</th>\n",
       "    </tr>\n",
       "  </thead>\n",
       "  <tbody>\n",
       "    <tr>\n",
       "      <th>0</th>\n",
       "      <td>3159.0</td>\n",
       "      <td>Oostelijk Havengebied - Indische Buurt</td>\n",
       "      <td>52.36435</td>\n",
       "      <td>4.94358</td>\n",
       "      <td>Private room</td>\n",
       "      <td>69.0</td>\n",
       "      <td>3.0</td>\n",
       "      <td>7.0</td>\n",
       "      <td>Condo</td>\n",
       "      <td>Amsterdam</td>\n",
       "      <td>4.89</td>\n",
       "      <td>1.0</td>\n",
       "      <td>1.0</td>\n",
       "      <td>1.5</td>\n",
       "      <td>shared</td>\n",
       "    </tr>\n",
       "    <tr>\n",
       "      <th>1</th>\n",
       "      <td>59484.0</td>\n",
       "      <td>Centrum-Oost</td>\n",
       "      <td>52.36407</td>\n",
       "      <td>4.89393</td>\n",
       "      <td>Private room</td>\n",
       "      <td>106.0</td>\n",
       "      <td>1.0</td>\n",
       "      <td>0.0</td>\n",
       "      <td>Townhouse</td>\n",
       "      <td>Amsterdam</td>\n",
       "      <td>4.44</td>\n",
       "      <td>1.0</td>\n",
       "      <td>1.0</td>\n",
       "      <td>NaN</td>\n",
       "      <td>private</td>\n",
       "    </tr>\n",
       "    <tr>\n",
       "      <th>2</th>\n",
       "      <td>1100324.0</td>\n",
       "      <td>De Pijp - Rivierenbuurt</td>\n",
       "      <td>52.35150</td>\n",
       "      <td>4.89656</td>\n",
       "      <td>Entire home/apt</td>\n",
       "      <td>270.0</td>\n",
       "      <td>4.0</td>\n",
       "      <td>2.0</td>\n",
       "      <td>Rental unit</td>\n",
       "      <td>Amsterdam</td>\n",
       "      <td>4.86</td>\n",
       "      <td>3.0</td>\n",
       "      <td>3.0</td>\n",
       "      <td>1.5</td>\n",
       "      <td>private</td>\n",
       "    </tr>\n",
       "    <tr>\n",
       "      <th>3</th>\n",
       "      <td>748161.0</td>\n",
       "      <td>Oud-Oost</td>\n",
       "      <td>52.36420</td>\n",
       "      <td>4.92829</td>\n",
       "      <td>Entire home/apt</td>\n",
       "      <td>200.0</td>\n",
       "      <td>3.0</td>\n",
       "      <td>0.0</td>\n",
       "      <td>Rental unit</td>\n",
       "      <td>Amsterdam</td>\n",
       "      <td>4.76</td>\n",
       "      <td>1.0</td>\n",
       "      <td>1.0</td>\n",
       "      <td>1.5</td>\n",
       "      <td>private</td>\n",
       "    </tr>\n",
       "    <tr>\n",
       "      <th>4</th>\n",
       "      <td>97647.0</td>\n",
       "      <td>Centrum-West</td>\n",
       "      <td>52.38761</td>\n",
       "      <td>4.89188</td>\n",
       "      <td>Private room</td>\n",
       "      <td>137.0</td>\n",
       "      <td>3.0</td>\n",
       "      <td>0.0</td>\n",
       "      <td>Houseboat</td>\n",
       "      <td>Amsterdam</td>\n",
       "      <td>4.94</td>\n",
       "      <td>1.0</td>\n",
       "      <td>1.0</td>\n",
       "      <td>1.5</td>\n",
       "      <td>private</td>\n",
       "    </tr>\n",
       "  </tbody>\n",
       "</table>\n",
       "</div>"
      ],
      "text/plain": [
       "     host_id                           neighbourhood  latitude  longitude  \\\n",
       "0     3159.0  Oostelijk Havengebied - Indische Buurt  52.36435    4.94358   \n",
       "1    59484.0                            Centrum-Oost  52.36407    4.89393   \n",
       "2  1100324.0                 De Pijp - Rivierenbuurt  52.35150    4.89656   \n",
       "3   748161.0                                Oud-Oost  52.36420    4.92829   \n",
       "4    97647.0                            Centrum-West  52.38761    4.89188   \n",
       "\n",
       "         room_type  price in $  minimum_nights  availability_365  \\\n",
       "0     Private room        69.0             3.0               7.0   \n",
       "1     Private room       106.0             1.0               0.0   \n",
       "2  Entire home/apt       270.0             4.0               2.0   \n",
       "3  Entire home/apt       200.0             3.0               0.0   \n",
       "4     Private room       137.0             3.0               0.0   \n",
       "\n",
       "  Apartment_type       City  Rating  No_of_bed_rooms  No_of_beds  \\\n",
       "0          Condo  Amsterdam    4.89              1.0         1.0   \n",
       "1      Townhouse  Amsterdam    4.44              1.0         1.0   \n",
       "2    Rental unit  Amsterdam    4.86              3.0         3.0   \n",
       "3    Rental unit  Amsterdam    4.76              1.0         1.0   \n",
       "4      Houseboat  Amsterdam    4.94              1.0         1.0   \n",
       "\n",
       "   No_of_bathrooms Bathroom_type  \n",
       "0              1.5        shared  \n",
       "1              NaN       private  \n",
       "2              1.5       private  \n",
       "3              1.5       private  \n",
       "4              1.5       private  "
      ]
     },
     "execution_count": 3,
     "metadata": {},
     "output_type": "execute_result"
    }
   ],
   "source": [
    "df.head()"
   ]
  },
  {
   "cell_type": "markdown",
   "id": "c065dce8",
   "metadata": {},
   "source": [
    "### 1.1. **What is the shape of the dataset?**"
   ]
  },
  {
   "cell_type": "code",
   "execution_count": 4,
   "id": "24dcb753-4172-43d8-b484-081f9ebbbaa2",
   "metadata": {
    "tags": []
   },
   "outputs": [
    {
     "data": {
      "text/plain": [
       "(7608, 15)"
      ]
     },
     "execution_count": 4,
     "metadata": {},
     "output_type": "execute_result"
    }
   ],
   "source": [
    "#Code goes here\n",
    "df.shape"
   ]
  },
  {
   "cell_type": "markdown",
   "id": "53955378",
   "metadata": {},
   "source": [
    "### 1.2 **Identify the data types of each column. Are there any columns that need type conversion?**"
   ]
  },
  {
   "cell_type": "code",
   "execution_count": 5,
   "id": "26c488ac-4992-4e8f-b3bb-e31ce5373c20",
   "metadata": {
    "tags": []
   },
   "outputs": [
    {
     "name": "stdout",
     "output_type": "stream",
     "text": [
      "<class 'pandas.core.frame.DataFrame'>\n",
      "RangeIndex: 7608 entries, 0 to 7607\n",
      "Data columns (total 15 columns):\n",
      " #   Column            Non-Null Count  Dtype  \n",
      "---  ------            --------------  -----  \n",
      " 0   host_id           7602 non-null   float64\n",
      " 1   neighbourhood     7608 non-null   object \n",
      " 2   latitude          7604 non-null   float64\n",
      " 3   longitude         7602 non-null   float64\n",
      " 4   room_type         7608 non-null   object \n",
      " 5   price in $        7598 non-null   float64\n",
      " 6   minimum_nights    7599 non-null   float64\n",
      " 7   availability_365  7607 non-null   float64\n",
      " 8   Apartment_type    7607 non-null   object \n",
      " 9   City              7607 non-null   object \n",
      " 10  Rating            6030 non-null   float64\n",
      " 11  No_of_bed_rooms   7324 non-null   float64\n",
      " 12  No_of_beds        7591 non-null   float64\n",
      " 13  No_of_bathrooms   6804 non-null   float64\n",
      " 14  Bathroom_type     7607 non-null   object \n",
      "dtypes: float64(10), object(5)\n",
      "memory usage: 891.7+ KB\n"
     ]
    }
   ],
   "source": [
    "# 1.2.1 Code to identify data types goes here.\n",
    "df.info()"
   ]
  },
  {
   "cell_type": "raw",
   "id": "32fcd176-c3ba-4b11-b599-1443f4bfde7f",
   "metadata": {
    "vscode": {
     "languageId": "raw"
    }
   },
   "source": [
    "1.2.2 List the columns that need their type changed.\n",
    "- host_id\n",
    "- minimum_nights\n",
    "- availability_365\n",
    "- No_of_bed_rooms\n",
    "- No_of_beds\n",
    "- No_of_bathrooms "
   ]
  },
  {
   "cell_type": "code",
   "execution_count": 6,
   "id": "5fd686a9-b4f8-49af-8b1c-0423374cdbbc",
   "metadata": {
    "tags": []
   },
   "outputs": [
    {
     "name": "stdout",
     "output_type": "stream",
     "text": [
      "<class 'pandas.core.frame.DataFrame'>\n",
      "RangeIndex: 7608 entries, 0 to 7607\n",
      "Data columns (total 15 columns):\n",
      " #   Column            Non-Null Count  Dtype  \n",
      "---  ------            --------------  -----  \n",
      " 0   host_id           7608 non-null   int64  \n",
      " 1   neighbourhood     7608 non-null   object \n",
      " 2   latitude          7604 non-null   float64\n",
      " 3   longitude         7602 non-null   float64\n",
      " 4   room_type         7608 non-null   object \n",
      " 5   price in $        7598 non-null   float64\n",
      " 6   minimum_nights    7599 non-null   float64\n",
      " 7   availability_365  7607 non-null   float64\n",
      " 8   Apartment_type    7607 non-null   object \n",
      " 9   City              7607 non-null   object \n",
      " 10  Rating            6030 non-null   float64\n",
      " 11  No_of_bed_rooms   7324 non-null   float64\n",
      " 12  No_of_beds        7591 non-null   float64\n",
      " 13  No_of_bathrooms   6804 non-null   float64\n",
      " 14  Bathroom_type     7607 non-null   object \n",
      "dtypes: float64(9), int64(1), object(5)\n",
      "memory usage: 891.7+ KB\n"
     ]
    }
   ],
   "source": [
    "# 1.2.3 change the host_id column to an integer\n",
    "df[\"host_id\"] = df[\"host_id\"].fillna(0).astype(int)\n",
    "df.info()"
   ]
  },
  {
   "cell_type": "markdown",
   "id": "7684276b",
   "metadata": {},
   "source": [
    "### 1.3. **Are there any duplicate rows in the dataset? If yes, how would you handle them?**"
   ]
  },
  {
   "cell_type": "code",
   "execution_count": 7,
   "id": "c1988573-15f6-47b3-acf9-2e57ac5decaf",
   "metadata": {
    "tags": []
   },
   "outputs": [
    {
     "name": "stdout",
     "output_type": "stream",
     "text": [
      "False    7608\n",
      "Name: count, dtype: int64\n"
     ]
    },
    {
     "data": {
      "text/plain": [
       "0       False\n",
       "1       False\n",
       "2       False\n",
       "3       False\n",
       "4       False\n",
       "        ...  \n",
       "7603    False\n",
       "7604    False\n",
       "7605    False\n",
       "7606    False\n",
       "7607    False\n",
       "Length: 7608, dtype: bool"
      ]
     },
     "execution_count": 7,
     "metadata": {},
     "output_type": "execute_result"
    }
   ],
   "source": [
    "# 1.3.1 check for duplicate values\n",
    "\n",
    "print(df.duplicated().value_counts())\n",
    "df.duplicated()\n",
    "\n"
   ]
  },
  {
   "cell_type": "raw",
   "id": "f345e347",
   "metadata": {
    "vscode": {
     "languageId": "raw"
    }
   },
   "source": [
    "1.3.2 How would you handle duplicate rows?\n",
    "There are no duplicate records present in the dataset. If there existed the duplicate records then I would drop all duplicate redundant data."
   ]
  },
  {
   "cell_type": "markdown",
   "id": "82b7d3f0",
   "metadata": {},
   "source": [
    "### 1.4. **Check for missing values, How would you handle the missing values in the dataset?**"
   ]
  },
  {
   "cell_type": "code",
   "execution_count": 8,
   "id": "40a3d1d9-1d7d-48ed-a30f-70875176eed1",
   "metadata": {
    "tags": []
   },
   "outputs": [
    {
     "data": {
      "text/plain": [
       "host_id                0\n",
       "neighbourhood          0\n",
       "latitude               4\n",
       "longitude              6\n",
       "room_type              0\n",
       "price in $            10\n",
       "minimum_nights         9\n",
       "availability_365       1\n",
       "Apartment_type         1\n",
       "City                   1\n",
       "Rating              1578\n",
       "No_of_bed_rooms      284\n",
       "No_of_beds            17\n",
       "No_of_bathrooms      804\n",
       "Bathroom_type          1\n",
       "dtype: int64"
      ]
     },
     "execution_count": 8,
     "metadata": {},
     "output_type": "execute_result"
    }
   ],
   "source": [
    "# 1.4.1 check for missing values\n",
    "df.isnull().sum()"
   ]
  },
  {
   "cell_type": "raw",
   "id": "b5e13ce7",
   "metadata": {
    "vscode": {
     "languageId": "raw"
    }
   },
   "source": [
    "1.4.2 List some ways you might handle columns with missing values.\n",
    "- Replace missing values by mean\n",
    "- Replace missing values by median \n",
    "- Drop the records containing missing values (If missing values are in too small number)\n",
    "- If column contains large number of missing values then we may drop the columns containing missing values. "
   ]
  },
  {
   "cell_type": "code",
   "execution_count": 9,
   "id": "1daaf9d4-38d3-4876-b32c-41729b16c03b",
   "metadata": {
    "tags": []
   },
   "outputs": [],
   "source": [
    "# 1.4.3 Populate missing values in the 'price in $' column with the mean.\n",
    "df[\"price in $\"]= df[\"price in $\"].fillna(df[\"price in $\"].dropna().mean())\n",
    "\n"
   ]
  },
  {
   "cell_type": "code",
   "execution_count": 10,
   "id": "be21ec60-ba4e-4404-816d-de71c4b9ddd8",
   "metadata": {
    "tags": []
   },
   "outputs": [
    {
     "data": {
      "text/plain": [
       "host_id                0\n",
       "neighbourhood          0\n",
       "latitude               4\n",
       "longitude              6\n",
       "room_type              0\n",
       "price in $             0\n",
       "minimum_nights         9\n",
       "availability_365       1\n",
       "Apartment_type         1\n",
       "City                   1\n",
       "Rating              1578\n",
       "No_of_bed_rooms      284\n",
       "No_of_beds            17\n",
       "No_of_bathrooms      804\n",
       "Bathroom_type          1\n",
       "dtype: int64"
      ]
     },
     "execution_count": 10,
     "metadata": {},
     "output_type": "execute_result"
    }
   ],
   "source": [
    "# 1.4.4 Verify that there are no more missing values in the 'price in $' column\n",
    "df.isnull().sum()"
   ]
  },
  {
   "cell_type": "code",
   "execution_count": 11,
   "id": "3bce490b",
   "metadata": {},
   "outputs": [
    {
     "data": {
      "text/plain": [
       "array(['Amsterdam', nan], dtype=object)"
      ]
     },
     "execution_count": 11,
     "metadata": {},
     "output_type": "execute_result"
    }
   ],
   "source": [
    "df[\"City\"].unique()"
   ]
  },
  {
   "cell_type": "markdown",
   "id": "c67a4bb0",
   "metadata": {},
   "source": [
    "Before replacing the null value in \"City\" column, We need to check the unique data \"City\" column contains. As \"City\" column only contains \"Amsterdam\" string, We will replace one missing record in \"City\" column with \"Amsterdam\" string."
   ]
  },
  {
   "cell_type": "code",
   "execution_count": 12,
   "id": "f1eca599",
   "metadata": {},
   "outputs": [],
   "source": [
    "# 1.4.5 Populate all missing values in the City column with \"Amsterdam\"\n",
    "df[\"City\"] = df[\"City\"].fillna(value=\"Amsterdam\")"
   ]
  },
  {
   "cell_type": "code",
   "execution_count": 13,
   "id": "f31b257c",
   "metadata": {},
   "outputs": [
    {
     "data": {
      "text/plain": [
       "0"
      ]
     },
     "execution_count": 13,
     "metadata": {},
     "output_type": "execute_result"
    }
   ],
   "source": [
    "# 1.4.6 Verify that there are no more missing values in the 'City' column\n",
    "df[\"City\"].isnull().sum()"
   ]
  },
  {
   "cell_type": "code",
   "execution_count": 14,
   "id": "ab8e99e2-77ae-49b3-aa38-e0730af0fae5",
   "metadata": {
    "tags": []
   },
   "outputs": [
    {
     "data": {
      "text/html": [
       "<div>\n",
       "<style scoped>\n",
       "    .dataframe tbody tr th:only-of-type {\n",
       "        vertical-align: middle;\n",
       "    }\n",
       "\n",
       "    .dataframe tbody tr th {\n",
       "        vertical-align: top;\n",
       "    }\n",
       "\n",
       "    .dataframe thead th {\n",
       "        text-align: right;\n",
       "    }\n",
       "</style>\n",
       "<table border=\"1\" class=\"dataframe\">\n",
       "  <thead>\n",
       "    <tr style=\"text-align: right;\">\n",
       "      <th></th>\n",
       "      <th>host_id</th>\n",
       "      <th>neighbourhood</th>\n",
       "      <th>latitude</th>\n",
       "      <th>longitude</th>\n",
       "      <th>room_type</th>\n",
       "      <th>price in $</th>\n",
       "      <th>minimum_nights</th>\n",
       "      <th>availability_365</th>\n",
       "      <th>Apartment_type</th>\n",
       "      <th>City</th>\n",
       "      <th>Rating</th>\n",
       "      <th>No_of_bed_rooms</th>\n",
       "      <th>No_of_beds</th>\n",
       "      <th>No_of_bathrooms</th>\n",
       "      <th>Bathroom_type</th>\n",
       "    </tr>\n",
       "  </thead>\n",
       "  <tbody>\n",
       "    <tr>\n",
       "      <th>0</th>\n",
       "      <td>3159</td>\n",
       "      <td>Oostelijk Havengebied - Indische Buurt</td>\n",
       "      <td>52.36435</td>\n",
       "      <td>4.94358</td>\n",
       "      <td>Private room</td>\n",
       "      <td>69.0</td>\n",
       "      <td>3.0</td>\n",
       "      <td>7.0</td>\n",
       "      <td>Condo</td>\n",
       "      <td>Amsterdam</td>\n",
       "      <td>4.89</td>\n",
       "      <td>1.0</td>\n",
       "      <td>1.0</td>\n",
       "      <td>1.5</td>\n",
       "      <td>shared</td>\n",
       "    </tr>\n",
       "    <tr>\n",
       "      <th>2</th>\n",
       "      <td>1100324</td>\n",
       "      <td>De Pijp - Rivierenbuurt</td>\n",
       "      <td>52.35150</td>\n",
       "      <td>4.89656</td>\n",
       "      <td>Entire home/apt</td>\n",
       "      <td>270.0</td>\n",
       "      <td>4.0</td>\n",
       "      <td>2.0</td>\n",
       "      <td>Rental unit</td>\n",
       "      <td>Amsterdam</td>\n",
       "      <td>4.86</td>\n",
       "      <td>3.0</td>\n",
       "      <td>3.0</td>\n",
       "      <td>1.5</td>\n",
       "      <td>private</td>\n",
       "    </tr>\n",
       "    <tr>\n",
       "      <th>3</th>\n",
       "      <td>748161</td>\n",
       "      <td>Oud-Oost</td>\n",
       "      <td>52.36420</td>\n",
       "      <td>4.92829</td>\n",
       "      <td>Entire home/apt</td>\n",
       "      <td>200.0</td>\n",
       "      <td>3.0</td>\n",
       "      <td>0.0</td>\n",
       "      <td>Rental unit</td>\n",
       "      <td>Amsterdam</td>\n",
       "      <td>4.76</td>\n",
       "      <td>1.0</td>\n",
       "      <td>1.0</td>\n",
       "      <td>1.5</td>\n",
       "      <td>private</td>\n",
       "    </tr>\n",
       "    <tr>\n",
       "      <th>4</th>\n",
       "      <td>97647</td>\n",
       "      <td>Centrum-West</td>\n",
       "      <td>52.38761</td>\n",
       "      <td>4.89188</td>\n",
       "      <td>Private room</td>\n",
       "      <td>137.0</td>\n",
       "      <td>3.0</td>\n",
       "      <td>0.0</td>\n",
       "      <td>Houseboat</td>\n",
       "      <td>Amsterdam</td>\n",
       "      <td>4.94</td>\n",
       "      <td>1.0</td>\n",
       "      <td>1.0</td>\n",
       "      <td>1.5</td>\n",
       "      <td>private</td>\n",
       "    </tr>\n",
       "    <tr>\n",
       "      <th>5</th>\n",
       "      <td>776296</td>\n",
       "      <td>De Baarsjes - Oud-West</td>\n",
       "      <td>52.36270</td>\n",
       "      <td>4.85693</td>\n",
       "      <td>Entire home/apt</td>\n",
       "      <td>170.0</td>\n",
       "      <td>3.0</td>\n",
       "      <td>157.0</td>\n",
       "      <td>Rental unit</td>\n",
       "      <td>Amsterdam</td>\n",
       "      <td>4.77</td>\n",
       "      <td>1.0</td>\n",
       "      <td>1.0</td>\n",
       "      <td>1.0</td>\n",
       "      <td>private</td>\n",
       "    </tr>\n",
       "  </tbody>\n",
       "</table>\n",
       "</div>"
      ],
      "text/plain": [
       "   host_id                           neighbourhood  latitude  longitude  \\\n",
       "0     3159  Oostelijk Havengebied - Indische Buurt  52.36435    4.94358   \n",
       "2  1100324                 De Pijp - Rivierenbuurt  52.35150    4.89656   \n",
       "3   748161                                Oud-Oost  52.36420    4.92829   \n",
       "4    97647                            Centrum-West  52.38761    4.89188   \n",
       "5   776296                  De Baarsjes - Oud-West  52.36270    4.85693   \n",
       "\n",
       "         room_type  price in $  minimum_nights  availability_365  \\\n",
       "0     Private room        69.0             3.0               7.0   \n",
       "2  Entire home/apt       270.0             4.0               2.0   \n",
       "3  Entire home/apt       200.0             3.0               0.0   \n",
       "4     Private room       137.0             3.0               0.0   \n",
       "5  Entire home/apt       170.0             3.0             157.0   \n",
       "\n",
       "  Apartment_type       City  Rating  No_of_bed_rooms  No_of_beds  \\\n",
       "0          Condo  Amsterdam    4.89              1.0         1.0   \n",
       "2    Rental unit  Amsterdam    4.86              3.0         3.0   \n",
       "3    Rental unit  Amsterdam    4.76              1.0         1.0   \n",
       "4      Houseboat  Amsterdam    4.94              1.0         1.0   \n",
       "5    Rental unit  Amsterdam    4.77              1.0         1.0   \n",
       "\n",
       "   No_of_bathrooms Bathroom_type  \n",
       "0              1.5        shared  \n",
       "2              1.5       private  \n",
       "3              1.5       private  \n",
       "4              1.5       private  \n",
       "5              1.0       private  "
      ]
     },
     "execution_count": 14,
     "metadata": {},
     "output_type": "execute_result"
    }
   ],
   "source": [
    "# 1.4.7 Drop all remaining rows with missing data. Store the result in a new dataframe called df2.\n",
    "df2 = df.dropna()\n",
    "df2.head()"
   ]
  },
  {
   "cell_type": "markdown",
   "id": "58d55fe0",
   "metadata": {
    "tags": []
   },
   "source": [
    "### 1.5. Compare the shapes of the original (df) and new (df2) dataframes, and verify there are no missing values in df2."
   ]
  },
  {
   "cell_type": "code",
   "execution_count": 15,
   "id": "b6479b85-b098-417a-ab7a-86e49b323b57",
   "metadata": {
    "tags": []
   },
   "outputs": [
    {
     "name": "stdout",
     "output_type": "stream",
     "text": [
      "Shape of original dataframe df:  (7608, 15)\n",
      "Shape of new dataframe after dropping records with missing values df2:  (5108, 15)\n"
     ]
    }
   ],
   "source": [
    "# 1.5.1 code to show shapes of old and new dataframes\n",
    "print(\"Shape of original dataframe df: \", df.shape)\n",
    "print(\"Shape of new dataframe after dropping records with missing values df2: \", df2.shape)"
   ]
  },
  {
   "cell_type": "markdown",
   "id": "333ff92b",
   "metadata": {},
   "source": [
    "- After comparision, we found that 7608 - 5104 = 2504 records were dropped from original dataframe. "
   ]
  },
  {
   "cell_type": "code",
   "execution_count": 16,
   "id": "9af2c0f5-a3b1-46b0-a132-f97b9d4651fb",
   "metadata": {
    "tags": []
   },
   "outputs": [
    {
     "data": {
      "text/plain": [
       "host_id             0\n",
       "neighbourhood       0\n",
       "latitude            0\n",
       "longitude           0\n",
       "room_type           0\n",
       "price in $          0\n",
       "minimum_nights      0\n",
       "availability_365    0\n",
       "Apartment_type      0\n",
       "City                0\n",
       "Rating              0\n",
       "No_of_bed_rooms     0\n",
       "No_of_beds          0\n",
       "No_of_bathrooms     0\n",
       "Bathroom_type       0\n",
       "dtype: int64"
      ]
     },
     "execution_count": 16,
     "metadata": {},
     "output_type": "execute_result"
    }
   ],
   "source": [
    "# 1.5.2 Code to verify no missing values\n",
    "df2.isnull().sum()"
   ]
  },
  {
   "cell_type": "markdown",
   "id": "f7b7b0d2",
   "metadata": {},
   "source": [
    "- We can see in the result above, no field contains missing value.  "
   ]
  },
  {
   "cell_type": "markdown",
   "id": "ce912f4d",
   "metadata": {},
   "source": [
    "### 1.6. **Drop the 'latitude' and 'longitude' columns. How does it affect the shape of the dataset?**"
   ]
  },
  {
   "cell_type": "markdown",
   "id": "a0cb971d",
   "metadata": {},
   "source": [
    "Note: from here forward, work with the df2 DataFrame."
   ]
  },
  {
   "cell_type": "code",
   "execution_count": 17,
   "id": "91c69265-3568-4a97-9e90-15677c70b23e",
   "metadata": {
    "tags": []
   },
   "outputs": [],
   "source": [
    "# 1.6.1 Code goes here\n",
    "df2 = df2.drop(columns=[\"latitude\", \"longitude\"])"
   ]
  },
  {
   "cell_type": "code",
   "execution_count": 18,
   "id": "09ea894c",
   "metadata": {},
   "outputs": [
    {
     "data": {
      "text/plain": [
       "(5108, 13)"
      ]
     },
     "execution_count": 18,
     "metadata": {},
     "output_type": "execute_result"
    }
   ],
   "source": [
    "# 1.6.2 Show new shape\n",
    "df2.shape"
   ]
  },
  {
   "cell_type": "markdown",
   "id": "c6154822",
   "metadata": {},
   "source": [
    "- After dropping latitude and longitude, we see that shape changed from (5104, 15) to (5104, 13)."
   ]
  },
  {
   "cell_type": "markdown",
   "id": "f4b2b687",
   "metadata": {},
   "source": [
    "### 1.7. **List the  unique values in Apartment_type and Bathroom_type**"
   ]
  },
  {
   "cell_type": "code",
   "execution_count": 19,
   "id": "af8da01e-d2c6-4b25-a047-4610f6e32fcf",
   "metadata": {
    "tags": []
   },
   "outputs": [
    {
     "name": "stdout",
     "output_type": "stream",
     "text": [
      "Unique values present in 'Apartment_type' column are listed below: \n",
      " ['Condo' 'Rental unit' 'Houseboat' 'Boutique hotel' 'Guest suite' 'Home'\n",
      " 'Loft' 'Boat' 'Bed and breakfast' 'Townhouse' 'Chalet' 'Guesthouse'\n",
      " 'Farm stay' 'Serviced apartment' 'Barn' 'Hotel' 'Cabin' 'Villa'\n",
      " 'Place to stay' 'Tiny home' 'Cottage' 'Nature lodge' 'Tower' 'Hostel'\n",
      " 'Aparthotel' 'Camper/RV' 'Earthen home' 'casa particular' 'Vacation home'\n",
      " 'Tent']\n"
     ]
    }
   ],
   "source": [
    "# 1.7.1 Find and list the unique apartment tpyes.\n",
    "print(\"Unique values present in 'Apartment_type' column are listed below: \\n\", df2[\"Apartment_type\"].unique())\n"
   ]
  },
  {
   "cell_type": "code",
   "execution_count": 20,
   "id": "1372613e-f794-4aee-a2da-9dad0b79396d",
   "metadata": {
    "tags": []
   },
   "outputs": [
    {
     "name": "stdout",
     "output_type": "stream",
     "text": [
      "Unique values present in 'Bathroom_type' column are listed below: \n",
      " ['shared' 'private']\n"
     ]
    },
    {
     "data": {
      "text/plain": [
       "['shared', 'private']"
      ]
     },
     "execution_count": 20,
     "metadata": {},
     "output_type": "execute_result"
    }
   ],
   "source": [
    "# 1.7.2 Find and list the unique bathroom types.\n",
    "print(\"Unique values present in 'Bathroom_type' column are listed below: \\n\", df2[\"Bathroom_type\"].unique())\n",
    "\n",
    "df2[\"Bathroom_type\"].unique().tolist()"
   ]
  },
  {
   "cell_type": "markdown",
   "id": "40d69a7d",
   "metadata": {},
   "source": [
    "### 1.8. **Replace the bathroom types (shared and private) with integers (0 and 1).**"
   ]
  },
  {
   "cell_type": "code",
   "execution_count": 21,
   "id": "1a99c43d-8dc7-4186-accf-cd2c3fa62e0f",
   "metadata": {
    "tags": []
   },
   "outputs": [],
   "source": [
    "# 1.8.1 Replace the strings with integers\n",
    "df2[\"Bathroom_type\"] = df2[\"Bathroom_type\"].map(arg= {\"shared\": 0, \"private\": 1})"
   ]
  },
  {
   "cell_type": "code",
   "execution_count": 22,
   "id": "64d6f42b-190e-4c81-82a9-2334322a1a8d",
   "metadata": {
    "scrolled": true,
    "tags": []
   },
   "outputs": [
    {
     "data": {
      "text/plain": [
       "array([0, 1])"
      ]
     },
     "execution_count": 22,
     "metadata": {},
     "output_type": "execute_result"
    }
   ],
   "source": [
    "# 1.8.2 Verify the changes\n",
    "df2[\"Bathroom_type\"].unique()"
   ]
  },
  {
   "cell_type": "markdown",
   "id": "f70eef0d-0c39-4a80-bbb9-801fb35b4538",
   "metadata": {},
   "source": [
    "# Part - 2 (Exploratory Data Analysis)"
   ]
  },
  {
   "cell_type": "markdown",
   "id": "a5711bab",
   "metadata": {},
   "source": [
    "Exploratory Data Analysis refers to the critical process of performing initial investigations on data so as to discover patterns, to spot anomalies,to test hypothesis and to check assumptions with the help of summary statistics and graphical representations. "
   ]
  },
  {
   "cell_type": "markdown",
   "id": "01220f3e",
   "metadata": {},
   "source": [
    "### 2.1. **Describe the data.**"
   ]
  },
  {
   "cell_type": "code",
   "execution_count": 23,
   "id": "7f8d7c7a-4296-4a57-a75d-1e2cfa99fc45",
   "metadata": {
    "tags": []
   },
   "outputs": [
    {
     "data": {
      "text/html": [
       "<div>\n",
       "<style scoped>\n",
       "    .dataframe tbody tr th:only-of-type {\n",
       "        vertical-align: middle;\n",
       "    }\n",
       "\n",
       "    .dataframe tbody tr th {\n",
       "        vertical-align: top;\n",
       "    }\n",
       "\n",
       "    .dataframe thead th {\n",
       "        text-align: right;\n",
       "    }\n",
       "</style>\n",
       "<table border=\"1\" class=\"dataframe\">\n",
       "  <thead>\n",
       "    <tr style=\"text-align: right;\">\n",
       "      <th></th>\n",
       "      <th>host_id</th>\n",
       "      <th>price in $</th>\n",
       "      <th>minimum_nights</th>\n",
       "      <th>availability_365</th>\n",
       "      <th>Rating</th>\n",
       "      <th>No_of_bed_rooms</th>\n",
       "      <th>No_of_beds</th>\n",
       "      <th>No_of_bathrooms</th>\n",
       "      <th>Bathroom_type</th>\n",
       "    </tr>\n",
       "  </thead>\n",
       "  <tbody>\n",
       "    <tr>\n",
       "      <th>count</th>\n",
       "      <td>5.108000e+03</td>\n",
       "      <td>5108.000000</td>\n",
       "      <td>5108.000000</td>\n",
       "      <td>5108.000000</td>\n",
       "      <td>5108.000000</td>\n",
       "      <td>5108.000000</td>\n",
       "      <td>5108.000000</td>\n",
       "      <td>5108.000000</td>\n",
       "      <td>5108.000000</td>\n",
       "    </tr>\n",
       "    <tr>\n",
       "      <th>mean</th>\n",
       "      <td>8.957354e+07</td>\n",
       "      <td>250.071427</td>\n",
       "      <td>5.344949</td>\n",
       "      <td>68.873727</td>\n",
       "      <td>4.828872</td>\n",
       "      <td>1.615114</td>\n",
       "      <td>1.615114</td>\n",
       "      <td>1.316856</td>\n",
       "      <td>0.904268</td>\n",
       "    </tr>\n",
       "    <tr>\n",
       "      <th>std</th>\n",
       "      <td>1.283283e+08</td>\n",
       "      <td>239.576562</td>\n",
       "      <td>40.127865</td>\n",
       "      <td>100.861524</td>\n",
       "      <td>0.214108</td>\n",
       "      <td>0.891545</td>\n",
       "      <td>0.891545</td>\n",
       "      <td>0.467762</td>\n",
       "      <td>0.294252</td>\n",
       "    </tr>\n",
       "    <tr>\n",
       "      <th>min</th>\n",
       "      <td>0.000000e+00</td>\n",
       "      <td>18.000000</td>\n",
       "      <td>1.000000</td>\n",
       "      <td>0.000000</td>\n",
       "      <td>1.670000</td>\n",
       "      <td>1.000000</td>\n",
       "      <td>1.000000</td>\n",
       "      <td>0.000000</td>\n",
       "      <td>0.000000</td>\n",
       "    </tr>\n",
       "    <tr>\n",
       "      <th>25%</th>\n",
       "      <td>8.946164e+06</td>\n",
       "      <td>149.000000</td>\n",
       "      <td>2.000000</td>\n",
       "      <td>0.000000</td>\n",
       "      <td>4.750000</td>\n",
       "      <td>1.000000</td>\n",
       "      <td>1.000000</td>\n",
       "      <td>1.000000</td>\n",
       "      <td>1.000000</td>\n",
       "    </tr>\n",
       "    <tr>\n",
       "      <th>50%</th>\n",
       "      <td>2.942286e+07</td>\n",
       "      <td>205.500000</td>\n",
       "      <td>3.000000</td>\n",
       "      <td>12.000000</td>\n",
       "      <td>4.890000</td>\n",
       "      <td>1.000000</td>\n",
       "      <td>1.000000</td>\n",
       "      <td>1.000000</td>\n",
       "      <td>1.000000</td>\n",
       "    </tr>\n",
       "    <tr>\n",
       "      <th>75%</th>\n",
       "      <td>1.051994e+08</td>\n",
       "      <td>300.000000</td>\n",
       "      <td>4.000000</td>\n",
       "      <td>114.000000</td>\n",
       "      <td>5.000000</td>\n",
       "      <td>2.000000</td>\n",
       "      <td>2.000000</td>\n",
       "      <td>1.500000</td>\n",
       "      <td>1.000000</td>\n",
       "    </tr>\n",
       "    <tr>\n",
       "      <th>max</th>\n",
       "      <td>5.126757e+08</td>\n",
       "      <td>10000.000000</td>\n",
       "      <td>1001.000000</td>\n",
       "      <td>365.000000</td>\n",
       "      <td>5.000000</td>\n",
       "      <td>10.000000</td>\n",
       "      <td>10.000000</td>\n",
       "      <td>5.500000</td>\n",
       "      <td>1.000000</td>\n",
       "    </tr>\n",
       "  </tbody>\n",
       "</table>\n",
       "</div>"
      ],
      "text/plain": [
       "            host_id    price in $  minimum_nights  availability_365  \\\n",
       "count  5.108000e+03   5108.000000     5108.000000       5108.000000   \n",
       "mean   8.957354e+07    250.071427        5.344949         68.873727   \n",
       "std    1.283283e+08    239.576562       40.127865        100.861524   \n",
       "min    0.000000e+00     18.000000        1.000000          0.000000   \n",
       "25%    8.946164e+06    149.000000        2.000000          0.000000   \n",
       "50%    2.942286e+07    205.500000        3.000000         12.000000   \n",
       "75%    1.051994e+08    300.000000        4.000000        114.000000   \n",
       "max    5.126757e+08  10000.000000     1001.000000        365.000000   \n",
       "\n",
       "            Rating  No_of_bed_rooms   No_of_beds  No_of_bathrooms  \\\n",
       "count  5108.000000      5108.000000  5108.000000      5108.000000   \n",
       "mean      4.828872         1.615114     1.615114         1.316856   \n",
       "std       0.214108         0.891545     0.891545         0.467762   \n",
       "min       1.670000         1.000000     1.000000         0.000000   \n",
       "25%       4.750000         1.000000     1.000000         1.000000   \n",
       "50%       4.890000         1.000000     1.000000         1.000000   \n",
       "75%       5.000000         2.000000     2.000000         1.500000   \n",
       "max       5.000000        10.000000    10.000000         5.500000   \n",
       "\n",
       "       Bathroom_type  \n",
       "count    5108.000000  \n",
       "mean        0.904268  \n",
       "std         0.294252  \n",
       "min         0.000000  \n",
       "25%         1.000000  \n",
       "50%         1.000000  \n",
       "75%         1.000000  \n",
       "max         1.000000  "
      ]
     },
     "execution_count": 23,
     "metadata": {},
     "output_type": "execute_result"
    }
   ],
   "source": [
    "# Describe data here.\n",
    "df2.describe()"
   ]
  },
  {
   "cell_type": "markdown",
   "id": "59440e43",
   "metadata": {},
   "source": [
    "### 2.2. **Identify significant correlations.**"
   ]
  },
  {
   "cell_type": "code",
   "execution_count": 24,
   "id": "ae404370-d29f-461a-8d0b-2da26bc852e1",
   "metadata": {
    "tags": []
   },
   "outputs": [
    {
     "data": {
      "text/html": [
       "<div>\n",
       "<style scoped>\n",
       "    .dataframe tbody tr th:only-of-type {\n",
       "        vertical-align: middle;\n",
       "    }\n",
       "\n",
       "    .dataframe tbody tr th {\n",
       "        vertical-align: top;\n",
       "    }\n",
       "\n",
       "    .dataframe thead th {\n",
       "        text-align: right;\n",
       "    }\n",
       "</style>\n",
       "<table border=\"1\" class=\"dataframe\">\n",
       "  <thead>\n",
       "    <tr style=\"text-align: right;\">\n",
       "      <th></th>\n",
       "      <th>host_id</th>\n",
       "      <th>price in $</th>\n",
       "      <th>minimum_nights</th>\n",
       "      <th>availability_365</th>\n",
       "      <th>Rating</th>\n",
       "      <th>No_of_bed_rooms</th>\n",
       "      <th>No_of_beds</th>\n",
       "      <th>No_of_bathrooms</th>\n",
       "      <th>Bathroom_type</th>\n",
       "    </tr>\n",
       "  </thead>\n",
       "  <tbody>\n",
       "    <tr>\n",
       "      <th>host_id</th>\n",
       "      <td>1.000000</td>\n",
       "      <td>0.042410</td>\n",
       "      <td>-0.009971</td>\n",
       "      <td>0.165185</td>\n",
       "      <td>-0.164723</td>\n",
       "      <td>-0.071205</td>\n",
       "      <td>-0.071205</td>\n",
       "      <td>-0.046735</td>\n",
       "      <td>-0.066510</td>\n",
       "    </tr>\n",
       "    <tr>\n",
       "      <th>price in $</th>\n",
       "      <td>0.042410</td>\n",
       "      <td>1.000000</td>\n",
       "      <td>-0.003072</td>\n",
       "      <td>0.171706</td>\n",
       "      <td>0.045040</td>\n",
       "      <td>0.292805</td>\n",
       "      <td>0.292805</td>\n",
       "      <td>0.266971</td>\n",
       "      <td>0.171660</td>\n",
       "    </tr>\n",
       "    <tr>\n",
       "      <th>minimum_nights</th>\n",
       "      <td>-0.009971</td>\n",
       "      <td>-0.003072</td>\n",
       "      <td>1.000000</td>\n",
       "      <td>0.011592</td>\n",
       "      <td>0.011779</td>\n",
       "      <td>0.005830</td>\n",
       "      <td>0.005830</td>\n",
       "      <td>-0.004859</td>\n",
       "      <td>0.002631</td>\n",
       "    </tr>\n",
       "    <tr>\n",
       "      <th>availability_365</th>\n",
       "      <td>0.165185</td>\n",
       "      <td>0.171706</td>\n",
       "      <td>0.011592</td>\n",
       "      <td>1.000000</td>\n",
       "      <td>-0.167042</td>\n",
       "      <td>-0.065623</td>\n",
       "      <td>-0.065623</td>\n",
       "      <td>-0.028057</td>\n",
       "      <td>-0.178860</td>\n",
       "    </tr>\n",
       "    <tr>\n",
       "      <th>Rating</th>\n",
       "      <td>-0.164723</td>\n",
       "      <td>0.045040</td>\n",
       "      <td>0.011779</td>\n",
       "      <td>-0.167042</td>\n",
       "      <td>1.000000</td>\n",
       "      <td>0.035783</td>\n",
       "      <td>0.035783</td>\n",
       "      <td>0.072711</td>\n",
       "      <td>0.174168</td>\n",
       "    </tr>\n",
       "    <tr>\n",
       "      <th>No_of_bed_rooms</th>\n",
       "      <td>-0.071205</td>\n",
       "      <td>0.292805</td>\n",
       "      <td>0.005830</td>\n",
       "      <td>-0.065623</td>\n",
       "      <td>0.035783</td>\n",
       "      <td>1.000000</td>\n",
       "      <td>1.000000</td>\n",
       "      <td>0.475608</td>\n",
       "      <td>0.188682</td>\n",
       "    </tr>\n",
       "    <tr>\n",
       "      <th>No_of_beds</th>\n",
       "      <td>-0.071205</td>\n",
       "      <td>0.292805</td>\n",
       "      <td>0.005830</td>\n",
       "      <td>-0.065623</td>\n",
       "      <td>0.035783</td>\n",
       "      <td>1.000000</td>\n",
       "      <td>1.000000</td>\n",
       "      <td>0.475608</td>\n",
       "      <td>0.188682</td>\n",
       "    </tr>\n",
       "    <tr>\n",
       "      <th>No_of_bathrooms</th>\n",
       "      <td>-0.046735</td>\n",
       "      <td>0.266971</td>\n",
       "      <td>-0.004859</td>\n",
       "      <td>-0.028057</td>\n",
       "      <td>0.072711</td>\n",
       "      <td>0.475608</td>\n",
       "      <td>0.475608</td>\n",
       "      <td>1.000000</td>\n",
       "      <td>0.102347</td>\n",
       "    </tr>\n",
       "    <tr>\n",
       "      <th>Bathroom_type</th>\n",
       "      <td>-0.066510</td>\n",
       "      <td>0.171660</td>\n",
       "      <td>0.002631</td>\n",
       "      <td>-0.178860</td>\n",
       "      <td>0.174168</td>\n",
       "      <td>0.188682</td>\n",
       "      <td>0.188682</td>\n",
       "      <td>0.102347</td>\n",
       "      <td>1.000000</td>\n",
       "    </tr>\n",
       "  </tbody>\n",
       "</table>\n",
       "</div>"
      ],
      "text/plain": [
       "                   host_id  price in $  minimum_nights  availability_365  \\\n",
       "host_id           1.000000    0.042410       -0.009971          0.165185   \n",
       "price in $        0.042410    1.000000       -0.003072          0.171706   \n",
       "minimum_nights   -0.009971   -0.003072        1.000000          0.011592   \n",
       "availability_365  0.165185    0.171706        0.011592          1.000000   \n",
       "Rating           -0.164723    0.045040        0.011779         -0.167042   \n",
       "No_of_bed_rooms  -0.071205    0.292805        0.005830         -0.065623   \n",
       "No_of_beds       -0.071205    0.292805        0.005830         -0.065623   \n",
       "No_of_bathrooms  -0.046735    0.266971       -0.004859         -0.028057   \n",
       "Bathroom_type    -0.066510    0.171660        0.002631         -0.178860   \n",
       "\n",
       "                    Rating  No_of_bed_rooms  No_of_beds  No_of_bathrooms  \\\n",
       "host_id          -0.164723        -0.071205   -0.071205        -0.046735   \n",
       "price in $        0.045040         0.292805    0.292805         0.266971   \n",
       "minimum_nights    0.011779         0.005830    0.005830        -0.004859   \n",
       "availability_365 -0.167042        -0.065623   -0.065623        -0.028057   \n",
       "Rating            1.000000         0.035783    0.035783         0.072711   \n",
       "No_of_bed_rooms   0.035783         1.000000    1.000000         0.475608   \n",
       "No_of_beds        0.035783         1.000000    1.000000         0.475608   \n",
       "No_of_bathrooms   0.072711         0.475608    0.475608         1.000000   \n",
       "Bathroom_type     0.174168         0.188682    0.188682         0.102347   \n",
       "\n",
       "                  Bathroom_type  \n",
       "host_id               -0.066510  \n",
       "price in $             0.171660  \n",
       "minimum_nights         0.002631  \n",
       "availability_365      -0.178860  \n",
       "Rating                 0.174168  \n",
       "No_of_bed_rooms        0.188682  \n",
       "No_of_beds             0.188682  \n",
       "No_of_bathrooms        0.102347  \n",
       "Bathroom_type          1.000000  "
      ]
     },
     "execution_count": 24,
     "metadata": {},
     "output_type": "execute_result"
    }
   ],
   "source": [
    "# 2.2.1 Build the correlation matrix\n",
    "df2.corr(\"pearson\", numeric_only= True)"
   ]
  },
  {
   "cell_type": "code",
   "execution_count": 25,
   "id": "bab48646-0771-4fe3-9535-862ec0df9552",
   "metadata": {
    "tags": []
   },
   "outputs": [
    {
     "data": {
      "image/png": "[encoded data removed]",
      "text/plain": [
       "<Figure size 900x900 with 2 Axes>"
      ]
     },
     "metadata": {},
     "output_type": "display_data"
    }
   ],
   "source": [
    "# 2.2.2 Display the correlation matrix as a heatmap\n",
    "fig, ax = plt.subplots(figsize=(9, 9))\n",
    "sns.heatmap(df2.corr(\"pearson\", numeric_only= True), annot= True)\n",
    "plt.show()"
   ]
  },
  {
   "cell_type": "markdown",
   "id": "7a5d8fa4",
   "metadata": {},
   "source": [
    "### 2.3. **Check if is there any multicollinearity.**"
   ]
  },
  {
   "cell_type": "code",
   "execution_count": 26,
   "id": "02e7a7e3",
   "metadata": {},
   "outputs": [],
   "source": [
    "#Import the statsmodels tools needed to perform VIF.\n",
    "from statsmodels.stats.outliers_influence import variance_inflation_factor\n",
    "import statsmodels.api as sm"
   ]
  },
  {
   "cell_type": "code",
   "execution_count": 27,
   "id": "55e1a55b-cb83-4aa7-88fb-30dccc1cd4a5",
   "metadata": {
    "tags": []
   },
   "outputs": [
    {
     "data": {
      "text/html": [
       "<div>\n",
       "<style scoped>\n",
       "    .dataframe tbody tr th:only-of-type {\n",
       "        vertical-align: middle;\n",
       "    }\n",
       "\n",
       "    .dataframe tbody tr th {\n",
       "        vertical-align: top;\n",
       "    }\n",
       "\n",
       "    .dataframe thead th {\n",
       "        text-align: right;\n",
       "    }\n",
       "</style>\n",
       "<table border=\"1\" class=\"dataframe\">\n",
       "  <thead>\n",
       "    <tr style=\"text-align: right;\">\n",
       "      <th></th>\n",
       "      <th>price in $</th>\n",
       "      <th>minimum_nights</th>\n",
       "      <th>availability_365</th>\n",
       "      <th>Rating</th>\n",
       "      <th>No_of_bed_rooms</th>\n",
       "      <th>No_of_beds</th>\n",
       "      <th>No_of_bathrooms</th>\n",
       "      <th>Bathroom_type</th>\n",
       "    </tr>\n",
       "  </thead>\n",
       "  <tbody>\n",
       "    <tr>\n",
       "      <th>0</th>\n",
       "      <td>69.0</td>\n",
       "      <td>3.0</td>\n",
       "      <td>7.0</td>\n",
       "      <td>4.89</td>\n",
       "      <td>1.0</td>\n",
       "      <td>1.0</td>\n",
       "      <td>1.5</td>\n",
       "      <td>0</td>\n",
       "    </tr>\n",
       "    <tr>\n",
       "      <th>2</th>\n",
       "      <td>270.0</td>\n",
       "      <td>4.0</td>\n",
       "      <td>2.0</td>\n",
       "      <td>4.86</td>\n",
       "      <td>3.0</td>\n",
       "      <td>3.0</td>\n",
       "      <td>1.5</td>\n",
       "      <td>1</td>\n",
       "    </tr>\n",
       "    <tr>\n",
       "      <th>3</th>\n",
       "      <td>200.0</td>\n",
       "      <td>3.0</td>\n",
       "      <td>0.0</td>\n",
       "      <td>4.76</td>\n",
       "      <td>1.0</td>\n",
       "      <td>1.0</td>\n",
       "      <td>1.5</td>\n",
       "      <td>1</td>\n",
       "    </tr>\n",
       "    <tr>\n",
       "      <th>4</th>\n",
       "      <td>137.0</td>\n",
       "      <td>3.0</td>\n",
       "      <td>0.0</td>\n",
       "      <td>4.94</td>\n",
       "      <td>1.0</td>\n",
       "      <td>1.0</td>\n",
       "      <td>1.5</td>\n",
       "      <td>1</td>\n",
       "    </tr>\n",
       "    <tr>\n",
       "      <th>5</th>\n",
       "      <td>170.0</td>\n",
       "      <td>3.0</td>\n",
       "      <td>157.0</td>\n",
       "      <td>4.77</td>\n",
       "      <td>1.0</td>\n",
       "      <td>1.0</td>\n",
       "      <td>1.0</td>\n",
       "      <td>1</td>\n",
       "    </tr>\n",
       "  </tbody>\n",
       "</table>\n",
       "</div>"
      ],
      "text/plain": [
       "   price in $  minimum_nights  availability_365  Rating  No_of_bed_rooms  \\\n",
       "0        69.0             3.0               7.0    4.89              1.0   \n",
       "2       270.0             4.0               2.0    4.86              3.0   \n",
       "3       200.0             3.0               0.0    4.76              1.0   \n",
       "4       137.0             3.0               0.0    4.94              1.0   \n",
       "5       170.0             3.0             157.0    4.77              1.0   \n",
       "\n",
       "   No_of_beds  No_of_bathrooms  Bathroom_type  \n",
       "0         1.0              1.5              0  \n",
       "2         3.0              1.5              1  \n",
       "3         1.0              1.5              1  \n",
       "4         1.0              1.5              1  \n",
       "5         1.0              1.0              1  "
      ]
     },
     "execution_count": 27,
     "metadata": {},
     "output_type": "execute_result"
    }
   ],
   "source": [
    "# 2.3.1 Select all numerical columns *except* host_id.\n",
    "numericDf = df2.select_dtypes('number').drop(columns=\"host_id\")\n",
    "numericDf.head()\n"
   ]
  },
  {
   "cell_type": "code",
   "execution_count": 28,
   "id": "d7a0f77d",
   "metadata": {},
   "outputs": [
    {
     "data": {
      "text/plain": [
       "price in $          0\n",
       "minimum_nights      0\n",
       "availability_365    0\n",
       "Rating              0\n",
       "No_of_bed_rooms     0\n",
       "No_of_beds          0\n",
       "No_of_bathrooms     0\n",
       "Bathroom_type       0\n",
       "dtype: int64"
      ]
     },
     "execution_count": 28,
     "metadata": {},
     "output_type": "execute_result"
    }
   ],
   "source": [
    "# 2.3.2 Make sure there are no missing (NaN) values \n",
    "numericDf.isnull().sum()"
   ]
  },
  {
   "cell_type": "markdown",
   "id": "34269a52",
   "metadata": {},
   "source": [
    "- We can see on the above result that there is no missing values in our data. "
   ]
  },
  {
   "cell_type": "code",
   "execution_count": 29,
   "id": "568b0b76",
   "metadata": {},
   "outputs": [
    {
     "data": {
      "text/html": [
       "<div>\n",
       "<style scoped>\n",
       "    .dataframe tbody tr th:only-of-type {\n",
       "        vertical-align: middle;\n",
       "    }\n",
       "\n",
       "    .dataframe tbody tr th {\n",
       "        vertical-align: top;\n",
       "    }\n",
       "\n",
       "    .dataframe thead th {\n",
       "        text-align: right;\n",
       "    }\n",
       "</style>\n",
       "<table border=\"1\" class=\"dataframe\">\n",
       "  <thead>\n",
       "    <tr style=\"text-align: right;\">\n",
       "      <th></th>\n",
       "      <th>const</th>\n",
       "      <th>price in $</th>\n",
       "      <th>minimum_nights</th>\n",
       "      <th>availability_365</th>\n",
       "      <th>Rating</th>\n",
       "      <th>No_of_bed_rooms</th>\n",
       "      <th>No_of_beds</th>\n",
       "      <th>No_of_bathrooms</th>\n",
       "      <th>Bathroom_type</th>\n",
       "    </tr>\n",
       "  </thead>\n",
       "  <tbody>\n",
       "    <tr>\n",
       "      <th>0</th>\n",
       "      <td>1.0</td>\n",
       "      <td>69.0</td>\n",
       "      <td>3.0</td>\n",
       "      <td>7.0</td>\n",
       "      <td>4.89</td>\n",
       "      <td>1.0</td>\n",
       "      <td>1.0</td>\n",
       "      <td>1.5</td>\n",
       "      <td>0</td>\n",
       "    </tr>\n",
       "    <tr>\n",
       "      <th>2</th>\n",
       "      <td>1.0</td>\n",
       "      <td>270.0</td>\n",
       "      <td>4.0</td>\n",
       "      <td>2.0</td>\n",
       "      <td>4.86</td>\n",
       "      <td>3.0</td>\n",
       "      <td>3.0</td>\n",
       "      <td>1.5</td>\n",
       "      <td>1</td>\n",
       "    </tr>\n",
       "    <tr>\n",
       "      <th>3</th>\n",
       "      <td>1.0</td>\n",
       "      <td>200.0</td>\n",
       "      <td>3.0</td>\n",
       "      <td>0.0</td>\n",
       "      <td>4.76</td>\n",
       "      <td>1.0</td>\n",
       "      <td>1.0</td>\n",
       "      <td>1.5</td>\n",
       "      <td>1</td>\n",
       "    </tr>\n",
       "    <tr>\n",
       "      <th>4</th>\n",
       "      <td>1.0</td>\n",
       "      <td>137.0</td>\n",
       "      <td>3.0</td>\n",
       "      <td>0.0</td>\n",
       "      <td>4.94</td>\n",
       "      <td>1.0</td>\n",
       "      <td>1.0</td>\n",
       "      <td>1.5</td>\n",
       "      <td>1</td>\n",
       "    </tr>\n",
       "    <tr>\n",
       "      <th>5</th>\n",
       "      <td>1.0</td>\n",
       "      <td>170.0</td>\n",
       "      <td>3.0</td>\n",
       "      <td>157.0</td>\n",
       "      <td>4.77</td>\n",
       "      <td>1.0</td>\n",
       "      <td>1.0</td>\n",
       "      <td>1.0</td>\n",
       "      <td>1</td>\n",
       "    </tr>\n",
       "  </tbody>\n",
       "</table>\n",
       "</div>"
      ],
      "text/plain": [
       "   const  price in $  minimum_nights  availability_365  Rating  \\\n",
       "0    1.0        69.0             3.0               7.0    4.89   \n",
       "2    1.0       270.0             4.0               2.0    4.86   \n",
       "3    1.0       200.0             3.0               0.0    4.76   \n",
       "4    1.0       137.0             3.0               0.0    4.94   \n",
       "5    1.0       170.0             3.0             157.0    4.77   \n",
       "\n",
       "   No_of_bed_rooms  No_of_beds  No_of_bathrooms  Bathroom_type  \n",
       "0              1.0         1.0              1.5              0  \n",
       "2              3.0         3.0              1.5              1  \n",
       "3              1.0         1.0              1.5              1  \n",
       "4              1.0         1.0              1.5              1  \n",
       "5              1.0         1.0              1.0              1  "
      ]
     },
     "execution_count": 29,
     "metadata": {},
     "output_type": "execute_result"
    }
   ],
   "source": [
    "# 2.3.3 Add a constant column for the VIF calculation\n",
    "dfWithConst = sm.add_constant(numericDf)\n",
    "dfWithConst.head()\n"
   ]
  },
  {
   "cell_type": "markdown",
   "id": "07badcf4",
   "metadata": {},
   "source": [
    "#### Below code is the calculation of VIF without using statsmodel package. This is done for the understanding of VIF. How it is implemented."
   ]
  },
  {
   "cell_type": "code",
   "execution_count": 30,
   "id": "fcab9989",
   "metadata": {},
   "outputs": [],
   "source": [
    "\n",
    "# names = dfWithConst.columns\n",
    "# for i in range(0, dfWithConst.shape[1]):\n",
    "#     y = dfWithConst.iloc[:, i]\n",
    "#     x = dfWithConst.drop(dfWithConst.columns[i], axis=1)\n",
    "#     model = sm.OLS(y, x)\n",
    "#     results = model.fit()\n",
    "#     rsq = results.rsquared\n",
    "#     vif = (1 / (1 - rsq), 2)\n",
    "#     print(\n",
    "#         \"R Square value of {} column is {} keeping all other columns as features\".format(\n",
    "#             names[i], (round(rsq, 2))\n",
    "#         )\n",
    "#     )\n",
    "#     print(\n",
    "#         \"Variance Inflation Factor of {} column is {} \\n\".format(\n",
    "#             names[i], vif)\n",
    "#         )"
   ]
  },
  {
   "cell_type": "code",
   "execution_count": 31,
   "id": "c43aa6c5",
   "metadata": {},
   "outputs": [
    {
     "name": "stderr",
     "output_type": "stream",
     "text": [
      "/home/buddha-thapa-magar/anaconda3/lib/python3.12/site-packages/statsmodels/stats/outliers_influence.py:197: RuntimeWarning: divide by zero encountered in scalar divide\n",
      "  vif = 1. / (1. - r_squared_i)\n"
     ]
    },
    {
     "data": {
      "text/html": [
       "<div>\n",
       "<style scoped>\n",
       "    .dataframe tbody tr th:only-of-type {\n",
       "        vertical-align: middle;\n",
       "    }\n",
       "\n",
       "    .dataframe tbody tr th {\n",
       "        vertical-align: top;\n",
       "    }\n",
       "\n",
       "    .dataframe thead th {\n",
       "        text-align: right;\n",
       "    }\n",
       "</style>\n",
       "<table border=\"1\" class=\"dataframe\">\n",
       "  <thead>\n",
       "    <tr style=\"text-align: right;\">\n",
       "      <th></th>\n",
       "      <th>Feature</th>\n",
       "      <th>VIF</th>\n",
       "    </tr>\n",
       "  </thead>\n",
       "  <tbody>\n",
       "    <tr>\n",
       "      <th>0</th>\n",
       "      <td>const</td>\n",
       "      <td>534.320122</td>\n",
       "    </tr>\n",
       "    <tr>\n",
       "      <th>1</th>\n",
       "      <td>price in $</td>\n",
       "      <td>1.201058</td>\n",
       "    </tr>\n",
       "    <tr>\n",
       "      <th>2</th>\n",
       "      <td>minimum_nights</td>\n",
       "      <td>1.000520</td>\n",
       "    </tr>\n",
       "    <tr>\n",
       "      <th>3</th>\n",
       "      <td>availability_365</td>\n",
       "      <td>1.114930</td>\n",
       "    </tr>\n",
       "    <tr>\n",
       "      <th>4</th>\n",
       "      <td>Rating</td>\n",
       "      <td>1.058086</td>\n",
       "    </tr>\n",
       "    <tr>\n",
       "      <th>5</th>\n",
       "      <td>No_of_bed_rooms</td>\n",
       "      <td>inf</td>\n",
       "    </tr>\n",
       "    <tr>\n",
       "      <th>6</th>\n",
       "      <td>No_of_beds</td>\n",
       "      <td>inf</td>\n",
       "    </tr>\n",
       "    <tr>\n",
       "      <th>7</th>\n",
       "      <td>No_of_bathrooms</td>\n",
       "      <td>1.328305</td>\n",
       "    </tr>\n",
       "    <tr>\n",
       "      <th>8</th>\n",
       "      <td>Bathroom_type</td>\n",
       "      <td>1.118485</td>\n",
       "    </tr>\n",
       "  </tbody>\n",
       "</table>\n",
       "</div>"
      ],
      "text/plain": [
       "            Feature         VIF\n",
       "0             const  534.320122\n",
       "1        price in $    1.201058\n",
       "2    minimum_nights    1.000520\n",
       "3  availability_365    1.114930\n",
       "4            Rating    1.058086\n",
       "5   No_of_bed_rooms         inf\n",
       "6        No_of_beds         inf\n",
       "7   No_of_bathrooms    1.328305\n",
       "8     Bathroom_type    1.118485"
      ]
     },
     "execution_count": 31,
     "metadata": {},
     "output_type": "execute_result"
    }
   ],
   "source": [
    "# 2.3.4 Calculate the VIF for each of the columns and display the information.(Make E.C.?)\n",
    "names = dfWithConst.columns\n",
    "vifCalculated = pd.DataFrame(data= {\"Feature\": names})\n",
    "vifCalculated[\"VIF\"] = [variance_inflation_factor(dfWithConst.values, i) for i in range(dfWithConst.shape[1])]\n",
    "vifCalculated"
   ]
  },
  {
   "cell_type": "markdown",
   "id": "2a3f9455",
   "metadata": {},
   "source": [
    "### 2.4. **Spot outliers in the dataset.**\n",
    "(we will not remove outliers for this homework)."
   ]
  },
  {
   "cell_type": "code",
   "execution_count": 32,
   "id": "f5aab45d-e608-4155-916a-a4ea68affcc4",
   "metadata": {
    "tags": []
   },
   "outputs": [
    {
     "data": {
      "text/plain": [
       "<Axes: xlabel='price in $'>"
      ]
     },
     "execution_count": 32,
     "metadata": {},
     "output_type": "execute_result"
    },
    {
     "data": {
      "image/png": "[encoded data removed]",
      "text/plain": [
       "<Figure size 640x480 with 1 Axes>"
      ]
     },
     "metadata": {},
     "output_type": "display_data"
    }
   ],
   "source": [
    "# 2.4.1. Show boxplot of price in $ \n",
    "sns.boxplot(data= df2, x = \"price in $\")"
   ]
  },
  {
   "cell_type": "code",
   "execution_count": 33,
   "id": "72df07aa-dfbd-41a9-95ce-671f66daed27",
   "metadata": {
    "tags": []
   },
   "outputs": [
    {
     "data": {
      "text/plain": [
       "10000.0"
      ]
     },
     "execution_count": 33,
     "metadata": {},
     "output_type": "execute_result"
    }
   ],
   "source": [
    "# 2.4.2 Show the maximum price in $\n",
    "df2[\"price in $\"].max()"
   ]
  },
  {
   "cell_type": "markdown",
   "id": "b1922d03",
   "metadata": {},
   "source": [
    "- 10000 is the maximum price for the airbnb."
   ]
  },
  {
   "cell_type": "code",
   "execution_count": 34,
   "id": "ab4b4c7d-0cc6-4e79-9ea0-f51124e1b509",
   "metadata": {
    "tags": []
   },
   "outputs": [
    {
     "name": "stdout",
     "output_type": "stream",
     "text": [
      "1001.0\n"
     ]
    },
    {
     "data": {
      "image/png": "[encoded data removed]",
      "text/plain": [
       "<Figure size 640x480 with 1 Axes>"
      ]
     },
     "metadata": {},
     "output_type": "display_data"
    }
   ],
   "source": [
    "# 2.4.3 Show a boxplot for minimum_nights\n",
    "print(df[\"minimum_nights\"].max())\n",
    "sns.boxplot(data= df2, x= \"minimum_nights\")\n",
    "plt.show()"
   ]
  },
  {
   "cell_type": "code",
   "execution_count": 35,
   "id": "5dd14340-b802-46fd-8098-66e43c345753",
   "metadata": {
    "tags": []
   },
   "outputs": [
    {
     "data": {
      "image/png": "[encoded data removed]",
      "text/plain": [
       "<Figure size 640x480 with 1 Axes>"
      ]
     },
     "metadata": {},
     "output_type": "display_data"
    }
   ],
   "source": [
    "# 2.4.4 Show a boxplot for Rating\n",
    "sns.boxplot(data= df2, x= \"Rating\")\n",
    "plt.show()"
   ]
  },
  {
   "cell_type": "code",
   "execution_count": 36,
   "id": "aaa4e4a7-d9a7-42ab-aa4b-f8d167ce3d85",
   "metadata": {
    "tags": []
   },
   "outputs": [
    {
     "data": {
      "text/plain": [
       "(4876, 13)"
      ]
     },
     "execution_count": 36,
     "metadata": {},
     "output_type": "execute_result"
    }
   ],
   "source": [
    "# 2.4.5 Define a function to drop outliers beyond a specific multiplier of the IQR.\n",
    "def FindOutlierRecordsBasedOnColumn(dataFrame: pd.DataFrame, columnToCalculateOutlier: str, multiplier: float = 1.5):\n",
    "    if(not pd.api.types.is_numeric_dtype(dataFrame[columnToCalculateOutlier])):\n",
    "        raise ValueError(\"Column must contains numeric values only.\")\n",
    "    quartile1 = dataFrame[columnToCalculateOutlier].quantile(0.25)\n",
    "    quartile3 = dataFrame[columnToCalculateOutlier].quantile(0.75)\n",
    "    interQuartileRange = quartile3 - quartile1\n",
    "    lowerLimit = quartile1 - multiplier * interQuartileRange\n",
    "    upperLimit = quartile3 +multiplier *interQuartileRange\n",
    "    return dataFrame[(dataFrame[columnToCalculateOutlier] <= lowerLimit) | (dataFrame[columnToCalculateOutlier] >= upperLimit)].index\n",
    "    \n",
    "    \n",
    "def dropOutlierBasedOnColumn(dataFrame: pd.DataFrame, columnToCalculateOutlier):\n",
    "    return dataFrame.loc[df2.index.difference(FindOutlierRecordsBasedOnColumn(df2, \"price in $\"))]\n",
    "\n",
    "#Testing\n",
    "dropOutlierBasedOnColumn(df2, \"price in $\").shape"
   ]
  },
  {
   "cell_type": "code",
   "execution_count": 37,
   "id": "3707791b-771a-4c4d-b355-3d2778883d7c",
   "metadata": {
    "tags": []
   },
   "outputs": [
    {
     "name": "stdout",
     "output_type": "stream",
     "text": [
      "Outliers values in 'price in $' column: \n",
      " [675.0, 1036.0, 1239.0, 800.0, 614.0, 950.0, 970.0, 636.0, 1129.0, 650.0, 550.0, 650.0, 730.0, 600.0, 10000.0, 670.0, 1100.0, 879.0, 575.0, 1150.0, 857.0, 636.0, 550.0, 607.0, 629.0, 675.0, 571.0, 900.0, 542.0, 529.0, 550.0, 733.0, 578.0, 695.0, 800.0, 539.0, 552.0, 599.0, 601.0, 535.0, 1160.0, 747.0, 563.0, 700.0, 599.0, 579.0, 900.0, 1024.0, 1790.0, 600.0, 529.0, 550.0, 600.0, 600.0, 562.0, 1000.0, 800.0, 812.0, 2575.0, 733.0, 557.0, 747.0, 543.0, 936.0, 643.0, 550.0, 595.0, 650.0, 540.0, 557.0, 1250.0, 900.0, 613.0, 650.0, 1150.0, 950.0, 568.0, 600.0, 895.0, 857.0, 550.0, 570.0, 576.0, 578.0, 1600.0, 600.0, 749.0, 550.0, 535.0, 750.0, 536.0, 656.0, 750.0, 670.0, 536.0, 607.0, 750.0, 1150.0, 850.0, 600.0, 700.0, 695.0, 942.0, 567.0, 536.0, 591.0, 600.0, 714.0, 7900.0, 1246.0, 700.0, 626.0, 1457.0, 581.0, 550.0, 573.0, 1222.0, 1457.0, 564.0, 664.0, 679.0, 889.0, 1000.0, 530.0, 625.0, 850.0, 1500.0, 599.0, 628.0, 650.0, 535.0, 591.0, 700.0, 600.0, 1399.0, 550.0, 620.0, 549.0, 595.0, 1643.0, 557.0, 595.0, 680.0, 593.0, 700.0, 549.0, 800.0, 807.0, 559.0, 750.0, 800.0, 786.0, 850.0, 775.0, 821.0, 843.0, 2000.0, 550.0, 550.0, 600.0, 550.0, 650.0, 600.0, 600.0, 600.0, 586.0, 550.0, 800.0, 586.0, 1029.0, 793.0, 850.0, 1536.0, 600.0, 950.0, 845.0, 725.0, 613.0, 750.0, 599.0, 650.0, 799.0, 603.0, 557.0, 582.0, 575.0, 568.0, 699.0, 725.0, 750.0, 829.0, 1021.0, 1278.0, 630.0, 650.0, 590.0, 2500.0, 595.0, 550.0, 646.0, 535.0, 888.0, 1049.0, 650.0, 559.0, 680.0, 600.0, 855.0, 650.0, 550.0, 950.0, 750.0, 571.0, 700.0, 714.0, 559.0, 714.0, 1250.0, 600.0, 689.0, 750.0, 547.0, 649.0, 600.0, 550.0, 2083.0, 1000.0, 749.0, 750.0, 693.0, 539.0, 550.0]\n",
      "\n",
      "Outliers values in 'minimum_nights' column: \n",
      " [14.0, 9.0, 30.0, 28.0, 8.0, 7.0, 7.0, 7.0, 30.0, 7.0, 93.0, 28.0, 28.0, 30.0, 14.0, 7.0, 7.0, 30.0, 28.0, 8.0, 7.0, 28.0, 10.0, 15.0, 30.0, 14.0, 7.0, 7.0, 7.0, 7.0, 7.0, 7.0, 7.0, 7.0, 10.0, 7.0, 300.0, 8.0, 7.0, 100.0, 14.0, 30.0, 7.0, 10.0, 7.0, 7.0, 14.0, 7.0, 7.0, 7.0, 14.0, 7.0, 11.0, 8.0, 10.0, 14.0, 7.0, 25.0, 10.0, 12.0, 14.0, 7.0, 7.0, 7.0, 8.0, 28.0, 10.0, 7.0, 21.0, 14.0, 7.0, 180.0, 7.0, 7.0, 180.0, 12.0, 14.0, 800.0, 13.0, 7.0, 10.0, 26.0, 7.0, 45.0, 8.0, 9.0, 7.0, 14.0, 10.0, 7.0, 10.0, 7.0, 28.0, 7.0, 8.0, 12.0, 30.0, 7.0, 7.0, 10.0, 15.0, 14.0, 9.0, 28.0, 7.0, 7.0, 25.0, 7.0, 28.0, 7.0, 7.0, 90.0, 14.0, 7.0, 10.0, 28.0, 7.0, 10.0, 7.0, 7.0, 7.0, 14.0, 28.0, 20.0, 7.0, 14.0, 7.0, 52.0, 7.0, 28.0, 12.0, 15.0, 1000.0, 7.0, 7.0, 28.0, 30.0, 7.0, 14.0, 1001.0, 7.0, 7.0, 9.0, 21.0, 20.0, 444.0, 7.0, 7.0, 22.0, 7.0, 7.0, 7.0, 10.0, 300.0, 1000.0, 7.0, 12.0, 9.0, 7.0, 7.0, 7.0, 21.0, 7.0, 7.0, 7.0, 7.0, 12.0, 21.0, 7.0, 14.0, 30.0, 20.0, 14.0, 7.0, 14.0, 7.0, 7.0, 7.0, 7.0, 7.0, 7.0, 7.0, 8.0, 10.0, 7.0, 7.0, 7.0, 7.0, 7.0, 7.0, 7.0, 7.0, 7.0, 7.0, 7.0, 7.0, 21.0, 7.0, 10.0, 7.0, 7.0, 7.0, 28.0, 11.0, 28.0, 8.0, 7.0, 7.0, 9.0, 28.0, 7.0, 20.0, 7.0, 7.0, 7.0, 7.0, 7.0, 7.0, 7.0, 20.0, 13.0, 7.0, 14.0, 10.0, 15.0, 1000.0, 20.0, 10.0, 14.0, 7.0, 1000.0, 7.0, 7.0, 7.0, 20.0, 7.0, 7.0, 30.0, 20.0, 7.0, 999.0, 7.0, 7.0, 30.0, 7.0, 10.0, 10.0, 20.0, 84.0, 7.0, 7.0, 7.0, 7.0, 14.0, 7.0, 7.0, 7.0, 7.0, 109.0, 7.0, 7.0, 8.0, 7.0, 28.0, 7.0, 7.0, 7.0, 7.0, 26.0, 7.0, 7.0, 7.0, 7.0, 7.0, 7.0, 7.0, 7.0, 7.0, 7.0, 7.0, 7.0, 7.0, 16.0, 7.0, 7.0, 15.0, 7.0, 10.0, 7.0, 7.0, 7.0, 7.0, 7.0, 7.0, 14.0, 7.0, 7.0, 10.0, 7.0, 21.0, 7.0, 183.0, 7.0, 7.0, 14.0, 9.0, 7.0, 30.0, 7.0, 15.0, 300.0, 7.0, 7.0, 8.0, 7.0, 8.0, 7.0, 7.0, 7.0, 7.0, 28.0, 28.0, 20.0, 7.0, 20.0, 7.0, 12.0, 28.0, 7.0, 7.0, 10.0, 7.0, 7.0, 28.0, 7.0, 7.0, 7.0, 7.0, 7.0, 7.0, 7.0, 7.0, 7.0, 90.0, 7.0, 7.0, 7.0, 7.0, 1000.0, 7.0, 7.0, 12.0, 7.0, 7.0, 14.0, 7.0, 7.0, 7.0, 7.0, 25.0, 7.0, 15.0, 7.0, 7.0, 7.0, 28.0, 7.0, 7.0, 7.0, 7.0, 7.0, 30.0, 7.0, 7.0, 7.0, 10.0, 9.0, 7.0, 7.0, 30.0]\n",
      "\n",
      "Outliers values in 'Rating' column: \n",
      " [4.3, 4.27, 4.36, 4.33, 4.19, 4.22, 4.37, 4.34, 4.3, 4.33, 4.33, 4.3, 4.14, 4.0, 3.91, 4.33, 4.33, 4.22, 4.27, 4.11, 4.15, 4.31, 4.35, 4.32, 4.29, 4.34, 4.35, 4.31, 4.36, 4.17, 4.32, 4.25, 4.25, 4.27, 4.36, 4.35, 4.14, 4.2, 4.27, 4.36, 4.0, 4.36, 4.3, 4.09, 4.2, 4.25, 4.23, 3.43, 4.14, 4.33, 4.28, 4.3, 4.31, 4.0, 4.33, 4.33, 4.33, 4.27, 4.24, 4.35, 4.0, 4.35, 4.13, 4.3, 4.32, 4.0, 4.31, 4.0, 4.36, 4.2, 4.2, 4.25, 4.33, 4.33, 4.23, 4.0, 3.41, 4.0, 4.25, 4.17, 4.23, 4.3, 4.26, 4.17, 4.35, 4.36, 4.24, 3.57, 4.0, 3.75, 4.24, 4.33, 4.29, 4.36, 4.3, 4.09, 4.15, 3.63, 1.67, 3.94, 4.0, 4.25, 4.23, 4.33, 4.33, 4.17, 3.96, 4.0, 3.4, 4.33, 4.13, 4.03, 3.58, 3.89, 3.33, 4.05, 4.0, 4.33, 4.0, 4.17, 3.8, 3.89, 4.35, 4.08, 4.3, 4.0, 4.0, 3.67, 4.31, 4.09, 4.29, 3.56, 4.36, 4.33, 3.93, 4.0, 4.33, 4.2, 4.3, 4.17, 3.8, 3.58, 4.2, 4.3, 4.25, 4.0, 3.83, 3.33, 4.18, 3.75, 4.2, 4.33, 4.2, 4.25, 4.2, 4.0, 4.05, 4.2, 3.57, 4.33, 4.33, 4.33, 4.2, 4.33, 4.33, 4.33, 3.33, 4.0, 4.33, 4.33, 4.19, 3.67, 4.12, 4.33, 4.0, 2.67, 4.29, 3.97, 4.33, 4.2, 4.33, 4.25, 4.0, 3.67, 4.0, 4.25, 4.21, 4.33, 4.14, 4.0, 4.25, 4.0, 4.0, 4.25, 4.33, 4.25, 3.33, 4.0, 4.33, 4.0, 4.33, 4.33, 4.0, 4.35, 4.18, 4.33, 4.33, 4.33, 3.67]\n"
     ]
    }
   ],
   "source": [
    "# 2.4.6 Find outliers for 'price in $', 'minimum_nights', and 'Rating' using the standard multiplier (1.5)\n",
    "\n",
    "print(\"Outliers values in 'price in $' column: \\n\", df2[\"price in $\"].loc[FindOutlierRecordsBasedOnColumn(df2, \"price in $\")].tolist())\n",
    "print(\"\\nOutliers values in 'minimum_nights' column: \\n\", df2[\"minimum_nights\"].loc[FindOutlierRecordsBasedOnColumn(df2, \"minimum_nights\")].tolist())\n",
    "print(\"\\nOutliers values in 'Rating' column: \\n\", df2[\"Rating\"].loc[FindOutlierRecordsBasedOnColumn(df2, \"Rating\")].tolist())"
   ]
  },
  {
   "cell_type": "code",
   "execution_count": 38,
   "id": "12eea4f0-c061-434c-b27e-3d7897a89d22",
   "metadata": {
    "tags": []
   },
   "outputs": [
    {
     "name": "stdout",
     "output_type": "stream",
     "text": [
      "Total number of outliers in 'price in $' column:  232\n",
      "Total number of outliers in 'minimum_nights' column:  380\n",
      "Total number of outliers in 'availability_365' column:  341\n",
      "Total number of outliers in 'Rating' column:  209\n",
      "Total number of outliers in 'No_of_bed_rooms' column:  198\n",
      "Total number of outliers in 'No_of_beds' column:  198\n",
      "Total number of outliers in 'No_of_bathrooms' column:  248\n",
      "Total number of outliers in 'Bathroom_type' column:  5108\n"
     ]
    }
   ],
   "source": [
    "# 2.4.7 Display the count of outliers in each selected column\n",
    "columnNames = numericDf.columns\n",
    "for column in columnNames:\n",
    "    outlierIndexes = FindOutlierRecordsBasedOnColumn(numericDf, column)\n",
    "    print(\"Total number of outliers in '\"+ column + \"' column: \", len(outlierIndexes))"
   ]
  },
  {
   "cell_type": "code",
   "execution_count": 39,
   "id": "8bd6997d-bbb5-4361-a4a2-9f983fe47685",
   "metadata": {
    "tags": []
   },
   "outputs": [
    {
     "name": "stdout",
     "output_type": "stream",
     "text": [
      "\n",
      "Outliers values in 'price in $' column: \n",
      " [1036.0, 1239.0, 800.0, 950.0, 970.0, 1129.0, 10000.0, 1100.0, 879.0, 1150.0, 857.0, 900.0, 800.0, 1160.0, 900.0, 1024.0, 1790.0, 1000.0, 800.0, 812.0, 2575.0, 936.0, 1250.0, 900.0, 1150.0, 950.0, 895.0, 857.0, 1600.0, 1150.0, 850.0, 942.0, 7900.0, 1246.0, 1457.0, 1222.0, 1457.0, 889.0, 1000.0, 850.0, 1500.0, 1399.0, 1643.0, 800.0, 807.0, 800.0, 786.0, 850.0, 775.0, 821.0, 843.0, 2000.0, 800.0, 1029.0, 793.0, 850.0, 1536.0, 950.0, 845.0, 799.0, 829.0, 1021.0, 1278.0, 2500.0, 888.0, 1049.0, 855.0, 950.0, 1250.0, 2083.0, 1000.0]\n",
      "\n",
      "Outliers values in 'minimum_nights' column: \n",
      " [480.0, 260.0, 88.0, 800.0, 180.0, 31.0, 275.0, 87.0, 120.0, 89.0, 69.0, 169.0, 206.0, 100.0, 280.0, 96.0, 125.0, 600.0, 200.0, 150.0, 100.0, 213.0, 250.0, 169.0, 78.0, 349.0, 177.0, 151.0, 157.0, 160.0, 121.0, 180.0, 132.0, 102.0, 180.0, 45.0, 45.0, 300.0, 300.0, 131.0, 225.0, 150.0, 175.0, 125.0, 235.0, 250.0, 199.0, 149.0, 175.0, 59.0, 105.0, 80.0, 90.0, 76.0, 150.0, 320.0, 299.0, 194.0, 80.0, 320.0, 139.0, 139.0, 85.0, 110.0, 250.0, 300.0, 171.0, 140.0, 250.0, 500.0, 150.0, 100.0, 75.0, 121.0, 180.0, 135.0, 200.0, 140.0, 113.0, 146.0, 155.0, 120.0, 135.0, 240.0, 168.0, 150.0, 130.0, 271.0, 149.0, 240.0, 175.0, 125.0, 857.0, 115.0, 345.0, 349.0, 259.0, 140.0, 160.0, 130.0, 495.0, 120.0, 250.0, 150.0, 80.0, 132.0, 110.0, 250.0, 90.0, 250.0, 250.0, 280.0, 120.0, 250.0, 135.0, 179.0, 95.0, 180.0, 309.0, 202.0, 180.0, 165.0, 180.0, 103.0, 200.0, 52.0, 100.0, 120.0, 70.0, 520.0, 200.0, 212.0, 195.0, 279.0, 146.0, 150.0, 600.0, 126.0, 800.0, 265.0, 436.0, 396.0, 176.0, 229.0, 220.0, 179.0, 571.0, 204.0, 450.0, 499.0]\n",
      "\n",
      "Outliers values in 'availability_365' column: \n",
      " []\n",
      "\n",
      "Outliers values in 'Rating' column: \n",
      " [225.0, 196.0, 160.0, 156.0, 250.0, 107.0, 240.0, 300.0, 295.0, 305.0, 294.0, 250.0, 348.0, 109.0, 367.0, 378.0, 378.0, 264.0, 82.0, 215.0, 120.0, 365.0, 160.0, 144.0, 150.0, 337.0, 285.0, 321.0, 800.0, 320.0, 453.0, 160.0, 125.0, 475.0, 163.0, 429.0, 180.0, 204.0, 276.0, 171.0, 185.0, 50.0, 228.0, 171.0, 149.0, 350.0, 249.0, 287.0, 380.0, 85.0, 197.0, 177.0, 175.0, 187.0, 50.0, 140.0, 150.0, 117.0, 339.0]\n",
      "\n",
      "Outliers values in 'No_of_bed_rooms' column: \n",
      " [1036.0, 1239.0, 459.0, 636.0, 1129.0, 650.0, 400.0, 879.0, 275.0, 350.0, 636.0, 375.0, 150.0, 320.0, 204.0, 733.0, 599.0, 250.0, 700.0, 350.0, 2575.0, 733.0, 240.0, 175.0, 900.0, 1150.0, 450.0, 1600.0, 750.0, 330.0, 190.0, 160.0, 695.0, 1246.0, 450.0, 195.0, 175.0, 750.0, 793.0]\n",
      "\n",
      "Outliers values in 'No_of_beds' column: \n",
      " [1036.0, 1239.0, 459.0, 636.0, 1129.0, 650.0, 400.0, 879.0, 275.0, 350.0, 636.0, 375.0, 150.0, 320.0, 204.0, 733.0, 599.0, 250.0, 700.0, 350.0, 2575.0, 733.0, 240.0, 175.0, 900.0, 1150.0, 450.0, 1600.0, 750.0, 330.0, 190.0, 160.0, 695.0, 1246.0, 450.0, 195.0, 175.0, 750.0, 793.0]\n",
      "\n",
      "Outliers values in 'No_of_bathrooms' column: \n",
      " [385.0, 420.0, 450.0, 240.0, 275.0, 200.0, 180.0, 650.0, 500.0, 299.0, 300.0, 482.0, 400.0, 516.0, 525.0, 299.0, 499.0, 400.0, 214.0, 375.0, 542.0, 695.0, 519.0, 800.0, 599.0, 400.0, 356.0, 385.0, 405.0, 300.0, 186.0, 300.0, 300.0, 450.0, 360.0, 350.0, 257.0, 2575.0, 240.0, 398.0, 170.0, 319.0, 613.0, 447.0, 1150.0, 395.0, 371.0, 490.0, 421.0, 857.0, 400.0, 225.0, 1600.0, 360.0, 750.0, 150.0, 495.0, 330.0, 1246.0, 456.0, 380.0, 1457.0, 450.0, 450.0, 382.0, 530.0, 1500.0, 628.0, 450.0, 314.0, 807.0, 750.0, 385.0, 786.0, 775.0, 475.0, 350.0, 586.0, 793.0, 850.0, 450.0, 1536.0, 514.0, 461.0, 582.0, 750.0, 1021.0, 375.0, 1278.0, 450.0, 646.0, 888.0, 855.0, 550.0, 275.0, 450.0, 1250.0, 299.0, 2083.0, 150.0, 125.0]\n",
      "\n",
      "Outliers values in 'Bathroom_type' column: \n",
      " [69.0, 270.0, 200.0, 137.0, 170.0, 79.0, 126.0, 120.0, 59.0, 145.0, 240.0, 675.0, 480.0, 271.0, 120.0, 132.0, 395.0, 385.0, 296.0, 240.0, 250.0, 420.0, 246.0, 149.0, 120.0, 146.0, 251.1060805475125, 116.0, 238.0, 1036.0, 149.0, 260.0, 80.0, 120.0, 126.0, 265.0, 475.0, 225.0, 159.0, 88.0, 62.0, 200.0, 205.0, 327.0, 109.0, 175.0, 500.0, 1239.0, 155.0, 290.0, 190.0, 110.0, 140.0, 325.0, 75.0, 336.0, 250.0, 163.0, 139.0, 150.0, 250.0, 220.0, 90.0, 149.0, 245.0, 399.0, 245.0, 176.0, 250.0, 145.0, 170.0, 337.0, 209.0, 429.0, 410.0, 150.0, 140.0, 175.0, 154.0, 200.0, 110.0, 249.0, 145.0, 394.0, 495.0, 381.0, 200.0, 200.0, 127.0, 133.0, 175.0, 400.0, 72.0, 112.0, 150.0, 450.0, 78.0, 202.0, 100.0, 125.0, 800.0, 350.0, 240.0, 355.0, 180.0, 95.0, 225.0, 31.0, 160.0, 275.0, 87.0, 103.0, 146.0, 145.0, 150.0, 459.0, 279.0, 614.0, 89.0, 251.1060805475125, 153.0, 84.0, 120.0, 145.0, 110.0, 129.0, 251.1060805475125, 445.0, 251.1060805475125, 141.0, 92.0, 144.0, 80.0, 375.0, 211.0, 149.0, 275.0, 225.0, 289.0, 240.0, 79.0, 210.0, 295.0, 103.0, 449.0, 120.0, 950.0, 125.0, 143.0, 970.0, 178.0, 149.0, 79.0, 175.0, 200.0, 169.0, 280.0, 316.0, 103.0, 400.0, 636.0, 200.0, 195.0, 95.0, 160.0, 110.0, 195.0, 168.0, 150.0, 99.0, 164.0, 200.0, 140.0, 495.0, 102.0, 1129.0, 89.0, 171.0, 75.0, 180.0, 117.0, 60.0, 55.0, 250.0, 80.0, 75.0, 180.0, 300.0, 120.0, 180.0, 145.0, 285.0, 100.0, 325.0, 650.0, 250.0, 295.0, 45.0, 50.0, 120.0, 100.0, 69.0, 200.0, 500.0, 425.0, 150.0, 150.0, 550.0, 135.0, 130.0, 65.0, 99.0, 80.0, 475.0, 300.0, 169.0, 115.0, 206.0, 400.0, 497.0, 130.0, 400.0, 228.0, 319.0, 250.0, 464.0, 119.0, 400.0, 299.0, 156.0, 300.0, 100.0, 108.0, 180.0, 135.0, 269.0, 212.0, 499.0, 143.0, 250.0, 137.0, 299.0, 230.0, 493.0, 299.0, 93.0, 114.0, 200.0, 250.0, 285.0, 280.0, 215.0, 94.0, 150.0, 269.0, 228.0, 199.0, 110.0, 170.0, 125.0, 400.0, 240.0, 96.0, 400.0, 280.0, 180.0, 403.0, 160.0, 350.0, 170.0, 122.0, 250.0, 175.0, 51.0, 190.0, 200.0, 375.0, 176.0, 250.0, 120.0, 185.0, 175.0, 300.0, 72.0, 162.0, 64.0, 102.0, 372.0, 65.0, 150.0, 115.0, 149.0, 145.0, 101.0, 110.0, 500.0, 135.0, 110.0, 150.0, 399.0, 125.0, 85.0, 200.0, 514.0, 200.0, 155.0, 466.0, 90.0, 148.0, 159.0, 192.0, 150.0, 225.0, 87.0, 175.0, 74.0, 190.0, 281.0, 169.0, 126.0, 375.0, 100.0, 186.0, 125.0, 240.0, 75.0, 131.0, 220.0, 180.0, 307.0, 350.0, 314.0, 180.0, 391.0, 650.0, 62.0, 250.0, 50.0, 271.0, 140.0, 65.0, 175.0, 156.0, 730.0, 195.0, 150.0, 600.0, 195.0, 369.0, 140.0, 200.0, 250.0, 482.0, 230.0, 354.0, 250.0, 240.0, 130.0, 230.0, 200.0, 130.0, 232.0, 175.0, 275.0, 87.0, 160.0, 120.0, 300.0, 157.0, 149.0, 300.0, 250.0, 143.0, 150.0, 170.0, 386.0, 120.0, 114.0, 130.0, 165.0, 320.0, 275.0, 160.0, 200.0, 10000.0, 350.0, 200.0, 75.0, 195.0, 112.0, 169.0, 155.0, 160.0, 100.0, 165.0, 140.0, 193.0, 190.0, 99.0, 223.0, 89.0, 165.0, 109.0, 75.0, 157.0, 196.0, 188.0, 240.0, 170.0, 250.0, 65.0, 129.0, 214.0, 165.0, 80.0, 100.0, 215.0, 350.0, 100.0, 139.0, 99.0, 127.0, 324.0, 99.0, 245.0, 213.0, 270.0, 264.0, 200.0, 343.0, 127.0, 99.0, 130.0, 175.0, 350.0, 225.0, 240.0, 136.0, 80.0, 300.0, 460.0, 164.0, 499.0, 65.0, 130.0, 137.0, 200.0, 135.0, 239.0, 150.0, 199.0, 250.0, 120.0, 175.0, 300.0, 93.0, 165.0, 175.0, 295.0, 400.0, 264.0, 90.0, 459.0, 400.0, 345.0, 300.0, 136.0, 150.0, 245.0, 119.0, 116.0, 350.0, 200.0, 200.0, 670.0, 185.0, 200.0, 99.0, 450.0, 250.0, 499.0, 248.0, 225.0, 249.0, 150.0, 109.0, 516.0, 105.0, 250.0, 277.0, 222.0, 186.0, 327.0, 88.0, 125.0, 200.0, 160.0, 320.0, 120.0, 110.0, 225.0, 128.0, 325.0, 189.0, 156.0, 95.0, 390.0, 1100.0, 192.0, 350.0, 206.0, 245.0, 461.0, 159.0, 138.0, 99.0, 179.0, 450.0, 113.0, 119.0, 85.0, 232.0, 879.0, 125.0, 150.0, 101.0, 107.0, 280.0, 164.0, 300.0, 96.0, 175.0, 314.0, 95.0, 153.0, 150.0, 154.0, 240.0, 116.0, 138.0, 149.0, 120.0, 208.0, 198.0, 408.0, 90.0, 300.0, 275.0, 169.0, 120.0, 275.0, 124.0, 239.0, 165.0, 350.0, 150.0, 285.0, 575.0, 1150.0, 525.0, 78.0, 75.0, 94.0, 55.0, 450.0, 279.0, 233.0, 179.0, 229.0, 100.0, 285.0, 250.0, 128.0, 280.0, 175.0, 250.0, 84.0, 349.0, 159.0, 158.0, 61.0, 100.0, 154.0, 250.0, 289.0, 189.0, 75.0, 160.0, 177.0, 425.0, 268.0, 104.0, 175.0, 350.0, 857.0, 285.0, 375.0, 168.0, 120.0, 101.0, 334.0, 250.0, 184.0, 95.0, 100.0, 190.0, 280.0, 100.0, 350.0, 116.0, 151.0, 130.0, 210.0, 185.0, 269.0, 300.0, 299.0, 143.0, 101.0, 96.0, 226.0, 75.0, 175.0, 175.0, 350.0, 69.0, 76.0, 117.0, 250.0, 243.0, 95.0, 93.0, 185.0, 364.0, 200.0, 170.0, 129.0, 157.0, 185.0, 299.0, 131.0, 369.0, 150.0, 179.0, 117.0, 175.0, 395.0, 200.0, 219.0, 175.0, 207.0, 176.0, 125.0, 150.0, 150.0, 165.0, 175.0, 200.0, 150.0, 160.0, 636.0, 115.0, 250.0, 300.0, 140.0, 343.0, 250.0, 300.0, 250.0, 180.0, 499.0, 147.0, 179.0, 299.0, 120.0, 550.0, 75.0, 104.0, 320.0, 200.0, 139.0, 275.0, 315.0, 112.0, 105.0, 210.0, 169.0, 166.0, 165.0, 290.0, 65.0, 130.0, 250.0, 127.0, 175.0, 199.0, 183.0, 48.0, 300.0, 177.0, 190.0, 251.1060805475125, 251.1060805475125, 251.1060805475125, 235.0, 125.0, 215.0, 165.0, 119.0, 175.0, 443.0, 121.0, 379.0, 282.0, 80.0, 275.0, 252.0, 110.0, 136.0, 60.0, 121.0, 125.0, 99.0, 196.0, 100.0, 210.0, 283.0, 350.0, 112.0, 63.0, 607.0, 300.0, 169.0, 91.0, 195.0, 80.0, 240.0, 350.0, 220.0, 148.0, 225.0, 99.0, 129.0, 289.0, 214.0, 175.0, 311.0, 185.0, 205.0, 251.1060805475125, 375.0, 166.0, 200.0, 325.0, 119.0, 204.0, 264.0, 350.0, 149.0, 425.0, 195.0, 159.0, 178.0, 320.0, 143.0, 347.0, 185.0, 105.0, 74.0, 110.0, 279.0, 168.0, 375.0, 180.0, 129.0, 119.0, 210.0, 132.0, 114.0, 629.0, 400.0, 190.0, 109.0, 249.0, 89.0, 150.0, 214.0, 110.0, 102.0, 140.0, 159.0, 286.0, 180.0, 110.0, 75.0, 100.0, 150.0, 120.0, 179.0, 259.0, 250.0, 115.0, 240.0, 395.0, 336.0, 179.0, 83.0, 450.0, 231.0, 300.0, 45.0, 196.0, 250.0, 250.0, 85.0, 132.0, 156.0, 95.0, 285.0, 500.0, 675.0, 281.0, 151.0, 125.0, 110.0, 111.0, 126.0, 80.0, 217.0, 300.0, 45.0, 155.0, 253.0, 206.0, 300.0, 180.0, 300.0, 210.0, 131.0, 168.0, 400.0, 110.0, 150.0, 78.0, 489.0, 135.0, 85.0, 390.0, 450.0, 280.0, 144.0, 210.0, 256.0, 196.0, 414.0, 250.0, 66.0, 225.0, 125.0, 240.0, 180.0, 119.0, 196.0, 125.0, 185.0, 189.0, 186.0, 260.0, 148.0, 249.0, 320.0, 200.0, 200.0, 150.0, 175.0, 140.0, 104.0, 89.0, 270.0, 149.0, 271.0, 150.0, 257.0, 50.0, 130.0, 180.0, 179.0, 571.0, 275.0, 165.0, 135.0, 196.0, 243.0, 250.0, 300.0, 232.0, 200.0, 301.0, 166.0, 474.0, 80.0, 345.0, 336.0, 375.0, 170.0, 220.0, 900.0, 112.0, 220.0, 100.0, 125.0, 542.0, 130.0, 217.0, 183.0, 179.0, 175.0, 300.0, 114.0, 204.0, 120.0, 125.0, 179.0, 171.0, 226.0, 180.0, 190.0, 114.0, 299.0, 300.0, 100.0, 425.0, 78.0, 389.0, 275.0, 220.0, 300.0, 100.0, 164.0, 161.0, 140.0, 219.0, 140.0, 235.0, 300.0, 371.0, 250.0, 56.0, 300.0, 180.0, 204.0, 529.0, 85.0, 100.0, 125.0, 120.0, 399.0, 324.0, 102.0, 118.0, 155.0, 150.0, 115.0, 76.0, 411.0, 250.0, 155.0, 285.0, 195.0, 199.0, 195.0, 95.0, 194.0, 243.0, 220.0, 181.0, 131.0, 296.0, 150.0, 195.0, 250.0, 250.0, 514.0, 250.0, 188.0, 270.0, 235.0, 140.0, 375.0, 100.0, 143.0, 149.0, 120.0, 249.0, 220.0, 65.0, 199.0, 550.0, 140.0, 402.0, 299.0, 264.0, 179.0, 145.0, 160.0, 155.0, 100.0, 155.0, 125.0, 99.0, 110.0, 111.0, 733.0, 65.0, 149.0, 110.0, 180.0, 360.0, 132.0, 185.0, 145.0, 195.0, 150.0, 100.0, 87.0, 144.0, 237.0, 300.0, 300.0, 578.0, 229.0, 229.0, 464.0, 695.0, 258.0, 106.0, 185.0, 199.0, 190.0, 247.0, 128.0, 150.0, 150.0, 135.0, 300.0, 195.0, 519.0, 295.0, 200.0, 150.0, 150.0, 149.0, 232.0, 280.0, 220.0, 133.0, 800.0, 211.0, 320.0, 205.0, 329.0, 225.0, 130.0, 75.0, 148.0, 384.0, 378.0, 98.0, 134.0, 293.0, 95.0, 83.0, 225.0, 195.0, 539.0, 200.0, 79.0, 194.0, 100.0, 150.0, 300.0, 140.0, 200.0, 168.0, 249.0, 178.0, 150.0, 190.0, 130.0, 85.0, 200.0, 89.0, 98.0, 179.0, 225.0, 300.0, 125.0, 175.0, 120.0, 143.0, 210.0, 145.0, 200.0, 325.0, 225.0, 149.0, 299.0, 115.0, 321.0, 135.0, 100.0, 94.0, 103.0, 206.0, 389.0, 496.0, 89.0, 175.0, 123.0, 180.0, 59.0, 99.0, 200.0, 128.0, 270.0, 131.0, 236.0, 125.0, 395.0, 200.0, 350.0, 86.0, 168.0, 90.0, 107.0, 62.0, 140.0, 344.0, 220.0, 390.0, 150.0, 181.0, 380.0, 425.0, 105.0, 80.0, 124.0, 63.0, 329.0, 95.0, 264.0, 70.0, 295.0, 182.0, 295.0, 232.0, 131.0, 139.0, 552.0, 89.0, 125.0, 200.0, 450.0, 90.0, 150.0, 190.0, 139.0, 599.0, 349.0, 150.0, 349.0, 155.0, 90.0, 349.0, 349.0, 95.0, 98.0, 300.0, 199.0, 124.0, 214.0, 157.0, 175.0, 300.0, 601.0, 210.0, 255.0, 159.0, 195.0, 127.0, 270.0, 79.0, 500.0, 109.0, 76.0, 420.0, 195.0, 150.0, 94.0, 230.0, 237.0, 89.0, 130.0, 159.0, 250.0, 275.0, 143.0, 235.0, 180.0, 449.0, 225.0, 133.0, 55.0, 134.0, 175.0, 400.0, 85.0, 368.0, 175.0, 145.0, 120.0, 99.0, 349.0, 340.0, 229.0, 498.0, 246.0, 304.0, 250.0, 80.0, 130.0, 170.0, 400.0, 139.0, 101.0, 500.0, 79.0, 120.0, 179.0, 250.0, 169.0, 150.0, 295.0, 450.0, 150.0, 150.0, 79.0, 388.0, 200.0, 379.0, 250.0, 320.0, 155.0, 175.0, 225.0, 95.0, 363.0, 247.0, 150.0, 65.0, 200.0, 120.0, 314.0, 140.0, 406.0, 225.0, 95.0, 95.0, 99.0, 350.0, 130.0, 98.0, 214.0, 142.0, 356.0, 210.0, 315.0, 130.0, 300.0, 60.0, 95.0, 175.0, 349.0, 420.0, 55.0, 200.0, 175.0, 190.0, 156.0, 150.0, 245.0, 190.0, 160.0, 299.0, 110.0, 190.0, 300.0, 160.0, 535.0, 89.0, 500.0, 196.0, 140.0, 40.0, 75.0, 249.0, 194.0, 125.0, 295.0, 420.0, 189.0, 99.0, 95.0, 320.0, 1160.0, 747.0, 110.0, 100.0, 185.0, 189.0, 85.0, 135.0, 192.0, 563.0, 247.0, 140.0, 419.0, 145.0, 201.0, 379.0, 125.0, 76.0, 250.0, 94.0, 115.0, 80.0, 242.0, 225.0, 58.0, 125.0, 85.0, 390.0, 115.0, 105.0, 320.0, 400.0, 700.0, 89.0, 250.0, 139.0, 195.0, 150.0, 159.0, 159.0, 385.0, 159.0, 155.0, 275.0, 198.0, 250.0, 319.0, 599.0, 125.0, 130.0, 221.0, 190.0, 96.0, 500.0, 405.0, 221.0, 345.0, 174.0, 357.0, 100.0, 150.0, 395.0, 286.0, 150.0, 62.0, 119.0, 99.0, 130.0, 300.0, 100.0, 210.0, 300.0, 84.0, 251.0, 100.0, 108.0, 156.0, 126.0, 260.0, 149.0, 96.0, 300.0, 115.0, 260.0, 205.0, 400.0, 474.0, 300.0, 400.0, 170.0, 427.0, 214.0, 75.0, 76.0, 358.0, 150.0, 94.0, 110.0, 139.0, 150.0, 110.0, 45.0, 361.0, 250.0, 221.0, 164.0, 243.0, 162.0, 169.0, 264.0, 256.0, 116.0, 579.0, 900.0, 66.0, 140.0, 1024.0, 85.0, 441.0, 110.0, 190.0, 403.0, 109.0, 248.0, 170.0, 399.0, 71.0, 1790.0, 223.0, 168.0, 95.0, 190.0, 300.0, 471.0, 141.0, 475.0, 172.0, 125.0, 92.0, 232.0, 106.0, 200.0, 155.0, 270.0, 479.0, 190.0, 395.0, 125.0, 174.0, 85.0, 198.0, 600.0, 320.0, 169.0, 145.0, 350.0, 300.0, 169.0, 130.0, 95.0, 173.0, 179.0, 90.0, 93.0, 90.0, 58.0, 264.0, 180.0, 110.0, 459.0, 42.0, 275.0, 86.0, 364.0, 529.0, 155.0, 162.0, 176.0, 250.0, 122.0, 350.0, 425.0, 200.0, 149.0, 180.0, 186.0, 250.0, 169.0, 130.0, 106.0, 39.0, 90.0, 139.0, 175.0, 250.0, 175.0, 249.0, 174.0, 307.0, 256.0, 142.0, 185.0, 119.0, 150.0, 247.0, 200.0, 250.0, 110.0, 119.0, 310.0, 250.0, 150.0, 325.0, 170.0, 240.0, 433.0, 300.0, 348.0, 179.0, 185.0, 300.0, 199.0, 222.0, 300.0, 150.0, 95.0, 250.0, 240.0, 184.0, 68.0, 360.0, 104.0, 400.0, 204.0, 343.0, 300.0, 225.0, 150.0, 300.0, 167.0, 159.0, 234.0, 100.0, 102.0, 69.0, 275.0, 128.0, 400.0, 95.0, 250.0, 99.0, 279.0, 330.0, 119.0, 140.0, 140.0, 397.0, 260.0, 171.0, 300.0, 200.0, 200.0, 250.0, 275.0, 279.0, 156.0, 100.0, 147.0, 105.0, 145.0, 300.0, 140.0, 340.0, 300.0, 170.0, 209.0, 110.0, 95.0, 154.0, 236.0, 321.0, 100.0, 208.0, 250.0, 112.0, 210.0, 125.0, 140.0, 199.0, 395.0, 249.0, 150.0, 87.0, 494.0, 416.0, 500.0, 126.0, 282.0, 110.0, 280.0, 450.0, 158.0, 150.0, 330.0, 394.0, 45.0, 368.0, 404.0, 166.0, 275.0, 159.0, 299.0, 121.0, 389.0, 57.0, 275.0, 301.0, 150.0, 60.0, 290.0, 133.0, 150.0, 145.0, 95.0, 230.0, 120.0, 382.0, 350.0, 140.0, 275.0, 150.0, 184.0, 413.0, 525.0, 253.0, 100.0, 215.0, 140.0, 250.0, 150.0, 150.0, 250.0, 414.0, 76.0, 100.0, 185.0, 150.0, 65.0, 155.0, 179.0, 75.0, 501.0, 222.0, 338.0, 121.0, 94.0, 275.0, 234.0, 300.0, 119.0, 300.0, 281.0, 200.0, 171.0, 150.0, 277.0, 164.0, 229.0, 339.0, 300.0, 355.0, 285.0, 85.0, 199.0, 129.0, 218.0, 220.0, 123.0, 275.0, 190.0, 245.0, 390.0, 129.0, 182.0, 350.0, 134.0, 95.0, 140.0, 360.0, 219.0, 299.0, 99.0, 130.0, 440.0, 180.0, 140.0, 200.0, 330.0, 500.0, 265.0, 160.0, 135.0, 257.0, 100.0, 250.0, 200.0, 121.0, 550.0, 135.0, 389.0, 115.0, 265.0, 198.0, 200.0, 100.0, 145.0, 315.0, 220.0, 127.0, 139.0, 280.0, 600.0, 150.0, 300.0, 200.0, 220.0, 253.0, 200.0, 353.0, 85.0, 207.0, 335.0, 85.0, 349.0, 95.0, 175.0, 405.0, 224.0, 200.0, 71.0, 180.0, 100.0, 140.0, 600.0, 149.0, 200.0, 140.0, 250.0, 250.0, 150.0, 126.0, 250.0, 298.0, 109.0, 425.0, 380.0, 169.0, 289.0, 130.0, 375.0, 420.0, 130.0, 562.0, 1000.0, 154.0, 249.0, 106.0, 130.0, 230.0, 155.0, 800.0, 250.0, 150.0, 113.0, 176.0, 146.0, 95.0, 225.0, 99.0, 250.0, 150.0, 324.0, 200.0, 350.0, 129.0, 200.0, 153.0, 180.0, 146.0, 213.0, 150.0, 129.0, 375.0, 280.0, 95.0, 116.0, 155.0, 150.0, 812.0, 198.0, 180.0, 175.0, 257.0, 225.0, 100.0, 250.0, 434.0, 190.0, 270.0, 210.0, 155.0, 300.0, 295.0, 66.0, 180.0, 286.0, 221.0, 150.0, 85.0, 166.0, 195.0, 225.0, 120.0, 160.0, 80.0, 86.0, 99.0, 440.0, 375.0, 289.0, 279.0, 139.0, 448.0, 95.0, 103.0, 220.0, 2575.0, 120.0, 283.0, 277.0, 220.0, 261.0, 125.0, 71.0, 125.0, 160.0, 239.0, 250.0, 110.0, 199.0, 105.0, 69.0, 186.0, 149.0, 164.0, 275.0, 147.0, 175.0, 228.0, 135.0, 159.0, 269.0, 371.0, 256.0, 300.0, 733.0, 250.0, 195.0, 499.0, 240.0, 557.0, 165.0, 190.0, 111.0, 314.0, 165.0, 104.0, 106.0, 160.0, 200.0, 170.0, 125.0, 246.0, 747.0, 350.0, 150.0, 175.0, 318.0, 436.0, 370.0, 120.0, 94.0, 95.0, 250.0, 94.0, 85.0, 150.0, 125.0, 543.0, 200.0, 150.0, 250.0, 189.0, 200.0, 150.0, 240.0, 256.0, 470.0, 206.0, 143.0, 150.0, 307.0, 450.0, 75.0, 425.0, 99.0, 936.0, 375.0, 250.0, 425.0, 159.0, 200.0, 399.0, 160.0, 319.0, 68.0, 95.0, 250.0, 95.0, 160.0, 132.0, 250.0, 225.0, 90.0, 250.0, 149.0, 350.0, 643.0, 350.0, 550.0, 175.0, 99.0, 178.0, 219.0, 275.0, 161.0, 78.0, 42.0, 180.0, 200.0, 245.0, 595.0, 175.0, 150.0, 225.0, 189.0, 280.0, 326.0, 256.0, 170.0, 200.0, 205.0, 167.0, 90.0, 650.0, 102.0, 127.0, 500.0, 240.0, 85.0, 135.0, 156.0, 210.0, 145.0, 135.0, 250.0, 540.0, 119.0, 159.0, 382.0, 465.0, 175.0, 116.0, 205.0, 110.0, 110.0, 168.0, 368.0, 164.0, 171.0, 200.0, 200.0, 100.0, 195.0, 340.0, 200.0, 300.0, 295.0, 557.0, 250.0, 124.0, 300.0, 161.0, 155.0, 353.0, 230.0, 109.0, 250.0, 500.0, 99.0, 300.0, 120.0, 220.0, 250.0, 140.0, 250.0, 167.0, 100.0, 232.0, 150.0, 390.0, 342.0, 157.0, 249.0, 180.0, 325.0, 80.0, 285.0, 294.0, 274.0, 275.0, 200.0, 200.0, 149.0, 201.0, 188.0, 225.0, 95.0, 246.0, 175.0, 425.0, 73.0, 355.0, 70.0, 80.0, 175.0, 299.0, 175.0, 150.0, 202.0, 110.0, 122.0, 200.0, 150.0, 250.0, 398.0, 70.0, 175.0, 200.0, 179.0, 180.0, 194.0, 130.0, 271.0, 216.0, 95.0, 250.0, 123.0, 265.0, 189.0, 225.0, 204.0, 350.0, 100.0, 475.0, 189.0, 152.0, 160.0, 180.0, 208.0, 180.0, 196.0, 168.0, 149.0, 160.0, 237.0, 229.0, 125.0, 219.0, 350.0, 285.0, 115.0, 243.0, 99.0, 149.0, 170.0, 250.0, 50.0, 242.0, 99.0, 280.0, 170.0, 225.0, 275.0, 59.0, 118.0, 65.0, 350.0, 284.0, 205.0, 250.0, 120.0, 319.0, 119.0, 150.0, 140.0, 1250.0, 506.0, 220.0, 286.0, 240.0, 223.0, 256.0, 180.0, 150.0, 160.0, 285.0, 250.0, 900.0, 195.0, 90.0, 275.0, 200.0, 84.0, 324.0, 118.0, 238.0, 250.0, 613.0, 254.0, 172.0, 214.0, 275.0, 157.0, 200.0, 255.0, 288.0, 177.0, 317.0, 650.0, 154.0, 175.0, 250.0, 229.0, 170.0, 100.0, 325.0, 240.0, 478.0, 280.0, 447.0, 100.0, 200.0, 120.0, 190.0, 140.0, 400.0, 200.0, 200.0, 170.0, 100.0, 175.0, 350.0, 442.0, 49.0, 216.0, 175.0, 125.0, 149.0, 311.0, 200.0, 295.0, 1150.0, 60.0, 245.0, 50.0, 110.0, 155.0, 127.0, 143.0, 53.0, 142.0, 65.0, 336.0, 200.0, 191.0, 140.0, 260.0, 219.0, 500.0, 75.0, 75.0, 300.0, 175.0, 375.0, 80.0, 95.0, 280.0, 289.0, 271.0, 136.0, 150.0, 140.0, 151.0, 402.0, 186.0, 300.0, 150.0, 189.0, 271.0, 395.0, 150.0, 435.0, 226.0, 150.0, 134.0, 135.0, 220.0, 264.0, 300.0, 156.0, 371.0, 180.0, 168.0, 95.0, 150.0, 125.0, 140.0, 99.0, 80.0, 125.0, 125.0, 443.0, 250.0, 225.0, 200.0, 450.0, 250.0, 95.0, 250.0, 150.0, 200.0, 125.0, 110.0, 368.0, 220.0, 58.0, 120.0, 345.0, 240.0, 294.0, 445.0, 250.0, 119.0, 90.0, 130.0, 183.0, 125.0, 229.0, 115.0, 155.0, 160.0, 120.0, 61.0, 145.0, 185.0, 178.0, 371.0, 125.0, 350.0, 170.0, 175.0, 98.0, 185.0, 141.0, 270.0, 950.0, 568.0, 245.0, 165.0, 99.0, 250.0, 350.0, 90.0, 240.0, 461.0, 192.0, 300.0, 162.0, 275.0, 136.0, 185.0, 100.0, 125.0, 161.0, 202.0, 490.0, 500.0, 150.0, 135.0, 225.0, 128.0, 180.0, 139.0, 150.0, 99.0, 125.0, 100.0, 195.0, 95.0, 104.0, 199.0, 328.0, 190.0, 75.0, 120.0, 123.0, 220.0, 60.0, 59.0, 150.0, 80.0, 450.0, 405.0, 87.0, 600.0, 324.0, 106.0, 294.0, 310.0, 895.0, 195.0, 150.0, 293.0, 120.0, 200.0, 300.0, 421.0, 300.0, 112.0, 121.0, 457.0, 225.0, 298.0, 230.0, 400.0, 250.0, 160.0, 350.0, 121.0, 100.0, 220.0, 125.0, 179.0, 290.0, 75.0, 218.0, 172.0, 857.0, 350.0, 271.0, 219.0, 47.0, 300.0, 44.0, 132.0, 150.0, 500.0, 275.0, 70.0, 30.0, 335.0, 297.0, 302.0, 325.0, 91.0, 85.0, 200.0, 258.0, 550.0, 400.0, 159.0, 250.0, 150.0, 199.0, 100.0, 150.0, 250.0, 90.0, 99.0, 280.0, 150.0, 325.0, 345.0, 250.0, 300.0, 220.0, 130.0, 225.0, 350.0, 159.0, 89.0, 378.0, 225.0, 389.0, 200.0, 228.0, 304.0, 144.0, 475.0, 150.0, 115.0, 350.0, 139.0, 210.0, 300.0, 80.0, 200.0, 94.0, 94.0, 60.0, 336.0, 209.0, 348.0, 348.0, 570.0, 85.0, 250.0, 576.0, 165.0, 300.0, 578.0, 110.0, 70.0, 150.0, 119.0, 120.0, 75.0, 179.0, 295.0, 190.0, 115.0, 389.0, 234.0, 101.0, 90.0, 269.0, 159.0, 285.0, 250.0, 150.0, 345.0, 206.0, 469.0, 299.0, 110.0, 275.0, 1600.0, 275.0, 240.0, 395.0, 211.0, 100.0, 189.0, 90.0, 81.0, 459.0, 125.0, 189.0, 200.0, 139.0, 185.0, 100.0, 211.0, 329.0, 100.0, 600.0, 349.0, 149.0, 263.0, 275.0, 80.0, 215.0, 209.0, 200.0, 450.0, 350.0, 221.0, 290.0, 140.0, 204.0, 75.0, 749.0, 180.0, 334.0, 91.0, 550.0, 80.0, 450.0, 121.0, 234.0, 321.0, 220.0, 100.0, 202.0, 160.0, 393.0, 169.0, 200.0, 200.0, 150.0, 259.0, 350.0, 200.0, 125.0, 250.0, 346.0, 138.0, 220.0, 250.0, 535.0, 415.0, 265.0, 360.0, 355.0, 131.0, 120.0, 194.0, 299.0, 351.0, 360.0, 240.0, 373.0, 386.0, 400.0, 161.0, 118.0, 250.0, 100.0, 220.0, 380.0, 119.0, 75.0, 150.0, 750.0, 165.0, 153.0, 225.0, 271.0, 300.0, 375.0, 350.0, 275.0, 105.0, 350.0, 180.0, 262.0, 110.0, 230.0, 140.0, 296.0, 200.0, 400.0, 180.0, 225.0, 200.0, 379.0, 186.0, 97.0, 109.0, 249.0, 386.0, 180.0, 80.0, 536.0, 296.0, 175.0, 150.0, 364.0, 256.0, 155.0, 351.0, 370.0, 160.0, 152.0, 325.0, 366.0, 100.0, 130.0, 97.0, 67.0, 240.0, 72.0, 379.0, 656.0, 94.0, 80.0, 92.0, 159.0, 200.0, 71.0, 170.0, 500.0, 63.0, 210.0, 220.0, 188.0, 500.0, 160.0, 200.0, 395.0, 450.0, 250.0, 299.0, 200.0, 310.0, 107.0, 235.0, 362.0, 267.0, 60.0, 271.0, 322.0, 55.0, 750.0, 148.0, 305.0, 150.0, 339.0, 330.0, 100.0, 123.0, 314.0, 125.0, 150.0, 79.0, 75.0, 345.0, 150.0, 249.0, 170.0, 75.0, 70.0, 184.0, 201.0, 175.0, 200.0, 240.0, 375.0, 250.0, 90.0, 250.0, 490.0, 181.0, 76.0, 507.0, 18.0, 73.0, 18.0, 76.0, 80.0, 18.0, 18.0, 76.0, 670.0, 536.0, 195.0, 91.0, 82.0, 70.0, 144.0, 450.0, 222.0, 317.0, 222.0, 149.0, 200.0, 96.0, 135.0, 185.0, 329.0, 275.0, 299.0, 163.0, 107.0, 261.0, 160.0, 240.0, 295.0, 46.0, 250.0, 109.0, 200.0, 299.0, 304.0, 307.0, 373.0, 199.0, 219.0, 75.0, 96.0, 190.0, 317.0, 240.0, 296.0, 186.0, 150.0, 200.0, 221.0, 239.0, 250.0, 290.0, 246.0, 250.0, 150.0, 138.0, 250.0, 160.0, 400.0, 185.0, 450.0, 150.0, 109.0, 225.0, 607.0, 175.0, 144.0, 425.0, 160.0, 135.0, 225.0, 129.0, 55.0, 149.0, 140.0, 110.0, 96.0, 449.0, 120.0, 200.0, 250.0, 133.0, 230.0, 250.0, 130.0, 250.0, 165.0, 125.0, 120.0, 225.0, 200.0, 332.0, 373.0, 250.0, 270.0, 160.0, 375.0, 163.0, 88.0, 150.0, 204.0, 120.0, 50.0, 200.0, 144.0, 175.0, 300.0, 375.0, 345.0, 279.0, 750.0, 170.0, 75.0, 295.0, 525.0, 333.0, 235.0, 198.0, 250.0, 75.0, 199.0, 264.0, 450.0, 104.0, 122.0, 350.0, 178.0, 500.0, 139.0, 199.0, 175.0, 346.0, 171.0, 400.0, 302.0, 243.0, 495.0, 200.0, 121.0, 91.0, 99.0, 235.0, 200.0, 178.0, 469.0, 282.0, 115.0, 65.0, 220.0, 165.0, 85.0, 220.0, 300.0, 196.0, 206.0, 213.0, 358.0, 78.0, 120.0, 512.0, 180.0, 120.0, 165.0, 300.0, 180.0, 155.0, 115.0, 265.0, 229.0, 381.0, 225.0, 450.0, 250.0, 450.0, 150.0, 115.0, 153.0, 65.0, 225.0, 135.0, 420.0, 110.0, 350.0, 225.0, 89.0, 149.0, 100.0, 156.0, 199.0, 200.0, 154.0, 250.0, 204.0, 250.0, 125.0, 110.0, 120.0, 175.0, 200.0, 256.0, 120.0, 140.0, 174.0, 255.0, 1150.0, 412.0, 850.0, 210.0, 200.0, 250.0, 238.0, 150.0, 190.0, 330.0, 235.0, 250.0, 106.0, 335.0, 199.0, 120.0, 149.0, 215.0, 81.0, 150.0, 600.0, 190.0, 260.0, 300.0, 180.0, 121.0, 190.0, 275.0, 300.0, 115.0, 150.0, 90.0, 300.0, 150.0, 700.0, 695.0, 471.0, 325.0, 450.0, 73.0, 110.0, 150.0, 50.0, 80.0, 157.0, 471.0, 132.0, 130.0, 180.0, 200.0, 450.0, 220.0, 120.0, 175.0, 110.0, 200.0, 350.0, 130.0, 340.0, 160.0, 100.0, 300.0, 175.0, 175.0, 63.0, 165.0, 153.0, 354.0, 942.0, 307.0, 200.0, 195.0, 130.0, 150.0, 405.0, 70.0, 108.0, 185.0, 110.0, 450.0, 190.0, 240.0, 175.0, 436.0, 250.0, 567.0, 354.0, 200.0, 110.0, 55.0, 150.0, 220.0, 300.0, 237.0, 150.0, 133.0, 264.0, 300.0, 129.0, 150.0, 250.0, 264.0, 180.0, 335.0, 207.0, 75.0, 195.0, 125.0, 145.0, 143.0, 306.0, 221.0, 150.0, 299.0, 180.0, 240.0, 536.0, 110.0, 183.0, 250.0, 75.0, 295.0, 196.0, 200.0, 185.0, 280.0, 266.0, 242.0, 135.0, 73.0, 158.0, 150.0, 90.0, 227.0, 150.0, 350.0, 75.0, 101.0, 96.0, 170.0, 330.0, 249.0, 250.0, 350.0, 114.0, 160.0, 152.0, 220.0, 591.0, 250.0, 180.0, 375.0, 185.0, 180.0, 245.0, 150.0, 200.0, 295.0, 55.0, 320.0, 90.0, 400.0, 251.0, 325.0, 35.0, 200.0, 190.0, 160.0, 186.0, 120.0, 350.0, 67.0, 140.0, 300.0, 140.0, 425.0, 218.0, 170.0, 227.0, 56.0, 159.0, 53.0, 200.0, 120.0, 260.0, 600.0, 145.0, 93.0, 150.0, 200.0, 90.0, 112.0, 500.0, 100.0, 471.0, 289.0, 714.0, 350.0, 282.0, 300.0, 314.0, 250.0, 7900.0, 200.0, 180.0, 140.0, 150.0, 240.0, 250.0, 81.0, 350.0, 210.0, 185.0, 437.0, 144.0, 180.0, 91.0, 350.0, 361.0, 280.0, 299.0, 170.0, 250.0, 149.0, 60.0, 170.0, 104.0, 55.0, 280.0, 180.0, 239.0, 460.0, 275.0, 100.0, 236.0, 380.0, 195.0, 120.0, 503.0, 121.0, 199.0, 409.0, 131.0, 100.0, 58.0, 223.0, 168.0, 1246.0, 100.0, 171.0, 300.0, 212.0, 150.0, 132.0, 379.0, 185.0, 414.0, 120.0, 250.0, 250.0, 250.0, 74.0, 250.0, 333.0, 157.0, 249.0, 228.0, 84.0, 300.0, 261.0, 135.0, 55.0, 122.0, 240.0, 162.0, 165.0, 179.0, 250.0, 470.0, 210.0, 120.0, 480.0, 120.0, 354.0, 186.0, 95.0, 700.0, 96.0, 180.0, 305.0, 456.0, 250.0, 220.0, 299.0, 290.0, 626.0, 100.0, 208.0, 217.0, 203.0, 199.0, 219.0, 156.0, 249.0, 250.0, 99.0, 55.0, 350.0, 125.0, 350.0, 300.0, 175.0, 180.0, 143.0, 364.0, 1457.0, 250.0, 311.0, 233.0, 120.0, 128.0, 264.0, 275.0, 186.0, 80.0, 175.0, 110.0, 380.0, 425.0, 250.0, 151.0, 311.0, 400.0, 410.0, 225.0, 138.0, 210.0, 350.0, 581.0, 100.0, 58.0, 177.0, 186.0, 94.0, 250.0, 279.0, 190.0, 100.0, 150.0, 244.0, 514.0, 150.0, 130.0, 215.0, 99.0, 161.0, 550.0, 450.0, 178.0, 379.0, 410.0, 226.0, 330.0, 265.0, 330.0, 325.0, 185.0, 294.0, 175.0, 400.0, 115.0, 175.0, 160.0, 180.0, 175.0, 90.0, 189.0, 275.0, 350.0, 442.0, 573.0, 1222.0, 345.0, 107.0, 440.0, 180.0, 154.0, 190.0, 175.0, 225.0, 89.0, 160.0, 208.0, 256.0, 265.0, 303.0, 55.0, 353.0, 360.0, 499.0, 255.0, 101.0, 99.0, 450.0, 407.0, 250.0, 358.0, 265.0, 265.0, 350.0, 80.0, 309.0, 336.0, 137.0, 350.0, 190.0, 139.0, 174.0, 140.0, 500.0, 125.0, 220.0, 376.0, 250.0, 125.0, 169.0, 87.0, 1457.0, 112.0, 271.0, 564.0, 249.0, 222.0, 100.0, 149.0, 350.0, 175.0, 450.0, 450.0, 202.0, 220.0, 167.0, 150.0, 413.0, 343.0, 130.0, 133.0, 307.0, 499.0, 279.0, 321.0, 115.0, 200.0, 495.0, 141.0, 209.0, 239.0, 275.0, 319.0, 500.0, 185.0, 363.0, 375.0, 75.0, 202.0, 119.0, 146.0, 200.0, 425.0, 346.0, 214.0, 406.0, 375.0, 230.0, 350.0, 202.0, 253.0, 200.0, 165.0, 286.0, 203.0, 220.0, 130.0, 79.0, 82.0, 340.0, 127.0, 300.0, 355.0, 175.0, 249.0, 389.0, 325.0, 214.0, 259.0, 254.0, 250.0, 279.0, 400.0, 249.0, 42.0, 200.0, 125.0, 134.0, 170.0, 170.0, 180.0, 170.0, 303.0, 269.0, 275.0, 115.0, 226.0, 189.0, 320.0, 144.0, 160.0, 395.0, 325.0, 105.0, 292.0, 257.0, 135.0, 208.0, 221.0, 150.0, 250.0, 159.0, 250.0, 435.0, 329.0, 309.0, 204.0, 348.0, 250.0, 429.0, 300.0, 109.0, 421.0, 664.0, 679.0, 105.0, 889.0, 139.0, 350.0, 165.0, 106.0, 188.0, 160.0, 280.0, 400.0, 100.0, 275.0, 382.0, 250.0, 165.0, 350.0, 343.0, 180.0, 212.0, 368.0, 303.0, 450.0, 170.0, 1000.0, 192.0, 165.0, 170.0, 223.0, 170.0, 234.0, 399.0, 180.0, 60.0, 345.0, 509.0, 229.0, 413.0, 530.0, 150.0, 312.0, 334.0, 367.0, 128.0, 323.0, 399.0, 367.0, 65.0, 250.0, 150.0, 367.0, 378.0, 257.0, 334.0, 118.0, 378.0, 199.0, 500.0, 450.0, 260.0, 166.0, 211.0, 382.0, 211.0, 366.0, 287.0, 199.0, 211.0, 379.0, 200.0, 130.0, 280.0, 350.0, 129.0, 250.0, 165.0, 400.0, 299.0, 350.0, 225.0, 135.0, 237.0, 264.0, 211.0, 165.0, 357.0, 278.0, 180.0, 425.0, 200.0, 169.0, 149.0, 335.0, 199.0, 310.0, 256.0, 150.0, 374.0, 625.0, 191.0, 105.0, 81.0, 160.0, 276.0, 143.0, 313.0, 300.0, 201.0, 450.0, 95.0, 850.0, 317.0, 206.0, 43.0, 479.0, 324.0, 225.0, 123.0, 339.0, 160.0, 200.0, 307.0, 195.0, 100.0, 175.0, 150.0, 350.0, 172.0, 303.0, 175.0, 204.0, 130.0, 1500.0, 359.0, 140.0, 186.0, 192.0, 308.0, 234.0, 195.0, 599.0, 180.0, 175.0, 295.0, 75.0, 185.0, 84.0, 300.0, 178.0, 103.0, 245.0, 145.0, 628.0, 249.0, 114.0, 170.0, 516.0, 240.0, 354.0, 271.0, 185.0, 170.0, 160.0, 150.0, 105.0, 120.0, 389.0, 314.0, 170.0, 650.0, 115.0, 400.0, 175.0, 350.0, 225.0, 250.0, 90.0, 89.0, 310.0, 220.0, 535.0, 249.0, 296.0, 134.0, 420.0, 90.0, 300.0, 350.0, 484.0, 420.0, 149.0, 275.0, 94.0, 280.0, 145.0, 195.0, 499.0, 200.0, 99.0, 205.0, 100.0, 500.0, 450.0, 230.0, 330.0, 150.0, 96.0, 591.0, 249.0, 82.0, 110.0, 200.0, 700.0, 444.0, 128.0, 250.0, 326.0, 110.0, 446.0, 500.0, 250.0, 102.0, 186.0, 350.0, 209.0, 175.0, 195.0, 225.0, 300.0, 177.0, 166.0, 156.0, 600.0, 59.0, 265.0, 200.0, 395.0, 145.0, 150.0, 215.0, 120.0, 1399.0, 364.0, 330.0, 340.0, 157.0, 220.0, 150.0, 100.0, 161.0, 225.0, 249.0, 213.0, 450.0, 100.0, 386.0, 182.0, 270.0, 139.0, 198.0, 124.0, 90.0, 416.0, 243.0, 275.0, 365.0, 350.0, 400.0, 191.0, 370.0, 96.0, 52.0, 400.0, 160.0, 550.0, 144.0, 250.0, 503.0, 366.0, 220.0, 220.0, 100.0, 200.0, 370.0, 350.0, 250.0, 165.0, 340.0, 220.0, 160.0, 343.0, 324.0, 130.0, 180.0, 232.0, 250.0, 620.0, 175.0, 120.0, 80.0, 75.0, 270.0, 400.0, 260.0, 175.0, 151.0, 220.0, 200.0, 230.0, 150.0, 350.0, 220.0, 200.0, 150.0, 135.0, 199.0, 153.0, 364.0, 110.0, 150.0, 289.0, 370.0, 549.0, 350.0, 450.0, 250.0, 330.0, 275.0, 230.0, 450.0, 127.0, 350.0, 400.0, 232.0, 436.0, 200.0, 200.0, 195.0, 250.0, 70.0, 89.0, 314.0, 300.0, 300.0, 220.0, 250.0, 379.0, 400.0, 99.0, 150.0, 329.0, 170.0, 415.0, 160.0, 499.0, 280.0, 179.0, 133.0, 210.0, 507.0, 250.0, 250.0, 180.0, 166.0, 186.0, 91.0, 215.0, 255.0, 209.0, 299.0, 125.0, 154.0, 395.0, 295.0, 179.0, 376.0, 250.0, 520.0, 151.0, 200.0, 115.0, 160.0, 337.0, 110.0, 170.0, 130.0, 290.0, 130.0, 159.0, 175.0, 240.0, 381.0, 139.0, 70.0, 314.0, 153.0, 116.0, 595.0, 150.0, 325.0, 241.0, 150.0, 243.0, 200.0, 278.0, 210.0, 160.0, 375.0, 291.0, 280.0, 179.0, 275.0, 250.0, 502.0, 1643.0, 212.0, 557.0, 299.0, 270.0, 595.0, 350.0, 260.0, 275.0, 79.0, 360.0, 271.0, 164.0, 180.0, 216.0, 140.0, 450.0, 190.0, 395.0, 126.0, 379.0, 100.0, 101.0, 680.0, 365.0, 80.0, 593.0, 200.0, 329.0, 700.0, 138.0, 135.0, 69.0, 276.0, 170.0, 400.0, 110.0, 200.0, 200.0, 380.0, 280.0, 429.0, 180.0, 299.0, 100.0, 264.0, 285.0, 450.0, 420.0, 321.0, 295.0, 190.0, 239.0, 145.0, 248.0, 154.0, 85.0, 186.0, 340.0, 549.0, 149.0, 350.0, 110.0, 283.0, 250.0, 800.0, 150.0, 480.0, 230.0, 290.0, 807.0, 415.0, 130.0, 115.0, 559.0, 140.0, 165.0, 395.0, 420.0, 400.0, 399.0, 84.0, 272.0, 230.0, 114.0, 313.0, 400.0, 215.0, 230.0, 343.0, 200.0, 371.0, 230.0, 263.0, 200.0, 261.0, 259.0, 181.0, 275.0, 350.0, 267.0, 750.0, 150.0, 150.0, 255.0, 514.0, 276.0, 147.0, 200.0, 300.0, 200.0, 385.0, 213.0, 230.0, 395.0, 319.0, 188.0, 320.0, 500.0, 256.0, 800.0, 786.0, 350.0, 850.0, 240.0, 268.0, 179.0, 370.0, 195.0, 172.0, 775.0, 250.0, 250.0, 149.0, 160.0, 320.0, 299.0, 425.0, 180.0, 250.0, 134.0, 300.0, 821.0, 446.0, 200.0, 453.0, 86.0, 199.0, 180.0, 42.0, 150.0, 120.0, 400.0, 161.0, 169.0, 350.0, 225.0, 210.0, 143.0, 269.0, 139.0, 195.0, 300.0, 235.0, 200.0, 211.0, 350.0, 402.0, 450.0, 237.0, 215.0, 395.0, 250.0, 243.0, 160.0, 183.0, 843.0, 150.0, 300.0, 224.0, 175.0, 250.0, 350.0, 290.0, 60.0, 180.0, 120.0, 265.0, 261.0, 395.0, 267.0, 263.0, 400.0, 115.0, 154.0, 193.0, 301.0, 107.0, 350.0, 339.0, 279.0, 160.0, 450.0, 185.0, 505.0, 350.0, 190.0, 250.0, 200.0, 170.0, 180.0, 211.0, 457.0, 146.0, 200.0, 149.0, 329.0, 175.0, 489.0, 300.0, 199.0, 157.0, 175.0, 194.0, 130.0, 280.0, 250.0, 370.0, 470.0, 414.0, 300.0, 275.0, 229.0, 280.0, 137.0, 125.0, 290.0, 300.0, 473.0, 300.0, 180.0, 175.0, 525.0, 2000.0, 220.0, 115.0, 250.0, 550.0, 390.0, 275.0, 199.0, 481.0, 550.0, 200.0, 158.0, 156.0, 221.0, 160.0, 200.0, 377.0, 407.0, 200.0, 300.0, 300.0, 332.0, 183.0, 345.0, 475.0, 240.0, 150.0, 500.0, 400.0, 275.0, 150.0, 464.0, 200.0, 150.0, 299.0, 600.0, 500.0, 349.0, 550.0, 306.0, 250.0, 315.0, 250.0, 225.0, 195.0, 389.0, 390.0, 214.0, 514.0, 245.0, 263.0, 650.0, 247.0, 501.0, 175.0, 261.0, 350.0, 240.0, 261.0, 600.0, 185.0, 600.0, 126.0, 250.0, 210.0, 600.0, 360.0, 150.0, 350.0, 100.0, 130.0, 586.0, 220.0, 271.0, 197.0, 100.0, 250.0, 550.0, 244.0, 225.0, 199.0, 195.0, 500.0, 419.0, 500.0, 249.0, 216.0, 180.0, 176.0, 110.0, 319.0, 139.0, 240.0, 150.0, 220.0, 314.0, 318.0, 298.0, 163.0, 220.0, 429.0, 246.0, 215.0, 464.0, 255.0, 800.0, 190.0, 520.0, 400.0, 300.0, 150.0, 169.0, 180.0, 296.0, 260.0, 150.0, 249.0, 190.0, 586.0, 350.0, 257.0, 150.0, 230.0, 233.0, 201.0, 350.0, 1029.0, 283.0, 190.0, 137.0, 300.0, 240.0, 520.0, 218.0, 179.0, 135.0, 393.0, 280.0, 300.0, 463.0, 150.0, 300.0, 220.0, 793.0, 265.0, 185.0, 850.0, 200.0, 350.0, 200.0, 285.0, 300.0, 343.0, 188.0, 190.0, 379.0, 190.0, 304.0, 250.0, 180.0, 163.0, 163.0, 240.0, 275.0, 192.0, 204.0, 130.0, 171.0, 276.0, 450.0, 330.0, 180.0, 295.0, 446.0, 1536.0, 166.0, 171.0, 135.0, 436.0, 347.0, 600.0, 400.0, 189.0, 170.0, 181.0, 250.0, 189.0, 280.0, 350.0, 950.0, 250.0, 161.0, 150.0, 182.0, 845.0, 300.0, 350.0, 295.0, 129.0, 280.0, 400.0, 292.0, 249.0, 492.0, 267.0, 399.0, 195.0, 150.0, 140.0, 725.0, 613.0, 300.0, 420.0, 150.0, 442.0, 220.0, 206.0, 300.0, 250.0, 450.0, 189.0, 205.0, 353.0, 175.0, 160.0, 150.0, 145.0, 225.0, 240.0, 313.0, 220.0, 400.0, 190.0, 196.0, 125.0, 150.0, 250.0, 300.0, 285.0, 277.0, 750.0, 514.0, 599.0, 167.0, 499.0, 350.0, 250.0, 400.0, 200.0, 240.0, 314.0, 461.0, 185.0, 439.0, 120.0, 260.0, 200.0, 200.0, 349.0, 160.0, 396.0, 265.0, 195.0, 166.0, 189.0, 195.0, 272.0, 258.0, 226.0, 394.0, 50.0, 200.0, 285.0, 338.0, 427.0, 650.0, 350.0, 245.0, 150.0, 295.0, 350.0, 195.0, 493.0, 450.0, 350.0, 349.0, 799.0, 380.0, 382.0, 175.0, 170.0, 279.0, 375.0, 250.0, 180.0, 300.0, 217.0, 150.0, 244.0, 300.0, 207.0, 132.0, 220.0, 271.0, 139.0, 206.0, 393.0, 250.0, 275.0, 603.0, 261.0, 170.0, 219.0, 250.0, 99.0, 80.0, 180.0, 359.0, 250.0, 165.0, 557.0, 120.0, 582.0, 250.0, 70.0, 150.0, 145.0, 450.0, 280.0, 176.0, 207.0, 259.0, 125.0, 100.0, 68.0, 204.0, 210.0, 140.0, 299.0, 343.0, 250.0, 379.0, 360.0, 320.0, 166.0, 200.0, 180.0, 228.0, 185.0, 139.0, 100.0, 158.0, 67.0, 211.0, 295.0, 209.0, 175.0, 575.0, 300.0, 250.0, 250.0, 245.0, 300.0, 261.0, 325.0, 210.0, 351.0, 278.0, 256.0, 568.0, 699.0, 250.0, 450.0, 120.0, 725.0, 300.0, 240.0, 450.0, 300.0, 200.0, 259.0, 334.0, 300.0, 400.0, 230.0, 149.0, 375.0, 289.0, 190.0, 190.0, 200.0, 160.0, 118.0, 304.0, 300.0, 166.0, 229.0, 238.0, 150.0, 750.0, 250.0, 829.0, 250.0, 190.0, 244.0, 406.0, 1021.0, 326.0, 99.0, 375.0, 220.0, 103.0, 111.0, 149.0, 210.0, 1278.0, 226.0, 500.0, 399.0, 175.0, 160.0, 200.0, 630.0, 250.0, 168.0, 103.0, 193.0, 650.0, 196.0, 375.0, 300.0, 265.0, 298.0, 307.0, 590.0, 500.0, 200.0, 250.0, 199.0, 350.0, 464.0, 171.0, 190.0, 169.0, 129.0, 230.0, 239.0, 320.0, 150.0, 152.0, 237.0, 495.0, 276.0, 200.0, 350.0, 2500.0, 220.0, 595.0, 240.0, 425.0, 173.0, 384.0, 220.0, 275.0, 150.0, 228.0, 240.0, 250.0, 550.0, 288.0, 450.0, 220.0, 171.0, 154.0, 204.0, 100.0, 248.0, 318.0, 249.0, 232.0, 197.0, 223.0, 195.0, 124.0, 185.0, 382.0, 220.0, 400.0, 260.0, 400.0, 646.0, 225.0, 400.0, 400.0, 242.0, 300.0, 199.0, 200.0, 249.0, 321.0, 350.0, 535.0, 94.0, 385.0, 334.0, 177.0, 175.0, 350.0, 180.0, 200.0, 195.0, 414.0, 888.0, 186.0, 130.0, 241.0, 400.0, 175.0, 220.0, 1049.0, 201.0, 166.0, 215.0, 85.0, 450.0, 199.0, 650.0, 149.0, 149.0, 300.0, 174.0, 325.0, 220.0, 120.0, 559.0, 240.0, 250.0, 84.0, 350.0, 155.0, 275.0, 250.0, 264.0, 120.0, 257.0, 150.0, 400.0, 429.0, 250.0, 218.0, 100.0, 250.0, 74.0, 200.0, 275.0, 170.0, 400.0, 300.0, 150.0, 220.0, 680.0, 244.0, 300.0, 300.0, 500.0, 173.0, 221.0, 149.0, 220.0, 179.0, 275.0, 150.0, 206.0, 400.0, 105.0, 200.0, 280.0, 333.0, 320.0, 320.0, 350.0, 247.0, 464.0, 232.0, 279.0, 249.0, 255.0, 275.0, 380.0, 600.0, 63.0, 225.0, 305.0, 200.0, 335.0, 269.0, 200.0, 300.0, 179.0, 235.0, 277.0, 285.0, 287.0, 250.0, 378.0, 299.0, 199.0, 350.0, 130.0, 150.0, 141.0, 293.0, 135.0, 194.0, 300.0, 356.0, 195.0, 199.0, 855.0, 300.0, 300.0, 219.0, 236.0, 200.0, 393.0, 264.0, 263.0, 325.0, 170.0, 650.0, 220.0, 500.0, 175.0, 300.0, 432.0, 200.0, 300.0, 130.0, 200.0, 156.0, 238.0, 221.0, 350.0, 180.0, 550.0, 250.0, 300.0, 189.0, 127.0, 169.0, 200.0, 425.0, 350.0, 279.0, 227.0, 365.0, 140.0, 950.0, 211.0, 300.0, 250.0, 220.0, 750.0, 138.0, 123.0, 490.0, 170.0, 571.0, 201.0, 140.0, 65.0, 210.0, 300.0, 271.0, 310.0, 239.0, 250.0, 95.0, 249.0, 75.0, 130.0, 380.0, 275.0, 268.0, 700.0, 400.0, 714.0, 325.0, 300.0, 182.0, 471.0, 112.0, 479.0, 103.0, 280.0, 199.0, 199.0, 300.0, 135.0, 140.0, 165.0, 200.0, 200.0, 300.0, 320.0, 320.0, 450.0, 85.0, 197.0, 195.0, 450.0, 559.0, 450.0, 289.0, 267.0, 250.0, 220.0, 520.0, 286.0, 296.0, 250.0, 155.0, 212.0, 230.0, 203.0, 179.0, 190.0, 341.0, 485.0, 290.0, 200.0, 350.0, 300.0, 170.0, 314.0, 151.0, 220.0, 399.0, 296.0, 210.0, 520.0, 271.0, 446.0, 214.0, 175.0, 200.0, 312.0, 155.0, 123.0, 419.0, 330.0, 257.0, 190.0, 190.0, 190.0, 190.0, 288.0, 140.0, 199.0, 339.0, 140.0, 330.0, 246.0, 271.0, 184.0, 125.0, 198.0, 350.0, 280.0, 200.0, 177.0, 275.0, 270.0, 190.0, 370.0, 184.0, 300.0, 140.0, 353.0, 190.0, 250.0, 250.0, 165.0, 116.0, 370.0, 325.0, 175.0, 345.0, 199.0, 350.0, 187.0, 275.0, 135.0, 206.0, 229.0, 245.0, 210.0, 183.0, 423.0, 714.0, 107.0, 134.0, 400.0, 500.0, 1250.0, 245.0, 199.0, 212.0, 500.0, 160.0, 500.0, 404.0, 204.0, 600.0, 255.0, 449.0, 370.0, 140.0, 300.0, 185.0, 209.0, 379.0, 215.0, 250.0, 120.0, 200.0, 215.0, 428.0, 254.0, 152.0, 365.0, 150.0, 200.0, 250.0, 230.0, 113.0, 306.0, 56.0, 432.0, 70.0, 325.0, 299.0, 196.0, 450.0, 689.0, 377.0, 440.0, 350.0, 750.0, 547.0, 330.0, 649.0, 157.0, 389.0, 120.0, 255.0, 600.0, 187.0, 299.0, 102.0, 250.0, 230.0, 500.0, 155.0, 131.0, 185.0, 275.0, 215.0, 130.0, 285.0, 50.0, 343.0, 189.0, 236.0, 172.0, 150.0, 204.0, 350.0, 290.0, 300.0, 289.0, 325.0, 215.0, 187.0, 500.0, 355.0, 198.0, 550.0, 212.0, 220.0, 450.0, 149.0, 414.0, 132.0, 278.0, 235.0, 118.0, 184.0, 269.0, 420.0, 220.0, 215.0, 159.0, 212.0, 180.0, 140.0, 159.0, 300.0, 157.0, 250.0, 2083.0, 215.0, 224.0, 285.0, 210.0, 220.0, 169.0, 200.0, 250.0, 360.0, 219.0, 215.0, 400.0, 213.0, 150.0, 400.0, 399.0, 210.0, 200.0, 425.0, 260.0, 265.0, 125.0, 102.0, 261.0, 297.0, 200.0, 413.0, 120.0, 225.0, 325.0, 272.0, 220.0, 300.0, 241.0, 250.0, 195.0, 1000.0, 435.0, 300.0, 125.0, 179.0, 152.0, 117.0, 330.0, 749.0, 250.0, 374.0, 264.0, 184.0, 259.0, 144.0, 195.0, 346.0, 135.0, 214.0, 119.0, 308.0, 426.0, 102.0, 225.0, 750.0, 66.0, 75.0, 56.0, 230.0, 239.0, 478.0, 450.0, 312.0, 178.0, 364.0, 213.0, 217.0, 277.0, 350.0, 139.0, 499.0, 399.0, 693.0, 250.0, 286.0, 125.0, 177.0, 66.0, 250.0, 233.0, 128.0, 199.0, 406.0, 330.0, 400.0, 250.0, 250.0, 298.0, 172.0, 217.0, 348.0, 164.0, 227.0, 259.0, 180.0, 306.0, 306.0, 539.0, 550.0, 177.0, 356.0, 406.0, 339.0, 99.0, 106.0, 316.0]\n"
     ]
    }
   ],
   "source": [
    "# 2.4.8 Find outliers for the same column using a multiplier of 3.\n",
    "for column in columnNames:\n",
    "    outlierIndexes = FindOutlierRecordsBasedOnColumn(numericDf, column, 3)\n",
    "    print(\"\\nOutliers values in '\" + column + \"' column: \\n\", df2[\"price in $\"].loc[outlierIndexes].tolist())"
   ]
  },
  {
   "cell_type": "code",
   "execution_count": 40,
   "id": "f1988f3c",
   "metadata": {},
   "outputs": [
    {
     "name": "stdout",
     "output_type": "stream",
     "text": [
      "Total number of outliers in 'price in $' column:  71\n",
      "Total number of outliers in 'minimum_nights' column:  150\n",
      "Total number of outliers in 'availability_365' column:  0\n",
      "Total number of outliers in 'Rating' column:  59\n",
      "Total number of outliers in 'No_of_bed_rooms' column:  39\n",
      "Total number of outliers in 'No_of_beds' column:  39\n",
      "Total number of outliers in 'No_of_bathrooms' column:  101\n",
      "Total number of outliers in 'Bathroom_type' column:  5108\n"
     ]
    }
   ],
   "source": [
    "# 2.4.9 Display the new count of outliers in each selected column\n",
    "for column in columnNames:\n",
    "    outlierIndexes = FindOutlierRecordsBasedOnColumn(numericDf, column, 3)\n",
    "    print(\"Total number of outliers in '\"+ column + \"' column: \", len(outlierIndexes))"
   ]
  },
  {
   "cell_type": "raw",
   "id": "6bb49add",
   "metadata": {},
   "source": [
    "2.4.10 What do you think should be done with the outliers for each of the columns?\n",
    "(You are not required to actually remove them for this Homework).\n",
    "\n",
    "price in $:\n",
    "\n",
    "minimum_nights:\n",
    "\n",
    "Rating:\n"
   ]
  },
  {
   "cell_type": "markdown",
   "id": "a8144c46-0c57-411e-a3c7-d15b4fee4f7a",
   "metadata": {},
   "source": [
    "### 2.5. **Compute the Average Price for Each Type of Listing.**"
   ]
  },
  {
   "cell_type": "code",
   "execution_count": 41,
   "id": "a7cced60-c5ad-4567-99aa-251076ccc1ba",
   "metadata": {
    "tags": []
   },
   "outputs": [
    {
     "name": "stdout",
     "output_type": "stream",
     "text": [
      "['Private room' 'Entire home/apt' 'Shared room' 'Hotel room']\n"
     ]
    },
    {
     "data": {
      "text/plain": [
       "room_type\n",
       "Entire home/apt    267.956400\n",
       "Hotel room         195.833333\n",
       "Private room       163.124324\n",
       "Shared room        162.916667\n",
       "Name: price in $, dtype: float64"
      ]
     },
     "execution_count": 41,
     "metadata": {},
     "output_type": "execute_result"
    }
   ],
   "source": [
    "# 2.5.1 Group the data by 'room_type' and calculate the average price for each type\n",
    "print(df2.room_type.unique())\n",
    "\n",
    "averagedGroupedRoomType = df2.groupby([\"room_type\"])[\"price in $\"].mean()\n",
    "averagedGroupedRoomType"
   ]
  },
  {
   "cell_type": "code",
   "execution_count": 42,
   "id": "03510d93-19f3-48ec-9f1f-d84e0148fb79",
   "metadata": {
    "tags": []
   },
   "outputs": [
    {
     "data": {
      "image/png": "[encoded data removed]",
      "text/plain": [
       "<Figure size 640x480 with 1 Axes>"
      ]
     },
     "metadata": {},
     "output_type": "display_data"
    }
   ],
   "source": [
    "# 2.5.2 Plot and display the average price for each room type\n",
    "sns.barplot(averagedGroupedRoomType)\n",
    "plt.show()"
   ]
  },
  {
   "cell_type": "markdown",
   "id": "27dc4a6d",
   "metadata": {},
   "source": [
    "### 2.6. **How Many Listings Are There for Each Unique 'Apartment Type'?**"
   ]
  },
  {
   "cell_type": "code",
   "execution_count": 43,
   "id": "52a47b7a-0f56-4d02-98a5-82eb5ec643b6",
   "metadata": {
    "tags": []
   },
   "outputs": [
    {
     "data": {
      "text/plain": [
       "Apartment_type\n",
       "Rental unit           2448\n",
       "Condo                 1104\n",
       "Home                   449\n",
       "Townhouse              234\n",
       "Loft                   159\n",
       "Houseboat              154\n",
       "Bed and breakfast      130\n",
       "Boat                   102\n",
       "Serviced apartment      66\n",
       "Guest suite             51\n",
       "Hostel                  42\n",
       "Boutique hotel          40\n",
       "Hotel                   34\n",
       "Guesthouse              17\n",
       "Villa                   14\n",
       "Place to stay           12\n",
       "Vacation home           12\n",
       "casa particular         10\n",
       "Aparthotel               9\n",
       "Tiny home                6\n",
       "Cabin                    4\n",
       "Cottage                  2\n",
       "Chalet                   2\n",
       "Farm stay                1\n",
       "Earthen home             1\n",
       "Nature lodge             1\n",
       "Camper/RV                1\n",
       "Tower                    1\n",
       "Barn                     1\n",
       "Tent                     1\n",
       "Name: count, dtype: int64"
      ]
     },
     "execution_count": 43,
     "metadata": {},
     "output_type": "execute_result"
    }
   ],
   "source": [
    "# 2.6.1 Count the frequency of each unique 'Apartment_type'\n",
    "frequencyOfUniqueApartmentType = df2[\"Apartment_type\"].value_counts()\n",
    "frequencyOfUniqueApartmentType"
   ]
  },
  {
   "cell_type": "code",
   "execution_count": 44,
   "id": "aa3171de-3e64-424b-8e3f-d0d58fee3ebe",
   "metadata": {
    "tags": []
   },
   "outputs": [
    {
     "data": {
      "image/png": "[encoded data removed]",
      "text/plain": [
       "<Figure size 640x480 with 1 Axes>"
      ]
     },
     "metadata": {},
     "output_type": "display_data"
    },
    {
     "data": {
      "image/png": "[encoded data removed]",
      "text/plain": [
       "<Figure size 640x480 with 1 Axes>"
      ]
     },
     "metadata": {},
     "output_type": "display_data"
    }
   ],
   "source": [
    "# 2.6.2 Plot the frequency distribution of 'Apartment_type'\n",
    "sns.barplot(data= frequencyOfUniqueApartmentType)\n",
    "plt.xticks(rotation = 90)\n",
    "plt.show()\n",
    "\n",
    "\n",
    "sns.histplot(frequencyOfUniqueApartmentType, bins=50)\n",
    "plt.xticks(rotation = 90)\n",
    "plt.show()"
   ]
  },
  {
   "cell_type": "code",
   "execution_count": 45,
   "id": "4b4521c8",
   "metadata": {
    "tags": []
   },
   "outputs": [
    {
     "data": {
      "image/png": "[encoded data removed]",
      "text/plain": [
       "<Figure size 640x480 with 1 Axes>"
      ]
     },
     "metadata": {},
     "output_type": "display_data"
    },
    {
     "data": {
      "image/png": "[encoded data removed]",
      "text/plain": [
       "<Figure size 640x480 with 1 Axes>"
      ]
     },
     "metadata": {},
     "output_type": "display_data"
    }
   ],
   "source": [
    "# 2.6.3. Find, Plot, and Display the top 10 most common apartment types\n",
    "top10ApartmentTypes = frequencyOfUniqueApartmentType.head(10)\n",
    "\n",
    "sns.barplot(top10ApartmentTypes)\n",
    "plt.xticks(rotation = 90)\n",
    "plt.show()\n",
    "\n",
    "plt.pie(top10ApartmentTypes.values, labels= top10ApartmentTypes.index)\n",
    "plt.show()"
   ]
  },
  {
   "cell_type": "code",
   "execution_count": 46,
   "id": "4d8d7fd8-c71e-4dd2-9126-26966aed8e98",
   "metadata": {},
   "outputs": [
    {
     "data": {
      "image/png": "[encoded data removed]",
      "text/plain": [
       "<Figure size 640x480 with 1 Axes>"
      ]
     },
     "metadata": {},
     "output_type": "display_data"
    },
    {
     "data": {
      "image/png": "[encoded data removed]",
      "text/plain": [
       "<Figure size 640x480 with 1 Axes>"
      ]
     },
     "metadata": {},
     "output_type": "display_data"
    }
   ],
   "source": [
    "# 2.6.4 Find, Plot, and Display the bottom 5 least common apartment types\n",
    "last5ApartmentTypes = frequencyOfUniqueApartmentType.tail(5)\n",
    "last5ApartmentTypes\n",
    "\n",
    "sns.barplot(last5ApartmentTypes)\n",
    "plt.show()\n",
    "\n",
    "plt.pie(last5ApartmentTypes, labels= last5ApartmentTypes.index)\n",
    "plt.show()"
   ]
  },
  {
   "cell_type": "markdown",
   "id": "e5400d3c",
   "metadata": {},
   "source": [
    "### 2.7. **Identify the Top 5 Neighbourhoods with the Highest Average Listing Prices.**"
   ]
  },
  {
   "cell_type": "code",
   "execution_count": 49,
   "id": "0c573356-e266-4550-8cb7-895afacd1efc",
   "metadata": {
    "tags": []
   },
   "outputs": [
    {
     "name": "stdout",
     "output_type": "stream",
     "text": [
      "['Oostelijk Havengebied - Indische Buurt' 'De Pijp - Rivierenbuurt'\n",
      " 'Oud-Oost' 'Centrum-West' 'De Baarsjes - Oud-West' 'Centrum-Oost' 'Zuid'\n",
      " 'Bos en Lommer' 'Slotervaart' 'Noord-Oost' 'Westerpark' 'Watergraafsmeer'\n",
      " 'Buitenveldert - Zuidas' 'Oud-Noord' 'Bijlmer-Centrum'\n",
      " 'IJburg - Zeeburgereiland' 'Noord-West' 'Geuzenveld - Slotermeer'\n",
      " 'Osdorp' 'Gaasperdam - Driemond' 'De Aker - Nieuw Sloten' 'Bijlmer-Oost']\n"
     ]
    },
    {
     "data": {
      "text/plain": [
       "neighbourhood\n",
       "Centrum-West                332.298308\n",
       "Centrum-Oost                305.447601\n",
       "Zuid                        271.715134\n",
       "De Pijp - Rivierenbuurt     267.334606\n",
       "IJburg - Zeeburgereiland    262.265746\n",
       "Name: price in $, dtype: float64"
      ]
     },
     "execution_count": 49,
     "metadata": {},
     "output_type": "execute_result"
    }
   ],
   "source": [
    "# 2.7.1 Find the top 5 most expensive neighbourhoods based on average price\n",
    "averagedPriceBasedOnNeighbourhoods = df2.groupby(\"neighbourhood\")[\"price in $\"].mean()\n",
    "top5MostExpensiveNeighbourhoods = averagedPriceBasedOnNeighbourhoods.sort_values(ascending= False).head()\n",
    "top5MostExpensiveNeighbourhoods"
   ]
  },
  {
   "cell_type": "code",
   "execution_count": 50,
   "id": "606edc4e",
   "metadata": {},
   "outputs": [
    {
     "data": {
      "image/png": "[encoded data removed]",
      "text/plain": [
       "<Figure size 640x480 with 1 Axes>"
      ]
     },
     "metadata": {},
     "output_type": "display_data"
    },
    {
     "data": {
      "image/png": "[encoded data removed]",
      "text/plain": [
       "<Figure size 640x480 with 1 Axes>"
      ]
     },
     "metadata": {},
     "output_type": "display_data"
    }
   ],
   "source": [
    "# 2.7.2. Plot and display the top 5 most expensive neighbourhoods\n",
    "sns.barplot(top5MostExpensiveNeighbourhoods)\n",
    "plt.xticks(rotation = 90)\n",
    "plt.show()\n",
    "\n",
    "plt.pie(top5MostExpensiveNeighbourhoods.values, labels= top5MostExpensiveNeighbourhoods.index)\n",
    "plt.show()"
   ]
  }
 ],
 "metadata": {
  "kernelspec": {
   "display_name": "Python 3 (ipykernel)",
   "language": "python",
   "name": "python3"
  },
  "language_info": {
   "codemirror_mode": {
    "name": "ipython",
    "version": 3
   },
   "file_extension": ".py",
   "mimetype": "text/x-python",
   "name": "python",
   "nbconvert_exporter": "python",
   "pygments_lexer": "ipython3",
   "version": "3.12.4"
  }
 },
 "nbformat": 4,
 "nbformat_minor": 5
}
